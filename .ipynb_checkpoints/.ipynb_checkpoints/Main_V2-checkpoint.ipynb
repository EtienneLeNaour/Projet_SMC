{
 "cells": [
  {
   "cell_type": "code",
   "execution_count": 1,
   "metadata": {},
   "outputs": [],
   "source": [
    "import scipy.io\n",
    "import scipy.stats\n",
    "import pandas as pd\n",
    "import numpy as np\n",
    "import matplotlib.pyplot as plt"
   ]
  },
  {
   "cell_type": "code",
   "execution_count": 2,
   "metadata": {},
   "outputs": [
    {
     "ename": "FileNotFoundError",
     "evalue": "[Errno 2] No such file or directory: '/Users/etiennelenaour/Documents/Cours 19:20/Semestre 1/Monte Carlo/projet_HMM/car_park/Cp_16_05_01'",
     "output_type": "error",
     "traceback": [
      "\u001b[0;31m---------------------------------------------------------------------------\u001b[0m",
      "\u001b[0;31mFileNotFoundError\u001b[0m                         Traceback (most recent call last)",
      "\u001b[0;32m<ipython-input-2-561bb510a12c>\u001b[0m in \u001b[0;36m<module>\u001b[0;34m\u001b[0m\n\u001b[1;32m      1\u001b[0m \u001b[0;32mfrom\u001b[0m \u001b[0mos\u001b[0m \u001b[0;32mimport\u001b[0m \u001b[0mchdir\u001b[0m\u001b[0;34m\u001b[0m\u001b[0;34m\u001b[0m\u001b[0m\n\u001b[0;32m----> 2\u001b[0;31m \u001b[0mchdir\u001b[0m\u001b[0;34m(\u001b[0m\u001b[0;34m'/Users/etiennelenaour/Documents/Cours 19:20/Semestre 1/Monte Carlo/projet_HMM/car_park/Cp_16_05_01'\u001b[0m\u001b[0;34m)\u001b[0m\u001b[0;34m\u001b[0m\u001b[0;34m\u001b[0m\u001b[0m\n\u001b[0m",
      "\u001b[0;31mFileNotFoundError\u001b[0m: [Errno 2] No such file or directory: '/Users/etiennelenaour/Documents/Cours 19:20/Semestre 1/Monte Carlo/projet_HMM/car_park/Cp_16_05_01'"
     ]
    }
   ],
   "source": [
    "from os import chdir\n",
    "chdir('/Users/etiennelenaour/Documents/Cours 19:20/Semestre 1/Monte Carlo/projet_HMM/car_park/Cp_16_05_01')"
   ]
  },
  {
   "cell_type": "markdown",
   "metadata": {},
   "source": [
    "## experience 1"
   ]
  },
  {
   "cell_type": "markdown",
   "metadata": {},
   "source": [
    "### Bases de données GPS et vitesse"
   ]
  },
  {
   "cell_type": "code",
   "execution_count": 397,
   "metadata": {},
   "outputs": [],
   "source": [
    "#Telechargement des données pour l'experience 1 (qui sont sous forme de dictionnaire)\n",
    "exp_ind = 1\n",
    "gps1 = scipy.io.loadmat('juan{}_gps.mat'.format(exp_ind))\n",
    "sensors1 = scipy.io.loadmat('juan{}_etc.mat'.format(exp_ind))"
   ]
  },
  {
   "cell_type": "code",
   "execution_count": 398,
   "metadata": {},
   "outputs": [],
   "source": [
    "#Mise en forme en Data Frame\n",
    "gps_df = pd.DataFrame(gps1['GPS'], columns=gps1['GPSFieldsOrder'])\n",
    "sensors_df = pd.DataFrame(sensors1['SENSORS'], columns=sensors1['ETCFieldsOrder'])"
   ]
  },
  {
   "cell_type": "code",
   "execution_count": 399,
   "metadata": {},
   "outputs": [],
   "source": [
    "#Changement du nom des variables\n",
    "gps_df = pd.DataFrame(gps1['GPS'], columns = ['time', 'ts', 'lat', 'long', 'alti', 'course', 'speedOG', 'speedV', \n",
    "                                              'SgmLat', 'SgmLong', 'SgmAlti', 'mode', 'sats'])\n",
    "sensors_df = pd.DataFrame(sensors1['SENSORS'], columns = ['time', 'counts', 'accel', 'steer', 'brake', 'speed'])"
   ]
  },
  {
   "cell_type": "code",
   "execution_count": 400,
   "metadata": {},
   "outputs": [],
   "source": [
    "#Bien mettre en forme les données \n",
    "\n",
    "def readSensorData(sensors_df):\n",
    "    '''Velocity and steering'''\n",
    "    # Sensor params\n",
    "    KV1 = 0.024970 * (1 - 0.21)\n",
    "    KA1 = 0.00040 * (1 + 0)\n",
    "    KA0 = 2022\n",
    "    Kx1 = 1.0127\n",
    "    Kx2 = 0.0042\n",
    "    \n",
    "    time_sensors = sensors_df['time'].values / 1000.\n",
    "    steering = Kx1 * (sensors_df['steer'].values - KA0) * KA1 + Kx2 \n",
    "    velocity = KV1 * sensors_df['speed'].values\n",
    "    \n",
    "    return time_sensors, steering, velocity\n",
    "\n",
    "\n",
    "def readGPSData(gps_df):\n",
    "    '''Latitude and longtitude'''\n",
    "    # Reference point\n",
    "    LAT0  = -33.8884\n",
    "    LONG0 = 151.1948\n",
    "    \n",
    "    # Params (wtf is this sorcery)\n",
    "    a =  6378137.0\n",
    "    b  = a * (1 - 0.003352810664747)\n",
    "    kpi = np.pi / 180\n",
    "    cf = np.cos(LAT0 * kpi)\n",
    "    sf = np.abs(np.sin(LAT0 * kpi))\n",
    "    Ro = a ** 2 * cf / np.abs(np.sqrt((a *cf) ** 2 + (b * sf) ** 2))  ;\n",
    "    RR = b / a  * np.abs(np.sqrt(a ** 2- Ro ** 2)) / sf ;\n",
    "    \n",
    "    time_gps = gps_df['time'].values / 1000.\n",
    "    latitude = - RR * kpi * (gps_df['lat'].values + LAT0)\n",
    "    longtitude = Ro * kpi * (gps_df['long'].values - LONG0)\n",
    "    \n",
    "    return time_gps, latitude, longtitude"
   ]
  },
  {
   "cell_type": "code",
   "execution_count": 401,
   "metadata": {},
   "outputs": [],
   "source": [
    "def scanData():\n",
    "    '''\n",
    "    Pour avoir le temps, le sensor et l'indice de chaque mesure qui arrive\n",
    "    Au temps time[i] on a une mesure de sensor[i]\n",
    "    (1 si gps, 2 si steering et velocity)\n",
    "    dans l'indice index[i] du tableau correspondant\n",
    "    '''\n",
    "    time_sensors, steering, velocity = readSensorData(sensors_df)\n",
    "    time_gps, latitude, longtitude = readGPSData(gps_df)\n",
    "    \n",
    "    times = [(1, i, time) for i, time in enumerate(time_gps)]\n",
    "    times.extend([(2, i, time) for i, time in enumerate(time_sensors)])\n",
    "\n",
    "    times = np.array(sorted(times, key=lambda u: u[2]))\n",
    "    time, sensor, index = times[:, 2], times[:, 0], times[:, 1].astype(int)\n",
    "    return time, sensor, index"
   ]
  },
  {
   "cell_type": "code",
   "execution_count": 402,
   "metadata": {},
   "outputs": [],
   "source": [
    "#Construction des bases de données finales \n",
    "GPSData = pd.DataFrame(readGPSData(gps_df), ['times_GPS', 'latitude', 'longitude']).T\n",
    "SensorData = pd.DataFrame(readSensorData(sensors_df), ['time_sensors', 'steering', 'velocity']).T"
   ]
  },
  {
   "cell_type": "code",
   "execution_count": 403,
   "metadata": {},
   "outputs": [
    {
     "data": {
      "text/html": [
       "<div>\n",
       "<style scoped>\n",
       "    .dataframe tbody tr th:only-of-type {\n",
       "        vertical-align: middle;\n",
       "    }\n",
       "\n",
       "    .dataframe tbody tr th {\n",
       "        vertical-align: top;\n",
       "    }\n",
       "\n",
       "    .dataframe thead th {\n",
       "        text-align: right;\n",
       "    }\n",
       "</style>\n",
       "<table border=\"1\" class=\"dataframe\">\n",
       "  <thead>\n",
       "    <tr style=\"text-align: right;\">\n",
       "      <th></th>\n",
       "      <th>times_GPS</th>\n",
       "      <th>latitude</th>\n",
       "      <th>longitude</th>\n",
       "    </tr>\n",
       "  </thead>\n",
       "  <tbody>\n",
       "    <tr>\n",
       "      <th>0</th>\n",
       "      <td>851.227</td>\n",
       "      <td>-5.707890</td>\n",
       "      <td>6.615680</td>\n",
       "    </tr>\n",
       "    <tr>\n",
       "      <th>1</th>\n",
       "      <td>851.428</td>\n",
       "      <td>-5.709734</td>\n",
       "      <td>6.615680</td>\n",
       "    </tr>\n",
       "    <tr>\n",
       "      <th>2</th>\n",
       "      <td>851.628</td>\n",
       "      <td>-5.702355</td>\n",
       "      <td>6.614138</td>\n",
       "    </tr>\n",
       "    <tr>\n",
       "      <th>3</th>\n",
       "      <td>851.828</td>\n",
       "      <td>-5.700510</td>\n",
       "      <td>6.615680</td>\n",
       "    </tr>\n",
       "    <tr>\n",
       "      <th>4</th>\n",
       "      <td>852.028</td>\n",
       "      <td>-5.702355</td>\n",
       "      <td>6.615680</td>\n",
       "    </tr>\n",
       "  </tbody>\n",
       "</table>\n",
       "</div>"
      ],
      "text/plain": [
       "   times_GPS  latitude  longitude\n",
       "0    851.227 -5.707890   6.615680\n",
       "1    851.428 -5.709734   6.615680\n",
       "2    851.628 -5.702355   6.614138\n",
       "3    851.828 -5.700510   6.615680\n",
       "4    852.028 -5.702355   6.615680"
      ]
     },
     "execution_count": 403,
     "metadata": {},
     "output_type": "execute_result"
    }
   ],
   "source": [
    "GPSData.head()"
   ]
  },
  {
   "cell_type": "code",
   "execution_count": 404,
   "metadata": {},
   "outputs": [
    {
     "data": {
      "text/html": [
       "<div>\n",
       "<style scoped>\n",
       "    .dataframe tbody tr th:only-of-type {\n",
       "        vertical-align: middle;\n",
       "    }\n",
       "\n",
       "    .dataframe tbody tr th {\n",
       "        vertical-align: top;\n",
       "    }\n",
       "\n",
       "    .dataframe thead th {\n",
       "        text-align: right;\n",
       "    }\n",
       "</style>\n",
       "<table border=\"1\" class=\"dataframe\">\n",
       "  <thead>\n",
       "    <tr style=\"text-align: right;\">\n",
       "      <th></th>\n",
       "      <th>time_sensors</th>\n",
       "      <th>steering</th>\n",
       "      <th>velocity</th>\n",
       "    </tr>\n",
       "  </thead>\n",
       "  <tbody>\n",
       "    <tr>\n",
       "      <th>0</th>\n",
       "      <td>851.292</td>\n",
       "      <td>0.064557</td>\n",
       "      <td>0.0</td>\n",
       "    </tr>\n",
       "    <tr>\n",
       "      <th>1</th>\n",
       "      <td>851.317</td>\n",
       "      <td>0.064962</td>\n",
       "      <td>0.0</td>\n",
       "    </tr>\n",
       "    <tr>\n",
       "      <th>2</th>\n",
       "      <td>851.342</td>\n",
       "      <td>0.064557</td>\n",
       "      <td>0.0</td>\n",
       "    </tr>\n",
       "    <tr>\n",
       "      <th>3</th>\n",
       "      <td>851.367</td>\n",
       "      <td>0.064557</td>\n",
       "      <td>0.0</td>\n",
       "    </tr>\n",
       "    <tr>\n",
       "      <th>4</th>\n",
       "      <td>851.392</td>\n",
       "      <td>0.064557</td>\n",
       "      <td>0.0</td>\n",
       "    </tr>\n",
       "  </tbody>\n",
       "</table>\n",
       "</div>"
      ],
      "text/plain": [
       "   time_sensors  steering  velocity\n",
       "0       851.292  0.064557       0.0\n",
       "1       851.317  0.064962       0.0\n",
       "2       851.342  0.064557       0.0\n",
       "3       851.367  0.064557       0.0\n",
       "4       851.392  0.064557       0.0"
      ]
     },
     "execution_count": 404,
     "metadata": {},
     "output_type": "execute_result"
    }
   ],
   "source": [
    "SensorData.head()"
   ]
  },
  {
   "cell_type": "markdown",
   "metadata": {},
   "source": [
    "## Petites visualisations"
   ]
  },
  {
   "cell_type": "code",
   "execution_count": 405,
   "metadata": {},
   "outputs": [
    {
     "data": {
      "text/plain": [
       "<matplotlib.legend.Legend object at 0x1a2f315438>"
      ]
     },
     "execution_count": 405,
     "metadata": {},
     "output_type": "execute_result"
    },
    {
     "data": {
      "image/png": "[encoded data removed]",
      "text/plain": [
       "<Figure size 432x288 with 1 Axes>"
      ]
     },
     "metadata": {
      "needs_background": "light"
     },
     "output_type": "display_data"
    }
   ],
   "source": [
    "time_gps, latitude, longtitude = readGPSData(gps_df)\n",
    "plt.plot(time_gps, latitude, label='latitude')\n",
    "plt.plot(time_gps, longtitude, label='longtitude')\n",
    "plt.legend()"
   ]
  },
  {
   "cell_type": "code",
   "execution_count": 406,
   "metadata": {},
   "outputs": [
    {
     "data": {
      "text/plain": [
       "[<matplotlib.lines.Line2D object at 0x1a2ed88940>]"
      ]
     },
     "execution_count": 406,
     "metadata": {},
     "output_type": "execute_result"
    },
    {
     "data": {
      "image/png": "[encoded data removed]",
      "text/plain": [
       "<Figure size 432x288 with 1 Axes>"
      ]
     },
     "metadata": {
      "needs_background": "light"
     },
     "output_type": "display_data"
    }
   ],
   "source": [
    "plt.plot(latitude, longtitude)"
   ]
  },
  {
   "cell_type": "code",
   "execution_count": 407,
   "metadata": {},
   "outputs": [
    {
     "data": {
      "text/plain": [
       "<matplotlib.legend.Legend object at 0x1a2ed3b2b0>"
      ]
     },
     "execution_count": 407,
     "metadata": {},
     "output_type": "execute_result"
    },
    {
     "data": {
      "image/png": "[encoded data removed]",
      "text/plain": [
       "<Figure size 432x288 with 1 Axes>"
      ]
     },
     "metadata": {
      "needs_background": "light"
     },
     "output_type": "display_data"
    }
   ],
   "source": [
    "time_sensors, steering, velocity = readSensorData(sensors_df)\n",
    "plt.plot(time_sensors, steering, label='steering')\n",
    "plt.plot(time_sensors, velocity, label='velocity')\n",
    "plt.legend()"
   ]
  },
  {
   "cell_type": "markdown",
   "metadata": {},
   "source": [
    "### Quelques probas / generateurs aleatoires utiles:"
   ]
  },
  {
   "cell_type": "code",
   "execution_count": 408,
   "metadata": {},
   "outputs": [],
   "source": [
    "from scipy.stats import dirichlet, multivariate_normal, beta"
   ]
  },
  {
   "cell_type": "code",
   "execution_count": 447,
   "metadata": {},
   "outputs": [],
   "source": [
    "# Parametres pour le modele de transition (partie bruit)\n",
    "timestep = (time_sensors[-1] - time_sensors[0]) / (len(time_sensors) - 1)\n",
    "noise_measures = np.zeros((len(time_sensors) - 2, 2))\n",
    "# Derivee de la vitesse\n",
    "noise_measures[:, 0] = (velocity[1:-1] - velocity[:-2]) / timestep\n",
    "# Derivee seconde de beta\n",
    "noise_measures[:, 1] = (steering[2:] - 2 * steering[1:-1] + steering[:-2]) / (timestep ** 2)\n",
    "\n",
    "#Covariance comme esperance\n",
    "noise_cov = noise_measures.T @ noise_measures / (len(time_sensors) - 2)\n",
    "noise_mean = np.zeros(2)"
   ]
  },
  {
   "cell_type": "markdown",
   "metadata": {},
   "source": [
    "Petites sous-fonctions de l'algo final à compléter :"
   ]
  },
  {
   "cell_type": "code",
   "execution_count": 448,
   "metadata": {},
   "outputs": [],
   "source": [
    "def q_alpha(alpha_1_prev, c_t, sigma_t) :\n",
    "    '''\n",
    "    === ÉQUATION 26 page 11 ===\n",
    "    Ici, alpha1 est dans {0, 1}. Par l'article, la loi de Dirichlet est réduite\n",
    "    à une loi beta.\n",
    "    '''\n",
    "#     alpha_prime_prev = np.empty(2)\n",
    "#     alpha_prime_prev[0] = (sigma_t * alpha_1_prev[0] + (c == 0)) / (sigma_t + 1)\n",
    "#     alpha_prime_prev[1] = (sigma_t * alpha_1_prev[1] + (c == 1)) / (sigma_t + 1)\n",
    "    \n",
    "#     rv = dirichlet((1 + sigma_t) * alpha_prime_prev)\n",
    "\n",
    "    rv = beta(sigma_t * alpha_1_prev + (c == 0))\n",
    "    \n",
    "    sampled = rv.rvs()\n",
    "    proba = rv.pdf(sampled)\n",
    "    \n",
    "    \n",
    "    \n",
    "    return sampled, proba"
   ]
  },
  {
   "cell_type": "code",
   "execution_count": 449,
   "metadata": {},
   "outputs": [],
   "source": [
    "var_gps = 1\n",
    "var_sensors = {'beta': 0.2, 'v': 0.1}\n",
    "\n",
    "p0_z1 = lambda u: 1e-3 # Uniforme sur un grand intervalle\n",
    "# Etat de \"mauvais\" fonctionnement du gps\n",
    "\n",
    "h1 = lambda state: [state['x'], state['y']]\n",
    "\n",
    "S = var_gps * np.diag(2 * np.ones(2)) # + ?\n",
    "# Je dirais = 0 parce que le gradient est nul\n",
    "# puisque x et y ne dependent du noise qu'au 2nd ordre\n",
    "\n",
    "def q_c1(x_pred, S1, alpha1, z1) :\n",
    "    '''\n",
    "    === ÉQUATION 29 page 11 === \n",
    "    '''\n",
    "    # Probabilite que c_{1, t} = 0:\n",
    "    p_c_0 = alpha1 *  p0_z1(z1) / (alpha1 *  p0_z1(z1) + (1 - alpha) * multivariate_normal.pdf(z1, h1(x_pred), S1))\n",
    "    sampled = np.random.binomial(1, p_c_0)\n",
    "    return sampled, p_c_0 if sampled == 0 else 1 - p_c_0\n"
   ]
  },
  {
   "cell_type": "code",
   "execution_count": 450,
   "metadata": {},
   "outputs": [],
   "source": [
    "# Attention a ca, la densite indiquee dans l'article est bizarre\n",
    "def q_sigma1 (s1, sigma1_new, sigma1, alpha1_new, alpha1) :\n",
    "    '''\n",
    "    === ÉQUATION 28 page 11 ===\n",
    "    La formule est donnée avec un log.\n",
    "    Pas de s1 = sigma_{1, t}^alpha ? \n",
    "    '''\n",
    "    lambda_a = 1 * np.random.randn(1) # définir la variance de lambda^alpha, c'est un bruit blanc gaussien\n",
    "    numerateur = np.random.dirichlet(sigma1_new * alpha1) * (lambda_a * np.random.randn(1) + np.log(sigma1))\n",
    "    denominateur = np.random.dirichlet(sigma1 * alpha1)\n",
    "    return numerateur / denominateur"
   ]
  },
  {
   "cell_type": "code",
   "execution_count": 451,
   "metadata": {},
   "outputs": [],
   "source": [
    "def initilisation_pf(N): #on initialise avec des uniformes sur les espaces de vie des variables\n",
    "    stretch = 1.02\n",
    "    \n",
    "    x_min, x_max = np.min(stretch * latitude), np.max(stretch * latitude)\n",
    "    y_min, y_max = np.min(stretch * longtitude), np.max(stretch * longtitude)\n",
    "    v_max = np.max(stretch * velocity)\n",
    "    beta_min, beta_max = np.min(stretch * steering), np.max(stretch * steering)\n",
    "    beta_dot = (steering[1:] - steering[:-1]) / (time_sensors[1:] - time_sensors[:-1])\n",
    "    beta_dot_min, beta_dot_max = np.min(stretch * beta_dot), np.max(beta_dot)\n",
    "    \n",
    "    init_state = {\n",
    "        'x': np.random.uniform(low=x_min, high=x_max, size=N),\n",
    "        'y': np.random.uniform(low=y_min, high=y_max, size=N),\n",
    "        'v': np.random.uniform(low=0, high=v_max, size=N),\n",
    "        'psi': np.random.uniform(low=0, high=2*np.pi, size=N),\n",
    "        'beta': np.random.uniform(low=beta_min, high=beta_max, size=N),\n",
    "        'beta_dot': np.random.uniform(low=beta_dot_min, high=beta_dot_max, size=N)\n",
    "    }\n",
    "    init_sensor_state = {\n",
    "        'sigma': np.exp(np.random.normal(0, 1, size=N)), # c'est un peu arbitraire, si vous avez mieux hesitez pas\n",
    "        'alpha': np.exp(np.random.normal(0, 1, size=N)),\n",
    "    }\n",
    "    init_poids = np.ones(N) / N\n",
    "    \n",
    "    return init_state, init_sensor_state, init_poids   "
   ]
  },
  {
   "cell_type": "code",
   "execution_count": 724,
   "metadata": {},
   "outputs": [],
   "source": [
    "# Geometric constants\n",
    "L = 2.83\n",
    "H = 0.76\n",
    "a = 3.78\n",
    "b = 0.5\n",
    "\n",
    "def transition_model(current_state, dt, with_noise=True):\n",
    "    '''return the state transition model taking into\n",
    "    account he state noise (v' and beta'')'''\n",
    "    # Retrieve initial states\n",
    "    x = current_state['x']\n",
    "    y = current_state['y']\n",
    "    v = current_state['v']\n",
    "\n",
    "    psi = current_state['psi']\n",
    "    beta = current_state['beta']\n",
    "    beta_dot = current_state['beta_dot']\n",
    "    \n",
    "    # Next states\n",
    "    next_state = dict()\n",
    "    next_state['x'] = x + dt * v * (np.cos(psi) + (- a * np.sin(psi) + b * np.cos(psi)) * np.tan(beta) / L)\n",
    "    next_state['y'] = y + dt * v * (np.sin(psi) + (a * np.cos(psi) + b * np.sin(psi)) * np.tan(beta) / L)\n",
    "    next_state['v'] = v\n",
    "    \n",
    "    next_state['psi'] = psi + dt * v * np.tan(beta) / L\n",
    "    next_state['beta'] = beta + dt * beta_dot\n",
    "    next_state['beta_dot'] = beta_dot\n",
    "    \n",
    "    if with_noise:\n",
    "        state_noise = np.random.multivariate_normal(noise_mean, noise_cov, size=x.shape[0])\n",
    "        next_state['v'] += dt * state_noise[:, 0]\n",
    "        next_state['beta_dot'] += dt * state_noise[:, 1]\n",
    "\n",
    "    return next_state"
   ]
  },
  {
   "cell_type": "code",
   "execution_count": 725,
   "metadata": {},
   "outputs": [
    {
     "data": {
      "text/plain": [
       "1040"
      ]
     },
     "execution_count": 725,
     "metadata": {},
     "output_type": "execute_result"
    }
   ],
   "source": [
    "len(latitude)"
   ]
  },
  {
   "cell_type": "code",
   "execution_count": 775,
   "metadata": {},
   "outputs": [],
   "source": [
    "\n",
    "\n",
    "def update_model(N, weights, update_GPS, measures, particles):    \n",
    "    #Cas GPS\n",
    "    if update_GPS:\n",
    "        erreur_mesure_x = particles['x'] - measures['x'] \n",
    "        erreur_mesure_y = particles['y'] - measures['y']\n",
    "        for i in range(N): #mise à jour des poids\n",
    "            weights[i] *= scipy.stats.norm(0, 0.2).pdf(erreur_mesure_x[i])\n",
    "            weights[i] *= scipy.stats.norm(0, 0.2).pdf(erreur_mesure_y[i])\n",
    "\n",
    "    #Cas sensors   \n",
    "    else:\n",
    "        erreur_mesure_beta = ((particles['beta'] - measures['beta']) + np.pi) % (2 * np.pi) - np.pi\n",
    "        erreur_mesure_v = particles['v'] - measures['v']                                  \n",
    "        for i in range(N): #mise à jour des poids\n",
    "            weights[i] *= 1\n",
    "            #scipy.stats.norm(0, 0.1).pdf(erreur_mesure_v[i]) * scipy.stats.norm(0, 0.002).pdf(erreur_mesure_beta[i])\n",
    "                          \n",
    "    \n",
    "    weights += 1e-300 # Eviter les divisions par 0\n",
    "    weights /= sum(weights) # normalize\n",
    "    \n",
    "        \n",
    "    return weights\n",
    "        \n"
   ]
  },
  {
   "cell_type": "code",
   "execution_count": 776,
   "metadata": {},
   "outputs": [],
   "source": [
    "def simple_resample(N, particles, weights):\n",
    "    cumulative_sum = np.cumsum(weights)\n",
    "    cumulative_sum[-1] = 1. # avoid round-off error\n",
    "    indexes = np.searchsorted(cumulative_sum, np.random.uniform(0, 1, size=N))\n",
    "    # resample according to indexes\n",
    "    particles = {key: particles[key][indexes] for key in particles}\n",
    "    weights.fill(1.0 / N)\n",
    "    return particles, weights\n",
    "    "
   ]
  },
  {
   "cell_type": "code",
   "execution_count": 807,
   "metadata": {},
   "outputs": [],
   "source": [
    "def resample_v2(N, particles, weights):\n",
    "    \n",
    "    weights_index_sort = np.argsort(weights)\n",
    "    index_particles_alive = weights_index_sort[int(0.7*N) :] #cut the tab\n",
    "    len_tab_cut = len(index_particles_alive)\n",
    "    \n",
    "    \n",
    "    for ii in range(N - len_tab_cut):\n",
    "        index_particles_alive = np.append(index_particles_alive, \n",
    "                                          index_particles_alive[np.random.randint(0, len_tab_cut)])\n",
    "        \n",
    "    \n",
    "    new_particles = particles = {key: particles[key][index_particles_alive] for key in particles}\n",
    "    weights.fill(1.0 / N)\n",
    "    \n",
    "    print('Le nombre de particules en vie est de :', len(np.unique(new_particles['x'])))\n",
    "    \n",
    "    return new_particles, weights"
   ]
  },
  {
   "cell_type": "code",
   "execution_count": 808,
   "metadata": {},
   "outputs": [],
   "source": [
    "def predictions(weights, particles): #Renvoi la prédiction de l'état à chaque temps\n",
    "    tab_predict = [sum(particles['x'] * weights), sum(particles['y'] * weights), sum(particles['v'] * weights), \n",
    "     sum(particles['beta'] * weights)]\n",
    "    \n",
    "    return tab_predict"
   ]
  },
  {
   "cell_type": "code",
   "execution_count": 809,
   "metadata": {},
   "outputs": [],
   "source": [
    "#Le vecteur temps\n",
    "time_sensors, steering, velocity = readSensorData(sensors_df)\n",
    "time_gps, latitude, longtitude = readGPSData(gps_df)\n",
    "time, sensor, index = scanData()"
   ]
  },
  {
   "cell_type": "code",
   "execution_count": 810,
   "metadata": {},
   "outputs": [
    {
     "name": "stdout",
     "output_type": "stream",
     "text": [
      "Pour 200 unités de temps nous avons : 23 mesures GPS\n"
     ]
    },
    {
     "data": {
      "text/plain": [
       "[<matplotlib.lines.Line2D object at 0x1a3e7d7278>]"
      ]
     },
     "execution_count": 810,
     "metadata": {},
     "output_type": "execute_result"
    },
    {
     "data": {
      "image/png": "[encoded data removed]",
      "text/plain": [
       "<Figure size 432x288 with 1 Axes>"
      ]
     },
     "metadata": {
      "needs_background": "light"
     },
     "output_type": "display_data"
    }
   ],
   "source": [
    "#Concentrons nous sur une période de temps plus courte\n",
    "\n",
    "time_short = time[:200]\n",
    "list_longi = list()\n",
    "list_lati = list()\n",
    "\n",
    "for i in range(len(time_short)):\n",
    "\n",
    "        update_GPS = sensor[i] == 1\n",
    "        if update_GPS:\n",
    "            list_lati.append(latitude[index[i]])\n",
    "            list_longi.append(longtitude[[i]])\n",
    "\n",
    "print('Pour 200 unités de temps nous avons :', len(list_lati), 'mesures GPS')            \n",
    "plt.plot(list_lati, list_longi)\n"
   ]
  },
  {
   "cell_type": "code",
   "execution_count": 811,
   "metadata": {},
   "outputs": [],
   "source": [
    "#Définissons maintenant le corps de l'algo avec les différentes fonctions crées\n",
    "\n",
    "list_predict = list()\n",
    "list_particles = list()\n",
    "list_mesures = list()\n",
    "\n",
    "def particle_filter(N, time=time_short):\n",
    "    \n",
    "    #Initialisation de l'algo\n",
    "    particles, _, weights = initilisation_pf(N)\n",
    "    t_previous = time[0]\n",
    "    \n",
    "    for i in range(len(time)):\n",
    "        \n",
    "        t = time[i] \n",
    "        particles = transition_model(particles, dt=(t-t_previous)/1000)\n",
    "        \n",
    "        update_GPS = sensor[i] == 1 # True si la i-eme mesure est celle du GPS   \n",
    "        \n",
    "        if update_GPS:\n",
    "            print('mesure GPS')\n",
    "            measures = {'x': latitude[index[i]], 'y': longtitude[index[i]]}\n",
    "            list_mesures.append([measures,i])\n",
    "                \n",
    "        else :\n",
    "            measures = {'beta': steering[index[i]], 'v': velocity[index[i]]}\n",
    "\n",
    "        weights = update_model(N, weights, update_GPS, measures, particles)\n",
    "        \n",
    "            \n",
    "        # Resampling\n",
    "        n_eff = 1 / np.sum(weights ** 2)\n",
    "        \n",
    "        if update_GPS:\n",
    "            print(n_eff)\n",
    "            \n",
    "        if n_eff <= .8 * N:\n",
    "            print('Resampled')\n",
    "            particles, weights = resample_v2(N, particles, weights)\n",
    "            \n",
    "        t_previous = t\n",
    "        list_predict.append(predictions(weights, particles))\n",
    "        list_particles.append(particles)\n",
    "            \n",
    "    return list_predict, list_particles, list_mesures"
   ]
  },
  {
   "cell_type": "code",
   "execution_count": 812,
   "metadata": {
    "scrolled": false
   },
   "outputs": [
    {
     "name": "stdout",
     "output_type": "stream",
     "text": [
      "mesure GPS\n",
      "9.566406032440119\n",
      "Resampled\n",
      "Le nombre de particules en vie est de : 3000\n",
      "mesure GPS\n",
      "29.94352725054956\n",
      "Resampled\n",
      "Le nombre de particules en vie est de : 3000\n",
      "mesure GPS\n",
      "104.77009899752248\n",
      "Resampled\n",
      "Le nombre de particules en vie est de : 3000\n",
      "mesure GPS\n",
      "336.77002850240245\n",
      "Resampled\n",
      "Le nombre de particules en vie est de : 3000\n",
      "mesure GPS\n",
      "1117.2617215562589\n",
      "Resampled\n",
      "Le nombre de particules en vie est de : 3000\n",
      "mesure GPS\n",
      "3744.9281596175\n",
      "Resampled\n",
      "Le nombre de particules en vie est de : 3000\n",
      "mesure GPS\n",
      "8444.211525260122\n",
      "mesure GPS\n",
      "5902.481647215909\n",
      "Resampled\n",
      "Le nombre de particules en vie est de : 3000\n",
      "mesure GPS\n",
      "9721.053533091788\n",
      "mesure GPS\n",
      "9114.316083869011\n",
      "mesure GPS\n",
      "8447.012144131231\n",
      "mesure GPS\n",
      "7873.615246642103\n",
      "Resampled\n",
      "Le nombre de particules en vie est de : 3000\n",
      "mesure GPS\n",
      "9999.999999989768\n",
      "mesure GPS\n",
      "9999.99999995307\n",
      "mesure GPS\n",
      "9999.999999879754\n",
      "mesure GPS\n",
      "9999.999999758882\n",
      "mesure GPS\n",
      "9999.99999957387\n",
      "mesure GPS\n",
      "9999.999999312471\n",
      "mesure GPS\n",
      "9999.999998953528\n",
      "mesure GPS\n",
      "9999.999998476862\n",
      "mesure GPS\n",
      "9999.999997858144\n",
      "mesure GPS\n",
      "9999.999997078156\n",
      "mesure GPS\n",
      "9999.999996124572\n"
     ]
    }
   ],
   "source": [
    "list_predict = list()\n",
    "list_particles = list()\n",
    "list_mesures = list()\n",
    "\n",
    "\n",
    "list_predict, list_particles, list_mesures = particle_filter(N=10000)\n"
   ]
  },
  {
   "cell_type": "code",
   "execution_count": 813,
   "metadata": {},
   "outputs": [
    {
     "data": {
      "text/plain": [
       "200"
      ]
     },
     "execution_count": 813,
     "metadata": {},
     "output_type": "execute_result"
    }
   ],
   "source": [
    "len(list_particles)"
   ]
  },
  {
   "cell_type": "code",
   "execution_count": 814,
   "metadata": {
    "scrolled": true
   },
   "outputs": [
    {
     "data": {
      "text/plain": [
       "[<matplotlib.lines.Line2D object at 0x1a36563198>]"
      ]
     },
     "execution_count": 814,
     "metadata": {},
     "output_type": "execute_result"
    },
    {
     "data": {
      "image/png": "[encoded data removed]",
      "text/plain": [
       "<Figure size 1440x144 with 4 Axes>"
      ]
     },
     "metadata": {
      "needs_background": "light"
     },
     "output_type": "display_data"
    }
   ],
   "source": [
    "plt.figure(figsize=(20,2))\n",
    "\n",
    "plt.subplot(1,4,1)\n",
    "plt.plot(list_particles[0]['x'], list_particles[0]['y'],'.')\n",
    "plt.plot(list_mesures[0][0]['x'], list_mesures[0][0]['y'], 'o', 'r')\n",
    "plt.plot(list_predict[list_mesures[0][1]][0], list_predict[list_mesures[0][1]][1], '*')\n",
    "\n",
    "\n",
    "plt.subplot(1,4,2)\n",
    "plt.plot(list_particles[list_mesures[1][1]]['x'], list_particles[list_mesures[1][1]]['y'],'.')\n",
    "plt.plot(list_mesures[1][0]['x'], list_mesures[1][0]['y'], 'o', 'r')\n",
    "plt.plot(list_predict[list_mesures[1][1]][0], list_predict[list_mesures[1][1]][1], '*')\n",
    "\n",
    "\n",
    "plt.subplot(1,4,3)\n",
    "plt.plot(list_particles[list_mesures[2][1]]['x'], list_particles[list_mesures[2][1]]['y'],'.')\n",
    "plt.plot(list_mesures[2][0]['x'], list_mesures[2][0]['y'], 'o', 'r')\n",
    "plt.plot(list_predict[list_mesures[2][1]][0], list_predict[list_mesures[2][1]][1], '*')\n",
    "\n",
    "plt.subplot(1,4,4)\n",
    "plt.plot(list_particles[list_mesures[3][1]]['x'], list_particles[list_mesures[3][1]]['y'],'.')\n",
    "plt.plot(list_mesures[3][0]['x'], list_mesures[3][0]['y'], 'o', 'r')\n",
    "plt.plot(list_predict[list_mesures[3][1]][0], list_predict[list_mesures[3][1]][1], '*')"
   ]
  },
  {
   "cell_type": "code",
   "execution_count": 815,
   "metadata": {},
   "outputs": [
    {
     "data": {
      "text/plain": [
       "[<matplotlib.lines.Line2D object at 0x1a37083e80>]"
      ]
     },
     "execution_count": 815,
     "metadata": {},
     "output_type": "execute_result"
    },
    {
     "data": {
      "image/png": "[encoded data removed]",
      "text/plain": [
       "<Figure size 1440x144 with 4 Axes>"
      ]
     },
     "metadata": {
      "needs_background": "light"
     },
     "output_type": "display_data"
    }
   ],
   "source": [
    "plt.figure(figsize=(20,2))\n",
    "\n",
    "plt.subplot(1,4,1)\n",
    "plt.plot(list_particles[list_mesures[5][1]]['x'], list_particles[list_mesures[5][1]]['y'],'.')\n",
    "plt.plot(list_mesures[5][0]['x'], list_mesures[5][0]['y'], 'o', 'r')\n",
    "plt.plot(list_predict[list_mesures[5][1]][0], list_predict[list_mesures[5][1]][1], '*')\n",
    "\n",
    "\n",
    "plt.subplot(1,4,2)\n",
    "plt.plot(list_particles[list_mesures[10][1]]['x'], list_particles[list_mesures[10][1]]['y'],'.')\n",
    "plt.plot(list_mesures[10][0]['x'], list_mesures[10][0]['y'], 'o', 'r')\n",
    "plt.plot(list_predict[list_mesures[10][1]][0], list_predict[list_mesures[10][1]][1], '*')\n",
    "\n",
    "\n",
    "plt.subplot(1,4,3)\n",
    "plt.plot(list_particles[list_mesures[15][1]]['x'], list_particles[list_mesures[15][1]]['y'],'.')\n",
    "plt.plot(list_mesures[15][0]['x'], list_mesures[15][0]['y'], 'o', 'r')\n",
    "plt.plot(list_predict[list_mesures[15][1]][0], list_predict[list_mesures[15][1]][1], '*')\n",
    "\n",
    "plt.subplot(1,4,4)\n",
    "plt.plot(list_particles[list_mesures[20][1]]['x'], list_particles[list_mesures[20][1]]['y'],'.')\n",
    "plt.plot(list_mesures[20][0]['x'], list_mesures[20][0]['y'], 'o', 'r')\n",
    "plt.plot(list_predict[list_mesures[20][1]][0], list_predict[list_mesures[20][1]][1], '*')"
   ]
  },
  {
   "cell_type": "code",
   "execution_count": 786,
   "metadata": {},
   "outputs": [
    {
     "ename": "IndexError",
     "evalue": "list index out of range",
     "output_type": "error",
     "traceback": [
      "\u001b[0;31m---------------------------------------------------------------------------\u001b[0m",
      "\u001b[0;31mIndexError\u001b[0m                                Traceback (most recent call last)",
      "\u001b[0;32m<ipython-input-786-2c69c9c905d9>\u001b[0m in \u001b[0;36m<module>\u001b[0;34m\u001b[0m\n\u001b[1;32m      8\u001b[0m \u001b[0;34m\u001b[0m\u001b[0m\n\u001b[1;32m      9\u001b[0m \u001b[0mplt\u001b[0m\u001b[0;34m.\u001b[0m\u001b[0msubplot\u001b[0m\u001b[0;34m(\u001b[0m\u001b[0;36m1\u001b[0m\u001b[0;34m,\u001b[0m\u001b[0;36m4\u001b[0m\u001b[0;34m,\u001b[0m\u001b[0;36m2\u001b[0m\u001b[0;34m)\u001b[0m\u001b[0;34m\u001b[0m\u001b[0;34m\u001b[0m\u001b[0m\n\u001b[0;32m---> 10\u001b[0;31m \u001b[0mplt\u001b[0m\u001b[0;34m.\u001b[0m\u001b[0mplot\u001b[0m\u001b[0;34m(\u001b[0m\u001b[0mlist_particles\u001b[0m\u001b[0;34m[\u001b[0m\u001b[0mlist_mesures\u001b[0m\u001b[0;34m[\u001b[0m\u001b[0;36m30\u001b[0m\u001b[0;34m]\u001b[0m\u001b[0;34m[\u001b[0m\u001b[0;36m1\u001b[0m\u001b[0;34m]\u001b[0m\u001b[0;34m]\u001b[0m\u001b[0;34m[\u001b[0m\u001b[0;34m'x'\u001b[0m\u001b[0;34m]\u001b[0m\u001b[0;34m,\u001b[0m \u001b[0mlist_particles\u001b[0m\u001b[0;34m[\u001b[0m\u001b[0mlist_mesures\u001b[0m\u001b[0;34m[\u001b[0m\u001b[0;36m30\u001b[0m\u001b[0;34m]\u001b[0m\u001b[0;34m[\u001b[0m\u001b[0;36m1\u001b[0m\u001b[0;34m]\u001b[0m\u001b[0;34m]\u001b[0m\u001b[0;34m[\u001b[0m\u001b[0;34m'y'\u001b[0m\u001b[0;34m]\u001b[0m\u001b[0;34m,\u001b[0m\u001b[0;34m'.'\u001b[0m\u001b[0;34m)\u001b[0m\u001b[0;34m\u001b[0m\u001b[0;34m\u001b[0m\u001b[0m\n\u001b[0m\u001b[1;32m     11\u001b[0m \u001b[0mplt\u001b[0m\u001b[0;34m.\u001b[0m\u001b[0mplot\u001b[0m\u001b[0;34m(\u001b[0m\u001b[0mlist_mesures\u001b[0m\u001b[0;34m[\u001b[0m\u001b[0;36m30\u001b[0m\u001b[0;34m]\u001b[0m\u001b[0;34m[\u001b[0m\u001b[0;36m0\u001b[0m\u001b[0;34m]\u001b[0m\u001b[0;34m[\u001b[0m\u001b[0;34m'x'\u001b[0m\u001b[0;34m]\u001b[0m\u001b[0;34m,\u001b[0m \u001b[0mlist_mesures\u001b[0m\u001b[0;34m[\u001b[0m\u001b[0;36m30\u001b[0m\u001b[0;34m]\u001b[0m\u001b[0;34m[\u001b[0m\u001b[0;36m0\u001b[0m\u001b[0;34m]\u001b[0m\u001b[0;34m[\u001b[0m\u001b[0;34m'y'\u001b[0m\u001b[0;34m]\u001b[0m\u001b[0;34m,\u001b[0m \u001b[0;34m'o'\u001b[0m\u001b[0;34m,\u001b[0m \u001b[0;34m'r'\u001b[0m\u001b[0;34m)\u001b[0m\u001b[0;34m\u001b[0m\u001b[0;34m\u001b[0m\u001b[0m\n\u001b[1;32m     12\u001b[0m \u001b[0mplt\u001b[0m\u001b[0;34m.\u001b[0m\u001b[0mplot\u001b[0m\u001b[0;34m(\u001b[0m\u001b[0mlist_predict\u001b[0m\u001b[0;34m[\u001b[0m\u001b[0mlist_mesures\u001b[0m\u001b[0;34m[\u001b[0m\u001b[0;36m30\u001b[0m\u001b[0;34m]\u001b[0m\u001b[0;34m[\u001b[0m\u001b[0;36m1\u001b[0m\u001b[0;34m]\u001b[0m\u001b[0;34m]\u001b[0m\u001b[0;34m[\u001b[0m\u001b[0;36m0\u001b[0m\u001b[0;34m]\u001b[0m\u001b[0;34m,\u001b[0m \u001b[0mlist_predict\u001b[0m\u001b[0;34m[\u001b[0m\u001b[0mlist_mesures\u001b[0m\u001b[0;34m[\u001b[0m\u001b[0;36m30\u001b[0m\u001b[0;34m]\u001b[0m\u001b[0;34m[\u001b[0m\u001b[0;36m1\u001b[0m\u001b[0;34m]\u001b[0m\u001b[0;34m]\u001b[0m\u001b[0;34m[\u001b[0m\u001b[0;36m1\u001b[0m\u001b[0;34m]\u001b[0m\u001b[0;34m,\u001b[0m \u001b[0;34m'*'\u001b[0m\u001b[0;34m)\u001b[0m\u001b[0;34m\u001b[0m\u001b[0;34m\u001b[0m\u001b[0m\n",
      "\u001b[0;31mIndexError\u001b[0m: list index out of range"
     ]
    },
    {
     "data": {
      "image/png": "[encoded data removed]",
      "text/plain": [
       "<Figure size 1440x144 with 2 Axes>"
      ]
     },
     "metadata": {
      "needs_background": "light"
     },
     "output_type": "display_data"
    }
   ],
   "source": [
    "#Utile qui se le nombre de données GPS > 20\n",
    "\n",
    "plt.figure(figsize=(20,2))\n",
    "\n",
    "plt.subplot(1,4,1)\n",
    "plt.plot(list_particles[list_mesures[25][1]]['x'], list_particles[list_mesures[25][1]]['y'],'.')\n",
    "plt.plot(list_mesures[25][0]['x'], list_mesures[25][0]['y'], 'o', 'r')\n",
    "plt.plot(list_predict[list_mesures[25][1]][0], list_predict[list_mesures[25][1]][1], '*')\n",
    "\n",
    "\n",
    "plt.subplot(1,4,2)\n",
    "plt.plot(list_particles[list_mesures[30][1]]['x'], list_particles[list_mesures[30][1]]['y'],'.')\n",
    "plt.plot(list_mesures[30][0]['x'], list_mesures[30][0]['y'], 'o', 'r')\n",
    "plt.plot(list_predict[list_mesures[30][1]][0], list_predict[list_mesures[30][1]][1], '*')\n",
    "\n",
    "\n",
    "plt.subplot(1,4,3)\n",
    "plt.plot(list_particles[list_mesures[35][1]]['x'], list_particles[list_mesures[35][1]]['y'],'.')\n",
    "plt.plot(list_mesures[35][0]['x'], list_mesures[35][0]['y'], 'o', 'r')\n",
    "plt.plot(list_predict[list_mesures[35][1]][0], list_predict[list_mesures[35][1]][1], '*')\n",
    "\n",
    "plt.subplot(1,4,4)\n",
    "plt.plot(list_particles[list_mesures[40][1]]['x'], list_particles[list_mesures[40][1]]['y'],'.')\n",
    "plt.plot(list_mesures[40][0]['x'], list_mesures[40][0]['y'], 'o', 'r')\n",
    "plt.plot(list_predict[list_mesures[40][1]][0], list_predict[list_mesures[40][1]][1], '*')"
   ]
  },
  {
   "cell_type": "code",
   "execution_count": 816,
   "metadata": {},
   "outputs": [
    {
     "data": {
      "text/plain": [
       "Text(0.5, 1.0, 'trajet réel')"
      ]
     },
     "execution_count": 816,
     "metadata": {},
     "output_type": "execute_result"
    },
    {
     "data": {
      "image/png": "[encoded data removed]",
      "text/plain": [
       "<Figure size 720x360 with 2 Axes>"
      ]
     },
     "metadata": {
      "needs_background": "light"
     },
     "output_type": "display_data"
    }
   ],
   "source": [
    "plt.figure(figsize=(10,5))\n",
    "\n",
    "plt.subplot(1,2,1)\n",
    "plt.plot(np.array(list_predict)[:,0], np.array(list_predict)[:,1], 'red')\n",
    "plt.title('trajet prédit')\n",
    "\n",
    "plt.subplot(1,2,2)\n",
    "plt.plot(list_lati, list_longi, 'blue')\n",
    "plt.title('trajet réel')\n",
    "#xmin, xmax, ymin, ymax = plt.axis([-5.72,-5.68,-3, 15])"
   ]
  },
  {
   "cell_type": "markdown",
   "metadata": {},
   "source": [
    "# Algorithme 5"
   ]
  },
  {
   "cell_type": "markdown",
   "metadata": {},
   "source": [
    "Création d'un vecteur temps \"à ma façon\" :"
   ]
  },
  {
   "cell_type": "code",
   "execution_count": null,
   "metadata": {},
   "outputs": [],
   "source": [
    "S1_time = gps_df['time'].values\n",
    "S2_time = sensors_df['time'].values\n",
    "S3_time = laser_df['time'].values"
   ]
  },
  {
   "cell_type": "code",
   "execution_count": null,
   "metadata": {},
   "outputs": [],
   "source": [
    "nb_2_3 = 0\n",
    "times_2_3 = []\n",
    "\n",
    "for a in S2_time:\n",
    "    for b in S3_time:\n",
    "        if (a == b):\n",
    "            nb_2_3 += 1\n",
    "            times_2_3.append(a)\n",
    "            \n",
    "print(nb_2_3)"
   ]
  },
  {
   "cell_type": "code",
   "execution_count": null,
   "metadata": {},
   "outputs": [],
   "source": [
    "v_temps = np.ones((len(S1_time) + nb_2_3, 2))\n",
    "v_temps[0:len(S1_time), 0] = S1_time\n",
    "v_temps[1040:, 0] = times_2_3\n",
    "v_temps[1040:, 1] = 23\n",
    "print(v_temps[1038:1042, :])\n",
    "v_temps = v_temps[np.argsort(v_temps[:, 0])]"
   ]
  },
  {
   "cell_type": "code",
   "execution_count": null,
   "metadata": {},
   "outputs": [],
   "source": [
    "def calcul_wt (z1, list_c1) :"
   ]
  },
  {
   "cell_type": "code",
   "execution_count": null,
   "metadata": {},
   "outputs": [],
   "source": [
    "def p_z2 () :"
   ]
  },
  {
   "cell_type": "code",
   "execution_count": null,
   "metadata": {},
   "outputs": [],
   "source": [
    "def p_z3 () :"
   ]
  },
  {
   "cell_type": "markdown",
   "metadata": {},
   "source": [
    "Algorithme :"
   ]
  },
  {
   "cell_type": "code",
   "execution_count": null,
   "metadata": {},
   "outputs": [],
   "source": [
    "def RaoBlackwell_UKF (n_particules, v_temps, eta = 0.8*n_particules):\n",
    "    \n",
    "    ### === Initialisation === ###\n",
    "    \n",
    "    xhap0 = p_xhap0(x0)\n",
    "    SIGMA0 = p_SIGMA0(SIG0)\n",
    "    sigma0 = p_sigma0(sig0)\n",
    "    alpha0 = p_alpha0(a0, sigma0) # c'est bien sigma0 en deuxième paramètre ?\n",
    "    w0 = (1./n_particules)*np.ones(n_particules)\n",
    "    \n",
    "    ### === Iterations === ###\n",
    "    \n",
    "    for t in range (len(time)):\n",
    "        \n",
    "        # Mesures z_2,t et z_3,t #\n",
    "        if (v_temps[t, 1] == 23): \n",
    "            \n",
    "            xchap, SIGMA = UFK(xhap, SIGMA, z2, z3) # en cours (Étienne)\n",
    "            \n",
    "            # Update des variables liées au GPS : (à modifier)\n",
    "            Xt = Xt + T * (Vt*np.cos(psi) + (- a*np.sin(psi) + b*np.cos(psi)) * (Vt/L) * np.tan(beta))\n",
    "            Yt = Yt + T * (Vt*np.sin(psi) + (a*np.cos(psi) + b*np.sin(psi)) * (Vt/L) * np.tan(beta))\n",
    "            \n",
    "            ''' \n",
    "            |-----> on ne change rien :\n",
    "            c1_new = c1\n",
    "            alpha1_new = alpha1\n",
    "            sigma1_new = sigma1\n",
    "            '''\n",
    "            \n",
    "            # Update des poids :\n",
    "            wt = wt * p_z2() * p_z3() # à coder\n",
    "            \n",
    "        # Mesures z_1,t #\n",
    "        if (v_temps[t, 1] == 1) : \n",
    "            \n",
    "            c1_new = q_c1(c1, xchap, SIGMA, alpha1, z1) # à compléter\n",
    "            alpha1_new = q_alpha1(alpha1, c1_new, sigma1) # fonctionne correctement\n",
    "            sigma1_new = q_sigma1(s1, sigma1, alpha1_new, alpha1) # à compléter\n",
    "            xchap, SIGMA = UFK(xhap, SIGMA, c1_new, z1) # en cours (Étienne)\n",
    "            \n",
    "            # Update des poids :\n",
    "            wt = calcul_wt(z1, list_c1) # à coder\n",
    "            \n",
    "        # Resampling #\n",
    "        Neff = 1./sum(wt**2)\n",
    "        if (Neff <= eta) :\n",
    "            \n",
    "            "
   ]
  },
  {
   "cell_type": "markdown",
   "metadata": {},
   "source": [
    "# A faire (pour avoir l'algo pf et l'algo rao-blackwell):\n",
    "1 - Sampler le state vector $\\tilde{x}_t^{(i)}$ (prendre en compte le state noise), le sensor state variable $\\tilde{c}_t^{(i)}$ et les autres pour les particules\n",
    "\n",
    "2 - Utiliser $\\tilde{c}_t^{(i)}$  pour la modelisation du gps\n",
    "\n",
    "3 - Bien choisir l'importance probability $q$ pour l'algo standard\n",
    "\n",
    "3 - Trouver la proba cheloue de l'algo Rao-blackwell $p(z_{k,t}|\\textbf{z}_{1:t-1})$\n",
    "\n",
    "4 - Implementer (ou trouver une implementation) de l'UKF\n",
    "\n",
    "5 - Revoir les distributions initiales $p_0$ (en regardant les histogrammes des mesures par ex)\n",
    "\n"
   ]
  },
  {
   "cell_type": "markdown",
   "metadata": {},
   "source": [
    "## Test avec un filtre particulaire existant"
   ]
  },
  {
   "cell_type": "code",
   "execution_count": 433,
   "metadata": {},
   "outputs": [],
   "source": [
    "from pfilter import ParticleFilter, gaussian_noise, squared_error, independent_sample"
   ]
  },
  {
   "cell_type": "code",
   "execution_count": 434,
   "metadata": {},
   "outputs": [],
   "source": [
    "def prior_fn(N): #on initialise avec des uniformes sur les espaces de vie des variables\n",
    "    \n",
    "    \"\"\"\"\n",
    "    function(n) = > states\n",
    "    a function that generates N samples from the prior over internal states, as\n",
    "    an (N,D) particle array\n",
    "    \"\"\"\n",
    "    \n",
    "    stretch = 1.02\n",
    "    \n",
    "    x_min, x_max = np.min(stretch * latitude), np.max(stretch * latitude)\n",
    "    y_min, y_max = np.min(stretch * longtitude), np.max(stretch * longtitude)\n",
    "    v_max = np.max(stretch * velocity)\n",
    "    beta_min, beta_max = np.min(stretch * steering), np.max(stretch * steering)\n",
    "    beta_dot = (steering[1:] - steering[:-1]) / (time_sensors[1:] - time_sensors[:-1])\n",
    "    beta_dot_min, beta_dot_max = np.min(stretch * beta_dot), np.max(beta_dot)\n",
    "    \n",
    "    init_state = [\n",
    "        np.random.uniform(low=x_min, high=x_max, size=N),\n",
    "        np.random.uniform(low=y_min, high=y_max, size=N),\n",
    "        np.random.uniform(low=0, high=v_max, size=N),\n",
    "        np.random.uniform(low=0, high=2*np.pi, size=N),\n",
    "        np.random.uniform(low=beta_min, high=beta_max, size=N),\n",
    "        np.random.uniform(low=beta_dot_min, high=beta_dot_max, size=N)]\n",
    "    \n",
    "    return np.array(init_state).T"
   ]
  },
  {
   "cell_type": "code",
   "execution_count": 432,
   "metadata": {},
   "outputs": [
    {
     "data": {
      "text/plain": [
       "(100, 6)"
      ]
     },
     "execution_count": 432,
     "metadata": {},
     "output_type": "execute_result"
    }
   ],
   "source": [
    "initilisation_pf_array(100).shape"
   ]
  },
  {
   "cell_type": "code",
   "execution_count": null,
   "metadata": {},
   "outputs": [],
   "source": [
    "def observe_fn : \n",
    "    \n",
    "    \"\"\"\n",
    "    function(states) => observations\n",
    "    transformation function from the internal state to the sensor state. Takes an (N,D) array of states \n",
    "    and returns the expected sensor output as an array (e.g. a (N,W,H) tensor if generating W,H \n",
    "    dimension images)\n",
    "    \"\"\"\n",
    "    \n",
    "    \n",
    "    "
   ]
  },
  {
   "cell_type": "code",
   "execution_count": 441,
   "metadata": {},
   "outputs": [],
   "source": [
    "def dynamics_fn(states) : \n",
    "    \"\"\"\n",
    "    function(states) => states\n",
    "    dynamics function, which takes an (N,D) state array and returns a new one with the dynamics applied.\n",
    "    \"\"\"\n",
    "    \n",
    "    dt = 1/50\n",
    "    \n",
    "    # Retrieve initial states\n",
    "    x = states[:, 0]\n",
    "    y = states[:, 1]\n",
    "    v = states[:, 2]\n",
    "\n",
    "    psi = states[:, 3]\n",
    "    beta = states[:, 4]\n",
    "    beta_dot = states[:, 5]\n",
    "    \n",
    "    # Next states\n",
    "    next_state = np.zeros(states.shape[0], states.shape[1])\n",
    "    next_state[:,0] = x + dt * v * (np.cos(psi) + (- a * np.sin(psi) + b * np.cos(psi)) * np.tan(beta) / L)\n",
    "    next_state[:,1] = y + dt * v * (np.sin(psi) + (a * np.cos(psi) + b * np.sin(psi)) * np.tan(beta) / L)\n",
    "    next_state[:,2] = v\n",
    "    \n",
    "    next_state[:,3] = psi + dt * v * np.tan(beta) / L\n",
    "    next_state[:,4] = beta + dt * beta_dot\n",
    "    next_state[:,5] = beta_dot\n",
    "    \n",
    "    #if with_noise:\n",
    "        #state_noise = np.random.multivariate_normal(noise_mean, noise_cov, size=x.shape[0])\n",
    "        #next_state['v'] += dt * state_noise[:, 0]\n",
    "        #next_state['beta_dot'] += dt * state_noise[:, 1]\n",
    "\n",
    "    return next_state\n",
    "    \n",
    "    "
   ]
  },
  {
   "cell_type": "code",
   "execution_count": 442,
   "metadata": {},
   "outputs": [
    {
     "ename": "TypeError",
     "evalue": "data type not understood",
     "output_type": "error",
     "traceback": [
      "\u001b[0;31m---------------------------------------------------------------------------\u001b[0m",
      "\u001b[0;31mTypeError\u001b[0m                                 Traceback (most recent call last)",
      "\u001b[0;32m<ipython-input-442-d615e4896e10>\u001b[0m in \u001b[0;36m<module>\u001b[0;34m\u001b[0m\n\u001b[0;32m----> 1\u001b[0;31m \u001b[0mdynamics_fn\u001b[0m\u001b[0;34m(\u001b[0m\u001b[0mprior_fn\u001b[0m\u001b[0;34m(\u001b[0m\u001b[0;36m10\u001b[0m\u001b[0;34m)\u001b[0m\u001b[0;34m)\u001b[0m\u001b[0;34m\u001b[0m\u001b[0;34m\u001b[0m\u001b[0m\n\u001b[0m",
      "\u001b[0;32m<ipython-input-441-3c97eaf14be9>\u001b[0m in \u001b[0;36mdynamics_fn\u001b[0;34m(states)\u001b[0m\n\u001b[1;32m     17\u001b[0m \u001b[0;34m\u001b[0m\u001b[0m\n\u001b[1;32m     18\u001b[0m     \u001b[0;31m# Next states\u001b[0m\u001b[0;34m\u001b[0m\u001b[0;34m\u001b[0m\u001b[0;34m\u001b[0m\u001b[0m\n\u001b[0;32m---> 19\u001b[0;31m     \u001b[0mnext_state\u001b[0m \u001b[0;34m=\u001b[0m \u001b[0mnp\u001b[0m\u001b[0;34m.\u001b[0m\u001b[0mzeros\u001b[0m\u001b[0;34m(\u001b[0m\u001b[0mstates\u001b[0m\u001b[0;34m.\u001b[0m\u001b[0mshape\u001b[0m\u001b[0;34m[\u001b[0m\u001b[0;36m0\u001b[0m\u001b[0;34m]\u001b[0m\u001b[0;34m,\u001b[0m \u001b[0mstates\u001b[0m\u001b[0;34m.\u001b[0m\u001b[0mshape\u001b[0m\u001b[0;34m[\u001b[0m\u001b[0;36m1\u001b[0m\u001b[0;34m]\u001b[0m\u001b[0;34m)\u001b[0m\u001b[0;34m\u001b[0m\u001b[0;34m\u001b[0m\u001b[0m\n\u001b[0m\u001b[1;32m     20\u001b[0m     \u001b[0mnext_state\u001b[0m\u001b[0;34m[\u001b[0m\u001b[0;34m:\u001b[0m\u001b[0;34m,\u001b[0m\u001b[0;36m0\u001b[0m\u001b[0;34m]\u001b[0m \u001b[0;34m=\u001b[0m \u001b[0mx\u001b[0m \u001b[0;34m+\u001b[0m \u001b[0mdt\u001b[0m \u001b[0;34m*\u001b[0m \u001b[0mv\u001b[0m \u001b[0;34m*\u001b[0m \u001b[0;34m(\u001b[0m\u001b[0mnp\u001b[0m\u001b[0;34m.\u001b[0m\u001b[0mcos\u001b[0m\u001b[0;34m(\u001b[0m\u001b[0mpsi\u001b[0m\u001b[0;34m)\u001b[0m \u001b[0;34m+\u001b[0m \u001b[0;34m(\u001b[0m\u001b[0;34m-\u001b[0m \u001b[0ma\u001b[0m \u001b[0;34m*\u001b[0m \u001b[0mnp\u001b[0m\u001b[0;34m.\u001b[0m\u001b[0msin\u001b[0m\u001b[0;34m(\u001b[0m\u001b[0mpsi\u001b[0m\u001b[0;34m)\u001b[0m \u001b[0;34m+\u001b[0m \u001b[0mb\u001b[0m \u001b[0;34m*\u001b[0m \u001b[0mnp\u001b[0m\u001b[0;34m.\u001b[0m\u001b[0mcos\u001b[0m\u001b[0;34m(\u001b[0m\u001b[0mpsi\u001b[0m\u001b[0;34m)\u001b[0m\u001b[0;34m)\u001b[0m \u001b[0;34m*\u001b[0m \u001b[0mnp\u001b[0m\u001b[0;34m.\u001b[0m\u001b[0mtan\u001b[0m\u001b[0;34m(\u001b[0m\u001b[0mbeta\u001b[0m\u001b[0;34m)\u001b[0m \u001b[0;34m/\u001b[0m \u001b[0mL\u001b[0m\u001b[0;34m)\u001b[0m\u001b[0;34m\u001b[0m\u001b[0;34m\u001b[0m\u001b[0m\n\u001b[1;32m     21\u001b[0m     \u001b[0mnext_state\u001b[0m\u001b[0;34m[\u001b[0m\u001b[0;34m:\u001b[0m\u001b[0;34m,\u001b[0m\u001b[0;36m1\u001b[0m\u001b[0;34m]\u001b[0m \u001b[0;34m=\u001b[0m \u001b[0my\u001b[0m \u001b[0;34m+\u001b[0m \u001b[0mdt\u001b[0m \u001b[0;34m*\u001b[0m \u001b[0mv\u001b[0m \u001b[0;34m*\u001b[0m \u001b[0;34m(\u001b[0m\u001b[0mnp\u001b[0m\u001b[0;34m.\u001b[0m\u001b[0msin\u001b[0m\u001b[0;34m(\u001b[0m\u001b[0mpsi\u001b[0m\u001b[0;34m)\u001b[0m \u001b[0;34m+\u001b[0m \u001b[0;34m(\u001b[0m\u001b[0ma\u001b[0m \u001b[0;34m*\u001b[0m \u001b[0mnp\u001b[0m\u001b[0;34m.\u001b[0m\u001b[0mcos\u001b[0m\u001b[0;34m(\u001b[0m\u001b[0mpsi\u001b[0m\u001b[0;34m)\u001b[0m \u001b[0;34m+\u001b[0m \u001b[0mb\u001b[0m \u001b[0;34m*\u001b[0m \u001b[0mnp\u001b[0m\u001b[0;34m.\u001b[0m\u001b[0msin\u001b[0m\u001b[0;34m(\u001b[0m\u001b[0mpsi\u001b[0m\u001b[0;34m)\u001b[0m\u001b[0;34m)\u001b[0m \u001b[0;34m*\u001b[0m \u001b[0mnp\u001b[0m\u001b[0;34m.\u001b[0m\u001b[0mtan\u001b[0m\u001b[0;34m(\u001b[0m\u001b[0mbeta\u001b[0m\u001b[0;34m)\u001b[0m \u001b[0;34m/\u001b[0m \u001b[0mL\u001b[0m\u001b[0;34m)\u001b[0m\u001b[0;34m\u001b[0m\u001b[0;34m\u001b[0m\u001b[0m\n",
      "\u001b[0;31mTypeError\u001b[0m: data type not understood"
     ]
    }
   ],
   "source": [
    "dynamics_fn(prior_fn(10))"
   ]
  },
  {
   "cell_type": "code",
   "execution_count": null,
   "metadata": {},
   "outputs": [],
   "source": [
    "def weight_fn :  \n",
    "    \"\"\"\n",
    "    function(real, hypothesized) => weights\n",
    "    computes the distance from the real sensed variable and that returned by observe_fn. Takes\n",
    "    a an array of N hypothesised sensor outputs (e.g. array of dimension (N,W,H)) and the observed output (e.g. array of dimension (W,H)) and \n",
    "    returns a strictly positive weight for the each hypothesis as an N-element vector. \n",
    "    This should be a *similarity* measure, with higher values meaning more similar, for example from an RBF kernel.\n",
    "    \"\"\"\n",
    "    \n",
    "    "
   ]
  },
  {
   "cell_type": "code",
   "execution_count": null,
   "metadata": {},
   "outputs": [],
   "source": [
    "ParticleFilter(\n",
    "    prior_fn,\n",
    "    observe_fn,\n",
    "    n_particles=200,\n",
    "    dynamics_fn=None,\n",
    "    noise_fn=None,\n",
    "    weight_fn=None,\n",
    "    resample_proportion=None,\n",
    "    column_names=None,\n",
    "    internal_weight_fn=None,\n",
    ")"
   ]
  }
 ],
 "metadata": {
  "kernelspec": {
   "display_name": "Python 3",
   "language": "python",
   "name": "python3"
  },
  "language_info": {
   "codemirror_mode": {
    "name": "ipython",
    "version": 3
   },
   "file_extension": ".py",
   "mimetype": "text/x-python",
   "name": "python",
   "nbconvert_exporter": "python",
   "pygments_lexer": "ipython3",
   "version": "3.6.9"
  }
 },
 "nbformat": 4,
 "nbformat_minor": 2
}
