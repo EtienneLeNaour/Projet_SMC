{
 "cells": [
  {
   "cell_type": "code",
   "execution_count": 1,
   "metadata": {},
   "outputs": [],
   "source": [
    "import scipy.io\n",
    "import pandas as pd\n",
    "import numpy as np\n",
    "import matplotlib.pyplot as plt"
   ]
  },
  {
   "cell_type": "code",
   "execution_count": 2,
   "metadata": {},
   "outputs": [],
   "source": [
    "from os import chdir\n",
    "chdir('data/Cp_16_05_01')"
   ]
  },
  {
   "cell_type": "markdown",
   "metadata": {},
   "source": [
    "## experience 1"
   ]
  },
  {
   "cell_type": "markdown",
   "metadata": {},
   "source": [
    "### Bases de données GPS, laser, et vitesse"
   ]
  },
  {
   "cell_type": "code",
   "execution_count": 3,
   "metadata": {},
   "outputs": [],
   "source": [
    "#Telechargement des données pour l'experience 1 (qui sont sous forme de dictionnaire)\n",
    "exp_ind = 1\n",
    "gps1 = scipy.io.loadmat('juan{}_gps.mat'.format(exp_ind))\n",
    "sensors1 = scipy.io.loadmat('juan{}_etc.mat'.format(exp_ind))\n",
    "laser1 = scipy.io.loadmat('juan{}_lsr2.mat'.format(exp_ind))"
   ]
  },
  {
   "cell_type": "code",
   "execution_count": 4,
   "metadata": {},
   "outputs": [],
   "source": [
    "#Mise en forme en Data Frame\n",
    "\n",
    "gps_df = pd.DataFrame(gps1['GPS'], columns=gps1['GPSFieldsOrder'])\n",
    "sensors_df = pd.DataFrame(sensors1['SENSORS'], columns=sensors1['ETCFieldsOrder'])\n",
    "laser_df = pd.DataFrame(laser1['LASER'], index=laser1['TLsr'].flatten())\n",
    "time_laser_vals = laser1['TLsr'].flatten()"
   ]
  },
  {
   "cell_type": "markdown",
   "metadata": {},
   "source": [
    "### Visualisons ces données"
   ]
  },
  {
   "cell_type": "code",
   "execution_count": 5,
   "metadata": {},
   "outputs": [
    {
     "data": {
      "text/html": [
       "<div>\n",
       "<style scoped>\n",
       "    .dataframe tbody tr th:only-of-type {\n",
       "        vertical-align: middle;\n",
       "    }\n",
       "\n",
       "    .dataframe tbody tr th {\n",
       "        vertical-align: top;\n",
       "    }\n",
       "\n",
       "    .dataframe thead th {\n",
       "        text-align: right;\n",
       "    }\n",
       "</style>\n",
       "<table border=\"1\" class=\"dataframe\">\n",
       "  <thead>\n",
       "    <tr style=\"text-align: right;\">\n",
       "      <th></th>\n",
       "      <th>1.time</th>\n",
       "      <th>2.ts</th>\n",
       "      <th>3.LAT</th>\n",
       "      <th>4.LONG</th>\n",
       "      <th>5.alti</th>\n",
       "      <th>6.course</th>\n",
       "      <th>7.speedOG</th>\n",
       "      <th>8.speedV</th>\n",
       "      <th>9.SgmLat</th>\n",
       "      <th>10SgmLong</th>\n",
       "      <th>11SgmAlti</th>\n",
       "      <th>12mode</th>\n",
       "      <th>13sats</th>\n",
       "    </tr>\n",
       "  </thead>\n",
       "  <tbody>\n",
       "    <tr>\n",
       "      <th>0</th>\n",
       "      <td>851227.0</td>\n",
       "      <td>5.117333</td>\n",
       "      <td>33.888452</td>\n",
       "      <td>151.194872</td>\n",
       "      <td>61.536</td>\n",
       "      <td>0.0</td>\n",
       "      <td>0.00</td>\n",
       "      <td>-0.00</td>\n",
       "      <td>0.009</td>\n",
       "      <td>0.008</td>\n",
       "      <td>0.016</td>\n",
       "      <td>3.0</td>\n",
       "      <td>11.0</td>\n",
       "    </tr>\n",
       "    <tr>\n",
       "      <th>1</th>\n",
       "      <td>851428.0</td>\n",
       "      <td>5.117389</td>\n",
       "      <td>33.888452</td>\n",
       "      <td>151.194872</td>\n",
       "      <td>61.535</td>\n",
       "      <td>0.0</td>\n",
       "      <td>0.02</td>\n",
       "      <td>-0.01</td>\n",
       "      <td>0.009</td>\n",
       "      <td>0.008</td>\n",
       "      <td>0.017</td>\n",
       "      <td>3.0</td>\n",
       "      <td>11.0</td>\n",
       "    </tr>\n",
       "    <tr>\n",
       "      <th>2</th>\n",
       "      <td>851628.0</td>\n",
       "      <td>5.117444</td>\n",
       "      <td>33.888452</td>\n",
       "      <td>151.194872</td>\n",
       "      <td>61.537</td>\n",
       "      <td>0.0</td>\n",
       "      <td>0.00</td>\n",
       "      <td>-0.00</td>\n",
       "      <td>0.010</td>\n",
       "      <td>0.009</td>\n",
       "      <td>0.019</td>\n",
       "      <td>3.0</td>\n",
       "      <td>11.0</td>\n",
       "    </tr>\n",
       "    <tr>\n",
       "      <th>3</th>\n",
       "      <td>851828.0</td>\n",
       "      <td>5.117500</td>\n",
       "      <td>33.888451</td>\n",
       "      <td>151.194872</td>\n",
       "      <td>61.536</td>\n",
       "      <td>0.0</td>\n",
       "      <td>0.02</td>\n",
       "      <td>-0.01</td>\n",
       "      <td>0.007</td>\n",
       "      <td>0.007</td>\n",
       "      <td>0.014</td>\n",
       "      <td>3.0</td>\n",
       "      <td>11.0</td>\n",
       "    </tr>\n",
       "    <tr>\n",
       "      <th>4</th>\n",
       "      <td>852028.0</td>\n",
       "      <td>5.117556</td>\n",
       "      <td>33.888452</td>\n",
       "      <td>151.194872</td>\n",
       "      <td>61.541</td>\n",
       "      <td>0.0</td>\n",
       "      <td>0.01</td>\n",
       "      <td>0.03</td>\n",
       "      <td>0.008</td>\n",
       "      <td>0.007</td>\n",
       "      <td>0.014</td>\n",
       "      <td>3.0</td>\n",
       "      <td>11.0</td>\n",
       "    </tr>\n",
       "  </tbody>\n",
       "</table>\n",
       "</div>"
      ],
      "text/plain": [
       "   1.time     2.ts       3.LAT       4.LONG     5.alti     6.course   \\\n",
       "0   851227.0   5.117333  33.888452  151.194872     61.536        0.0   \n",
       "1   851428.0   5.117389  33.888452  151.194872     61.535        0.0   \n",
       "2   851628.0   5.117444  33.888452  151.194872     61.537        0.0   \n",
       "3   851828.0   5.117500  33.888451  151.194872     61.536        0.0   \n",
       "4   852028.0   5.117556  33.888452  151.194872     61.541        0.0   \n",
       "\n",
       "   7.speedOG  8.speedV   9.SgmLat   10SgmLong  11SgmAlti  12mode     13sats     \n",
       "0       0.00      -0.00      0.009      0.008      0.016        3.0       11.0  \n",
       "1       0.02      -0.01      0.009      0.008      0.017        3.0       11.0  \n",
       "2       0.00      -0.00      0.010      0.009      0.019        3.0       11.0  \n",
       "3       0.02      -0.01      0.007      0.007      0.014        3.0       11.0  \n",
       "4       0.01       0.03      0.008      0.007      0.014        3.0       11.0  "
      ]
     },
     "execution_count": 5,
     "metadata": {},
     "output_type": "execute_result"
    }
   ],
   "source": [
    "#Les données GPS\n",
    "gps_df.head()"
   ]
  },
  {
   "cell_type": "code",
   "execution_count": 6,
   "metadata": {},
   "outputs": [
    {
     "data": {
      "text/html": [
       "<div>\n",
       "<style scoped>\n",
       "    .dataframe tbody tr th:only-of-type {\n",
       "        vertical-align: middle;\n",
       "    }\n",
       "\n",
       "    .dataframe tbody tr th {\n",
       "        vertical-align: top;\n",
       "    }\n",
       "\n",
       "    .dataframe thead th {\n",
       "        text-align: right;\n",
       "    }\n",
       "</style>\n",
       "<table border=\"1\" class=\"dataframe\">\n",
       "  <thead>\n",
       "    <tr style=\"text-align: right;\">\n",
       "      <th></th>\n",
       "      <th>time</th>\n",
       "      <th>Counts</th>\n",
       "      <th>Accel</th>\n",
       "      <th>steer</th>\n",
       "      <th>brake</th>\n",
       "      <th>speed</th>\n",
       "    </tr>\n",
       "  </thead>\n",
       "  <tbody>\n",
       "    <tr>\n",
       "      <th>0</th>\n",
       "      <td>851292</td>\n",
       "      <td>87</td>\n",
       "      <td>2047</td>\n",
       "      <td>2171</td>\n",
       "      <td>2046</td>\n",
       "      <td>0</td>\n",
       "    </tr>\n",
       "    <tr>\n",
       "      <th>1</th>\n",
       "      <td>851317</td>\n",
       "      <td>87</td>\n",
       "      <td>2047</td>\n",
       "      <td>2172</td>\n",
       "      <td>2047</td>\n",
       "      <td>0</td>\n",
       "    </tr>\n",
       "    <tr>\n",
       "      <th>2</th>\n",
       "      <td>851342</td>\n",
       "      <td>87</td>\n",
       "      <td>2047</td>\n",
       "      <td>2171</td>\n",
       "      <td>2047</td>\n",
       "      <td>0</td>\n",
       "    </tr>\n",
       "    <tr>\n",
       "      <th>3</th>\n",
       "      <td>851367</td>\n",
       "      <td>87</td>\n",
       "      <td>2047</td>\n",
       "      <td>2171</td>\n",
       "      <td>2047</td>\n",
       "      <td>0</td>\n",
       "    </tr>\n",
       "    <tr>\n",
       "      <th>4</th>\n",
       "      <td>851392</td>\n",
       "      <td>87</td>\n",
       "      <td>2047</td>\n",
       "      <td>2171</td>\n",
       "      <td>2046</td>\n",
       "      <td>0</td>\n",
       "    </tr>\n",
       "  </tbody>\n",
       "</table>\n",
       "</div>"
      ],
      "text/plain": [
       "   time     Counts   Accel    steer    brake    speed  \n",
       "0   851292       87     2047     2171     2046        0\n",
       "1   851317       87     2047     2172     2047        0\n",
       "2   851342       87     2047     2171     2047        0\n",
       "3   851367       87     2047     2171     2047        0\n",
       "4   851392       87     2047     2171     2046        0"
      ]
     },
     "execution_count": 6,
     "metadata": {},
     "output_type": "execute_result"
    }
   ],
   "source": [
    "#Les données du capteur\n",
    "sensors_df.head()"
   ]
  },
  {
   "cell_type": "code",
   "execution_count": 7,
   "metadata": {},
   "outputs": [
    {
     "data": {
      "text/html": [
       "<div>\n",
       "<style scoped>\n",
       "    .dataframe tbody tr th:only-of-type {\n",
       "        vertical-align: middle;\n",
       "    }\n",
       "\n",
       "    .dataframe tbody tr th {\n",
       "        vertical-align: top;\n",
       "    }\n",
       "\n",
       "    .dataframe thead th {\n",
       "        text-align: right;\n",
       "    }\n",
       "</style>\n",
       "<table border=\"1\" class=\"dataframe\">\n",
       "  <thead>\n",
       "    <tr style=\"text-align: right;\">\n",
       "      <th></th>\n",
       "      <th>0</th>\n",
       "      <th>1</th>\n",
       "      <th>2</th>\n",
       "      <th>3</th>\n",
       "      <th>4</th>\n",
       "      <th>5</th>\n",
       "      <th>6</th>\n",
       "      <th>7</th>\n",
       "      <th>8</th>\n",
       "      <th>9</th>\n",
       "      <th>...</th>\n",
       "      <th>351</th>\n",
       "      <th>352</th>\n",
       "      <th>353</th>\n",
       "      <th>354</th>\n",
       "      <th>355</th>\n",
       "      <th>356</th>\n",
       "      <th>357</th>\n",
       "      <th>358</th>\n",
       "      <th>359</th>\n",
       "      <th>360</th>\n",
       "    </tr>\n",
       "  </thead>\n",
       "  <tbody>\n",
       "    <tr>\n",
       "      <th>851274</th>\n",
       "      <td>84</td>\n",
       "      <td>84</td>\n",
       "      <td>84</td>\n",
       "      <td>84</td>\n",
       "      <td>86</td>\n",
       "      <td>86</td>\n",
       "      <td>86</td>\n",
       "      <td>8189</td>\n",
       "      <td>1097</td>\n",
       "      <td>1098</td>\n",
       "      <td>...</td>\n",
       "      <td>630</td>\n",
       "      <td>8191</td>\n",
       "      <td>8191</td>\n",
       "      <td>8191</td>\n",
       "      <td>8191</td>\n",
       "      <td>8191</td>\n",
       "      <td>8191</td>\n",
       "      <td>8191</td>\n",
       "      <td>8191</td>\n",
       "      <td>8191</td>\n",
       "    </tr>\n",
       "    <tr>\n",
       "      <th>851488</th>\n",
       "      <td>83</td>\n",
       "      <td>84</td>\n",
       "      <td>83</td>\n",
       "      <td>84</td>\n",
       "      <td>85</td>\n",
       "      <td>86</td>\n",
       "      <td>87</td>\n",
       "      <td>8189</td>\n",
       "      <td>1097</td>\n",
       "      <td>1098</td>\n",
       "      <td>...</td>\n",
       "      <td>631</td>\n",
       "      <td>8191</td>\n",
       "      <td>8191</td>\n",
       "      <td>8191</td>\n",
       "      <td>8191</td>\n",
       "      <td>8191</td>\n",
       "      <td>8191</td>\n",
       "      <td>8191</td>\n",
       "      <td>8191</td>\n",
       "      <td>8191</td>\n",
       "    </tr>\n",
       "    <tr>\n",
       "      <th>851702</th>\n",
       "      <td>84</td>\n",
       "      <td>85</td>\n",
       "      <td>84</td>\n",
       "      <td>84</td>\n",
       "      <td>85</td>\n",
       "      <td>86</td>\n",
       "      <td>86</td>\n",
       "      <td>8189</td>\n",
       "      <td>1096</td>\n",
       "      <td>1097</td>\n",
       "      <td>...</td>\n",
       "      <td>630</td>\n",
       "      <td>8191</td>\n",
       "      <td>8191</td>\n",
       "      <td>8191</td>\n",
       "      <td>8191</td>\n",
       "      <td>8191</td>\n",
       "      <td>8191</td>\n",
       "      <td>8191</td>\n",
       "      <td>8191</td>\n",
       "      <td>8191</td>\n",
       "    </tr>\n",
       "    <tr>\n",
       "      <th>851915</th>\n",
       "      <td>84</td>\n",
       "      <td>84</td>\n",
       "      <td>84</td>\n",
       "      <td>84</td>\n",
       "      <td>84</td>\n",
       "      <td>87</td>\n",
       "      <td>86</td>\n",
       "      <td>8189</td>\n",
       "      <td>1097</td>\n",
       "      <td>1097</td>\n",
       "      <td>...</td>\n",
       "      <td>631</td>\n",
       "      <td>8191</td>\n",
       "      <td>8191</td>\n",
       "      <td>8191</td>\n",
       "      <td>8191</td>\n",
       "      <td>8191</td>\n",
       "      <td>8191</td>\n",
       "      <td>8191</td>\n",
       "      <td>8191</td>\n",
       "      <td>8191</td>\n",
       "    </tr>\n",
       "    <tr>\n",
       "      <th>852129</th>\n",
       "      <td>84</td>\n",
       "      <td>84</td>\n",
       "      <td>83</td>\n",
       "      <td>84</td>\n",
       "      <td>85</td>\n",
       "      <td>86</td>\n",
       "      <td>87</td>\n",
       "      <td>8189</td>\n",
       "      <td>1097</td>\n",
       "      <td>1097</td>\n",
       "      <td>...</td>\n",
       "      <td>630</td>\n",
       "      <td>8191</td>\n",
       "      <td>8191</td>\n",
       "      <td>8191</td>\n",
       "      <td>8191</td>\n",
       "      <td>8191</td>\n",
       "      <td>8191</td>\n",
       "      <td>8191</td>\n",
       "      <td>8191</td>\n",
       "      <td>8191</td>\n",
       "    </tr>\n",
       "  </tbody>\n",
       "</table>\n",
       "<p>5 rows × 361 columns</p>\n",
       "</div>"
      ],
      "text/plain": [
       "        0    1    2    3    4    5    6     7     8     9    ...  351   352  \\\n",
       "851274   84   84   84   84   86   86   86  8189  1097  1098  ...  630  8191   \n",
       "851488   83   84   83   84   85   86   87  8189  1097  1098  ...  631  8191   \n",
       "851702   84   85   84   84   85   86   86  8189  1096  1097  ...  630  8191   \n",
       "851915   84   84   84   84   84   87   86  8189  1097  1097  ...  631  8191   \n",
       "852129   84   84   83   84   85   86   87  8189  1097  1097  ...  630  8191   \n",
       "\n",
       "         353   354   355   356   357   358   359   360  \n",
       "851274  8191  8191  8191  8191  8191  8191  8191  8191  \n",
       "851488  8191  8191  8191  8191  8191  8191  8191  8191  \n",
       "851702  8191  8191  8191  8191  8191  8191  8191  8191  \n",
       "851915  8191  8191  8191  8191  8191  8191  8191  8191  \n",
       "852129  8191  8191  8191  8191  8191  8191  8191  8191  \n",
       "\n",
       "[5 rows x 361 columns]"
      ]
     },
     "execution_count": 7,
     "metadata": {},
     "output_type": "execute_result"
    }
   ],
   "source": [
    "#Les données laser\n",
    "laser_df.head()"
   ]
  },
  {
   "cell_type": "code",
   "execution_count": 8,
   "metadata": {},
   "outputs": [],
   "source": [
    "def readSensorData(sensors_df):\n",
    "    '''Velocity and steering'''\n",
    "    # Sensor params\n",
    "    KV1 = 0.024970 * (1 - 0.21)\n",
    "    KA1 = 0.00040 * (1 + 0)\n",
    "    KA0 = 2022\n",
    "    Kx1 = 1.0127\n",
    "    Kx2 = 0.0042\n",
    "    \n",
    "    time_sensors = sensors_df['time   '].values / 1000.\n",
    "    steering = Kx1 * (sensors_df['steer  '].values - KA0) * KA1 + Kx2 \n",
    "    velocity = KV1 * sensors_df['speed  '].values\n",
    "    \n",
    "    return time_sensors, steering, velocity"
   ]
  },
  {
   "cell_type": "code",
   "execution_count": 9,
   "metadata": {},
   "outputs": [
    {
     "data": {
      "text/plain": [
       "<matplotlib.legend.Legend at 0x7f76521780f0>"
      ]
     },
     "execution_count": 9,
     "metadata": {},
     "output_type": "execute_result"
    },
    {
     "data": {
      "image/png": "[encoded data removed]",
      "text/plain": [
       "<Figure size 432x288 with 1 Axes>"
      ]
     },
     "metadata": {
      "needs_background": "light"
     },
     "output_type": "display_data"
    }
   ],
   "source": [
    "time_sensors, steering, velocity = readSensorData(sensors_df)\n",
    "plt.plot(time_sensors, steering, label='steering')\n",
    "plt.plot(time_sensors, velocity, label='velocity')\n",
    "plt.legend()"
   ]
  },
  {
   "cell_type": "code",
   "execution_count": 10,
   "metadata": {},
   "outputs": [],
   "source": [
    "def readGPSData(gps_df):\n",
    "    '''Latitude and longtitude'''\n",
    "    # Reference point\n",
    "    LAT0  = -33.8884\n",
    "    LONG0 = 151.1948\n",
    "    \n",
    "    # Params (wtf is this sorcery)\n",
    "    a =  6378137.0\n",
    "    b  = a * (1 - 0.003352810664747)\n",
    "    kpi = np.pi / 180\n",
    "    cf = np.cos(LAT0 * kpi)\n",
    "    sf = np.abs(np.sin(LAT0 * kpi))\n",
    "    Ro = a ** 2 * cf / np.abs(np.sqrt((a *cf) ** 2 + (b * sf) ** 2))  ;\n",
    "    RR = b / a  * np.abs(np.sqrt(a ** 2- Ro ** 2)) / sf ;\n",
    "    \n",
    "    time_gps = gps_df['1.time   '].values / 1000.\n",
    "    latitude = - RR * kpi * (gps_df['3.LAT    '].values + LAT0)\n",
    "    longtitude = Ro * kpi * (gps_df['4.LONG   '].values - LONG0)\n",
    "    \n",
    "    return time_gps, latitude, longtitude"
   ]
  },
  {
   "cell_type": "code",
   "execution_count": 11,
   "metadata": {},
   "outputs": [
    {
     "data": {
      "text/plain": [
       "<matplotlib.legend.Legend at 0x7f7651cd7080>"
      ]
     },
     "execution_count": 11,
     "metadata": {},
     "output_type": "execute_result"
    },
    {
     "data": {
      "image/png": "[encoded data removed]",
      "text/plain": [
       "<Figure size 432x288 with 1 Axes>"
      ]
     },
     "metadata": {
      "needs_background": "light"
     },
     "output_type": "display_data"
    }
   ],
   "source": [
    "time_gps, latitude, longtitude = readGPSData(gps_df)\n",
    "plt.plot(time_gps, latitude, label='latitude')\n",
    "plt.plot(time_gps, longtitude, label='longtitude')\n",
    "plt.legend()"
   ]
  },
  {
   "cell_type": "code",
   "execution_count": 12,
   "metadata": {},
   "outputs": [],
   "source": [
    "def readLaserData(laser_df, time_laser_vals):\n",
    "    '''\n",
    "    Si j'ai bien compris:\n",
    "    laser_time: le temps\n",
    "    laser_range: pour chaque angle, indique la distance a l'objet le plus proche\n",
    "    laser_intensity: pour chaque angle, l'inteniste lumineuse positive\n",
    "    '''\n",
    "    mask13 = 2 ** 13 - 1\n",
    "    maskA = ~mask13\n",
    "    length, angles = laser_df.shape\n",
    "    laser_range = laser_intensity = np.zeros((length, angles))\n",
    "\n",
    "    for i in range(length):\n",
    "        laser_obs = laser_df.iloc[i].values\n",
    "        laser_range[i] = np.array(laser_obs & mask13) # prendre en compte la reflexion des objets (?)\n",
    "        laser_intensity[i] = np.array(laser_obs & mask13) # apparemment ca sert juste a s'assurer que c'est positif\n",
    "    \n",
    "    laser_range = laser_range / 100. # conversion en metres\n",
    "    time_laser = time_laser_vals / 1000. # ms\n",
    "    return time_laser, laser_range, laser_intensity"
   ]
  },
  {
   "cell_type": "code",
   "execution_count": 13,
   "metadata": {},
   "outputs": [
    {
     "data": {
      "text/plain": [
       "[<matplotlib.lines.Line2D at 0x7f7651c41f60>]"
      ]
     },
     "execution_count": 13,
     "metadata": {},
     "output_type": "execute_result"
    },
    {
     "data": {
      "image/png": "[encoded data removed]",
      "text/plain": [
       "<Figure size 432x288 with 1 Axes>"
      ]
     },
     "metadata": {
      "needs_background": "light"
     },
     "output_type": "display_data"
    }
   ],
   "source": [
    "time_laser, laser_range, laser_intensity = readLaserData(laser_df, time_laser_vals)\n",
    "plt.plot(range(361), laser_range[0])"
   ]
  },
  {
   "cell_type": "code",
   "execution_count": 16,
   "metadata": {},
   "outputs": [],
   "source": [
    "def scanData():\n",
    "    '''\n",
    "    Pour avoir le temps, le sensor et l'indice de chaque mesure qui arrive\n",
    "    Au temps time[i] on a une mesure de sensor[i]\n",
    "    (1 si gps, 2 si steering et velocity, 3 si laser)\n",
    "    dans l'indice index[i] du tableau correspondant\n",
    "    '''\n",
    "    time_sensors, steering, velocity = readSensorData(sensors_df)\n",
    "    time_gps, latitude, longtitude = readGPSData(gps_df)\n",
    "    time_laser, laser_range, laser_intensity = readLaserData(laser_df, time_laser_vals)\n",
    "    \n",
    "    times = [(1, i, time) for i, time in enumerate(time_gps)]\n",
    "    times.extend([(2, i, time) for i, time in enumerate(time_sensors)])\n",
    "    times.extend([(3, i, time) for i, time in enumerate(time_laser)])\n",
    "\n",
    "    times = np.array(sorted(times, key=lambda u: u[2]))\n",
    "    time, sensor, index = times[:, 2], times[:, 0], times[:, 1]\n",
    "    return time, sensor, index"
   ]
  },
  {
   "cell_type": "code",
   "execution_count": 22,
   "metadata": {},
   "outputs": [
    {
     "data": {
      "text/plain": [
       "<matplotlib.collections.PathCollection at 0x7f76514b4390>"
      ]
     },
     "execution_count": 22,
     "metadata": {},
     "output_type": "execute_result"
    },
    {
     "data": {
      "image/png": "[encoded data removed]",
      "text/plain": [
       "<Figure size 432x288 with 1 Axes>"
      ]
     },
     "metadata": {
      "needs_background": "light"
     },
     "output_type": "display_data"
    }
   ],
   "source": [
    "time, sensor, index = scanData()\n",
    "plt.scatter(time[:50], sensor[:50])"
   ]
  },
  {
   "cell_type": "code",
   "execution_count": null,
   "metadata": {},
   "outputs": [],
   "source": []
  }
 ],
 "metadata": {
  "kernelspec": {
   "display_name": "Python 3",
   "language": "python",
   "name": "python3"
  },
  "language_info": {
   "codemirror_mode": {
    "name": "ipython",
    "version": 3
   },
   "file_extension": ".py",
   "mimetype": "text/x-python",
   "name": "python",
   "nbconvert_exporter": "python",
   "pygments_lexer": "ipython3",
   "version": "3.6.8"
  }
 },
 "nbformat": 4,
 "nbformat_minor": 2
}
