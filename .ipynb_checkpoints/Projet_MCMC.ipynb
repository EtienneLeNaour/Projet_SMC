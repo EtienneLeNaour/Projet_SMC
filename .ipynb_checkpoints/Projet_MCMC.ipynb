{
 "cells": [
  {
   "cell_type": "code",
   "execution_count": 1,
   "metadata": {},
   "outputs": [],
   "source": [
    "import scipy.io\n",
    "import pandas as pd\n",
    "import numpy as np\n",
    "import matplotlib.pyplot as plt"
   ]
  },
  {
   "cell_type": "code",
   "execution_count": 2,
   "metadata": {},
   "outputs": [],
   "source": [
    "from os import chdir\n",
    "chdir('data/Cp_16_05_01')"
   ]
  },
  {
   "cell_type": "markdown",
   "metadata": {},
   "source": [
    "## experience 1"
   ]
  },
  {
   "cell_type": "markdown",
   "metadata": {},
   "source": [
    "### Bases de données GPS, laser, et vitesse"
   ]
  },
  {
   "cell_type": "code",
   "execution_count": 3,
   "metadata": {},
   "outputs": [],
   "source": [
    "#Telechargement des données pour l'experience 1 (qui sont sous forme de dictionnaire)\n",
    "exp_ind = 1\n",
    "gps1 = scipy.io.loadmat('juan{}_gps.mat'.format(exp_ind))\n",
    "sensors1 = scipy.io.loadmat('juan{}_etc.mat'.format(exp_ind))\n",
    "laser1 = scipy.io.loadmat('juan{}_lsr2.mat'.format(exp_ind))"
   ]
  },
  {
   "cell_type": "code",
   "execution_count": 4,
   "metadata": {},
   "outputs": [],
   "source": [
    "#Mise en forme en Data Frame\n",
    "\n",
    "gps_df = pd.DataFrame(gps1['GPS'], columns=gps1['GPSFieldsOrder'])\n",
    "sensors_df = pd.DataFrame(sensors1['SENSORS'], columns=sensors1['ETCFieldsOrder'])\n",
    "laser_df = pd.DataFrame(laser1['LASER'], index=laser1['TLsr'].flatten())\n",
    "time_laser_vals = laser1['TLsr'].flatten()"
   ]
  },
  {
   "cell_type": "markdown",
   "metadata": {},
   "source": [
    "### Visualisons ces données"
   ]
  },
  {
   "cell_type": "code",
   "execution_count": 5,
   "metadata": {},
   "outputs": [],
   "source": [
    "gps_df = pd.DataFrame(gps1['GPS'], columns = ['time', 'ts', 'lat', 'long', 'alti', 'course', 'speedOG', 'speedV', \n",
    "                                              'SgmLat', 'SgmLong', 'SgmAlti', 'mode', 'sats'])\n",
    "sensors_df = pd.DataFrame(sensors1['SENSORS'], columns = ['time', 'counts', 'accel', 'steer', 'brake', 'speed'])\n",
    "laser_df = pd.DataFrame(laser1['LASER'])\n",
    "laser_df.insert(0, 'time', laser1['TLsr'].flatten())"
   ]
  },
  {
   "cell_type": "code",
   "execution_count": 6,
   "metadata": {},
   "outputs": [
    {
     "data": {
      "text/html": [
       "<div>\n",
       "<style scoped>\n",
       "    .dataframe tbody tr th:only-of-type {\n",
       "        vertical-align: middle;\n",
       "    }\n",
       "\n",
       "    .dataframe tbody tr th {\n",
       "        vertical-align: top;\n",
       "    }\n",
       "\n",
       "    .dataframe thead th {\n",
       "        text-align: right;\n",
       "    }\n",
       "</style>\n",
       "<table border=\"1\" class=\"dataframe\">\n",
       "  <thead>\n",
       "    <tr style=\"text-align: right;\">\n",
       "      <th></th>\n",
       "      <th>time</th>\n",
       "      <th>ts</th>\n",
       "      <th>lat</th>\n",
       "      <th>long</th>\n",
       "      <th>alti</th>\n",
       "      <th>course</th>\n",
       "      <th>speedOG</th>\n",
       "      <th>speedV</th>\n",
       "      <th>SgmLat</th>\n",
       "      <th>SgmLong</th>\n",
       "      <th>SgmAlti</th>\n",
       "      <th>mode</th>\n",
       "      <th>sats</th>\n",
       "    </tr>\n",
       "  </thead>\n",
       "  <tbody>\n",
       "    <tr>\n",
       "      <td>0</td>\n",
       "      <td>851227.0</td>\n",
       "      <td>5.117333</td>\n",
       "      <td>33.888452</td>\n",
       "      <td>151.194872</td>\n",
       "      <td>61.536</td>\n",
       "      <td>0.0</td>\n",
       "      <td>0.00</td>\n",
       "      <td>-0.00</td>\n",
       "      <td>0.009</td>\n",
       "      <td>0.008</td>\n",
       "      <td>0.016</td>\n",
       "      <td>3.0</td>\n",
       "      <td>11.0</td>\n",
       "    </tr>\n",
       "    <tr>\n",
       "      <td>1</td>\n",
       "      <td>851428.0</td>\n",
       "      <td>5.117389</td>\n",
       "      <td>33.888452</td>\n",
       "      <td>151.194872</td>\n",
       "      <td>61.535</td>\n",
       "      <td>0.0</td>\n",
       "      <td>0.02</td>\n",
       "      <td>-0.01</td>\n",
       "      <td>0.009</td>\n",
       "      <td>0.008</td>\n",
       "      <td>0.017</td>\n",
       "      <td>3.0</td>\n",
       "      <td>11.0</td>\n",
       "    </tr>\n",
       "    <tr>\n",
       "      <td>2</td>\n",
       "      <td>851628.0</td>\n",
       "      <td>5.117444</td>\n",
       "      <td>33.888452</td>\n",
       "      <td>151.194872</td>\n",
       "      <td>61.537</td>\n",
       "      <td>0.0</td>\n",
       "      <td>0.00</td>\n",
       "      <td>-0.00</td>\n",
       "      <td>0.010</td>\n",
       "      <td>0.009</td>\n",
       "      <td>0.019</td>\n",
       "      <td>3.0</td>\n",
       "      <td>11.0</td>\n",
       "    </tr>\n",
       "    <tr>\n",
       "      <td>3</td>\n",
       "      <td>851828.0</td>\n",
       "      <td>5.117500</td>\n",
       "      <td>33.888451</td>\n",
       "      <td>151.194872</td>\n",
       "      <td>61.536</td>\n",
       "      <td>0.0</td>\n",
       "      <td>0.02</td>\n",
       "      <td>-0.01</td>\n",
       "      <td>0.007</td>\n",
       "      <td>0.007</td>\n",
       "      <td>0.014</td>\n",
       "      <td>3.0</td>\n",
       "      <td>11.0</td>\n",
       "    </tr>\n",
       "    <tr>\n",
       "      <td>4</td>\n",
       "      <td>852028.0</td>\n",
       "      <td>5.117556</td>\n",
       "      <td>33.888452</td>\n",
       "      <td>151.194872</td>\n",
       "      <td>61.541</td>\n",
       "      <td>0.0</td>\n",
       "      <td>0.01</td>\n",
       "      <td>0.03</td>\n",
       "      <td>0.008</td>\n",
       "      <td>0.007</td>\n",
       "      <td>0.014</td>\n",
       "      <td>3.0</td>\n",
       "      <td>11.0</td>\n",
       "    </tr>\n",
       "  </tbody>\n",
       "</table>\n",
       "</div>"
      ],
      "text/plain": [
       "       time        ts        lat        long    alti  course  speedOG  speedV  \\\n",
       "0  851227.0  5.117333  33.888452  151.194872  61.536     0.0     0.00   -0.00   \n",
       "1  851428.0  5.117389  33.888452  151.194872  61.535     0.0     0.02   -0.01   \n",
       "2  851628.0  5.117444  33.888452  151.194872  61.537     0.0     0.00   -0.00   \n",
       "3  851828.0  5.117500  33.888451  151.194872  61.536     0.0     0.02   -0.01   \n",
       "4  852028.0  5.117556  33.888452  151.194872  61.541     0.0     0.01    0.03   \n",
       "\n",
       "   SgmLat  SgmLong  SgmAlti  mode  sats  \n",
       "0   0.009    0.008    0.016   3.0  11.0  \n",
       "1   0.009    0.008    0.017   3.0  11.0  \n",
       "2   0.010    0.009    0.019   3.0  11.0  \n",
       "3   0.007    0.007    0.014   3.0  11.0  \n",
       "4   0.008    0.007    0.014   3.0  11.0  "
      ]
     },
     "execution_count": 6,
     "metadata": {},
     "output_type": "execute_result"
    }
   ],
   "source": [
    "#Les données GPS\n",
    "gps_df.head()"
   ]
  },
  {
   "cell_type": "code",
   "execution_count": 7,
   "metadata": {},
   "outputs": [
    {
     "data": {
      "text/html": [
       "<div>\n",
       "<style scoped>\n",
       "    .dataframe tbody tr th:only-of-type {\n",
       "        vertical-align: middle;\n",
       "    }\n",
       "\n",
       "    .dataframe tbody tr th {\n",
       "        vertical-align: top;\n",
       "    }\n",
       "\n",
       "    .dataframe thead th {\n",
       "        text-align: right;\n",
       "    }\n",
       "</style>\n",
       "<table border=\"1\" class=\"dataframe\">\n",
       "  <thead>\n",
       "    <tr style=\"text-align: right;\">\n",
       "      <th></th>\n",
       "      <th>time</th>\n",
       "      <th>counts</th>\n",
       "      <th>accel</th>\n",
       "      <th>steer</th>\n",
       "      <th>brake</th>\n",
       "      <th>speed</th>\n",
       "    </tr>\n",
       "  </thead>\n",
       "  <tbody>\n",
       "    <tr>\n",
       "      <td>0</td>\n",
       "      <td>851292</td>\n",
       "      <td>87</td>\n",
       "      <td>2047</td>\n",
       "      <td>2171</td>\n",
       "      <td>2046</td>\n",
       "      <td>0</td>\n",
       "    </tr>\n",
       "    <tr>\n",
       "      <td>1</td>\n",
       "      <td>851317</td>\n",
       "      <td>87</td>\n",
       "      <td>2047</td>\n",
       "      <td>2172</td>\n",
       "      <td>2047</td>\n",
       "      <td>0</td>\n",
       "    </tr>\n",
       "    <tr>\n",
       "      <td>2</td>\n",
       "      <td>851342</td>\n",
       "      <td>87</td>\n",
       "      <td>2047</td>\n",
       "      <td>2171</td>\n",
       "      <td>2047</td>\n",
       "      <td>0</td>\n",
       "    </tr>\n",
       "    <tr>\n",
       "      <td>3</td>\n",
       "      <td>851367</td>\n",
       "      <td>87</td>\n",
       "      <td>2047</td>\n",
       "      <td>2171</td>\n",
       "      <td>2047</td>\n",
       "      <td>0</td>\n",
       "    </tr>\n",
       "    <tr>\n",
       "      <td>4</td>\n",
       "      <td>851392</td>\n",
       "      <td>87</td>\n",
       "      <td>2047</td>\n",
       "      <td>2171</td>\n",
       "      <td>2046</td>\n",
       "      <td>0</td>\n",
       "    </tr>\n",
       "  </tbody>\n",
       "</table>\n",
       "</div>"
      ],
      "text/plain": [
       "     time  counts  accel  steer  brake  speed\n",
       "0  851292      87   2047   2171   2046      0\n",
       "1  851317      87   2047   2172   2047      0\n",
       "2  851342      87   2047   2171   2047      0\n",
       "3  851367      87   2047   2171   2047      0\n",
       "4  851392      87   2047   2171   2046      0"
      ]
     },
     "execution_count": 7,
     "metadata": {},
     "output_type": "execute_result"
    }
   ],
   "source": [
    "#Les données du capteur\n",
    "sensors_df.head()"
   ]
  },
  {
   "cell_type": "code",
   "execution_count": 8,
   "metadata": {},
   "outputs": [
    {
     "data": {
      "text/html": [
       "<div>\n",
       "<style scoped>\n",
       "    .dataframe tbody tr th:only-of-type {\n",
       "        vertical-align: middle;\n",
       "    }\n",
       "\n",
       "    .dataframe tbody tr th {\n",
       "        vertical-align: top;\n",
       "    }\n",
       "\n",
       "    .dataframe thead th {\n",
       "        text-align: right;\n",
       "    }\n",
       "</style>\n",
       "<table border=\"1\" class=\"dataframe\">\n",
       "  <thead>\n",
       "    <tr style=\"text-align: right;\">\n",
       "      <th></th>\n",
       "      <th>time</th>\n",
       "      <th>0</th>\n",
       "      <th>1</th>\n",
       "      <th>2</th>\n",
       "      <th>3</th>\n",
       "      <th>4</th>\n",
       "      <th>5</th>\n",
       "      <th>6</th>\n",
       "      <th>7</th>\n",
       "      <th>8</th>\n",
       "      <th>...</th>\n",
       "      <th>351</th>\n",
       "      <th>352</th>\n",
       "      <th>353</th>\n",
       "      <th>354</th>\n",
       "      <th>355</th>\n",
       "      <th>356</th>\n",
       "      <th>357</th>\n",
       "      <th>358</th>\n",
       "      <th>359</th>\n",
       "      <th>360</th>\n",
       "    </tr>\n",
       "  </thead>\n",
       "  <tbody>\n",
       "    <tr>\n",
       "      <td>0</td>\n",
       "      <td>851274</td>\n",
       "      <td>84</td>\n",
       "      <td>84</td>\n",
       "      <td>84</td>\n",
       "      <td>84</td>\n",
       "      <td>86</td>\n",
       "      <td>86</td>\n",
       "      <td>86</td>\n",
       "      <td>8189</td>\n",
       "      <td>1097</td>\n",
       "      <td>...</td>\n",
       "      <td>630</td>\n",
       "      <td>8191</td>\n",
       "      <td>8191</td>\n",
       "      <td>8191</td>\n",
       "      <td>8191</td>\n",
       "      <td>8191</td>\n",
       "      <td>8191</td>\n",
       "      <td>8191</td>\n",
       "      <td>8191</td>\n",
       "      <td>8191</td>\n",
       "    </tr>\n",
       "    <tr>\n",
       "      <td>1</td>\n",
       "      <td>851488</td>\n",
       "      <td>83</td>\n",
       "      <td>84</td>\n",
       "      <td>83</td>\n",
       "      <td>84</td>\n",
       "      <td>85</td>\n",
       "      <td>86</td>\n",
       "      <td>87</td>\n",
       "      <td>8189</td>\n",
       "      <td>1097</td>\n",
       "      <td>...</td>\n",
       "      <td>631</td>\n",
       "      <td>8191</td>\n",
       "      <td>8191</td>\n",
       "      <td>8191</td>\n",
       "      <td>8191</td>\n",
       "      <td>8191</td>\n",
       "      <td>8191</td>\n",
       "      <td>8191</td>\n",
       "      <td>8191</td>\n",
       "      <td>8191</td>\n",
       "    </tr>\n",
       "    <tr>\n",
       "      <td>2</td>\n",
       "      <td>851702</td>\n",
       "      <td>84</td>\n",
       "      <td>85</td>\n",
       "      <td>84</td>\n",
       "      <td>84</td>\n",
       "      <td>85</td>\n",
       "      <td>86</td>\n",
       "      <td>86</td>\n",
       "      <td>8189</td>\n",
       "      <td>1096</td>\n",
       "      <td>...</td>\n",
       "      <td>630</td>\n",
       "      <td>8191</td>\n",
       "      <td>8191</td>\n",
       "      <td>8191</td>\n",
       "      <td>8191</td>\n",
       "      <td>8191</td>\n",
       "      <td>8191</td>\n",
       "      <td>8191</td>\n",
       "      <td>8191</td>\n",
       "      <td>8191</td>\n",
       "    </tr>\n",
       "    <tr>\n",
       "      <td>3</td>\n",
       "      <td>851915</td>\n",
       "      <td>84</td>\n",
       "      <td>84</td>\n",
       "      <td>84</td>\n",
       "      <td>84</td>\n",
       "      <td>84</td>\n",
       "      <td>87</td>\n",
       "      <td>86</td>\n",
       "      <td>8189</td>\n",
       "      <td>1097</td>\n",
       "      <td>...</td>\n",
       "      <td>631</td>\n",
       "      <td>8191</td>\n",
       "      <td>8191</td>\n",
       "      <td>8191</td>\n",
       "      <td>8191</td>\n",
       "      <td>8191</td>\n",
       "      <td>8191</td>\n",
       "      <td>8191</td>\n",
       "      <td>8191</td>\n",
       "      <td>8191</td>\n",
       "    </tr>\n",
       "    <tr>\n",
       "      <td>4</td>\n",
       "      <td>852129</td>\n",
       "      <td>84</td>\n",
       "      <td>84</td>\n",
       "      <td>83</td>\n",
       "      <td>84</td>\n",
       "      <td>85</td>\n",
       "      <td>86</td>\n",
       "      <td>87</td>\n",
       "      <td>8189</td>\n",
       "      <td>1097</td>\n",
       "      <td>...</td>\n",
       "      <td>630</td>\n",
       "      <td>8191</td>\n",
       "      <td>8191</td>\n",
       "      <td>8191</td>\n",
       "      <td>8191</td>\n",
       "      <td>8191</td>\n",
       "      <td>8191</td>\n",
       "      <td>8191</td>\n",
       "      <td>8191</td>\n",
       "      <td>8191</td>\n",
       "    </tr>\n",
       "  </tbody>\n",
       "</table>\n",
       "<p>5 rows × 362 columns</p>\n",
       "</div>"
      ],
      "text/plain": [
       "     time   0   1   2   3   4   5   6     7     8  ...  351   352   353   354  \\\n",
       "0  851274  84  84  84  84  86  86  86  8189  1097  ...  630  8191  8191  8191   \n",
       "1  851488  83  84  83  84  85  86  87  8189  1097  ...  631  8191  8191  8191   \n",
       "2  851702  84  85  84  84  85  86  86  8189  1096  ...  630  8191  8191  8191   \n",
       "3  851915  84  84  84  84  84  87  86  8189  1097  ...  631  8191  8191  8191   \n",
       "4  852129  84  84  83  84  85  86  87  8189  1097  ...  630  8191  8191  8191   \n",
       "\n",
       "    355   356   357   358   359   360  \n",
       "0  8191  8191  8191  8191  8191  8191  \n",
       "1  8191  8191  8191  8191  8191  8191  \n",
       "2  8191  8191  8191  8191  8191  8191  \n",
       "3  8191  8191  8191  8191  8191  8191  \n",
       "4  8191  8191  8191  8191  8191  8191  \n",
       "\n",
       "[5 rows x 362 columns]"
      ]
     },
     "execution_count": 8,
     "metadata": {},
     "output_type": "execute_result"
    }
   ],
   "source": [
    "#Les données laser\n",
    "laser_df.head()"
   ]
  },
  {
   "cell_type": "code",
   "execution_count": 9,
   "metadata": {},
   "outputs": [],
   "source": [
    "def readSensorData(sensors_df):\n",
    "    '''Velocity and steering'''\n",
    "    # Sensor params\n",
    "    KV1 = 0.024970 * (1 - 0.21)\n",
    "    KA1 = 0.00040 * (1 + 0)\n",
    "    KA0 = 2022\n",
    "    Kx1 = 1.0127\n",
    "    Kx2 = 0.0042\n",
    "    \n",
    "    time_sensors = sensors_df['time'].values / 1000.\n",
    "    steering = Kx1 * (sensors_df['steer'].values - KA0) * KA1 + Kx2 \n",
    "    velocity = KV1 * sensors_df['speed'].values\n",
    "    \n",
    "    return time_sensors, steering, velocity"
   ]
  },
  {
   "cell_type": "code",
   "execution_count": 10,
   "metadata": {},
   "outputs": [
    {
     "data": {
      "text/plain": [
       "<matplotlib.legend.Legend at 0x115f20810>"
      ]
     },
     "execution_count": 10,
     "metadata": {},
     "output_type": "execute_result"
    },
    {
     "data": {
      "image/png": "[encoded data removed]",
      "text/plain": [
       "<Figure size 432x288 with 1 Axes>"
      ]
     },
     "metadata": {
      "needs_background": "light"
     },
     "output_type": "display_data"
    }
   ],
   "source": [
    "time_sensors, steering, velocity = readSensorData(sensors_df)\n",
    "plt.plot(time_sensors, steering, label='steering')\n",
    "plt.plot(time_sensors, velocity, label='velocity')\n",
    "plt.legend()"
   ]
  },
  {
   "cell_type": "code",
   "execution_count": 11,
   "metadata": {},
   "outputs": [],
   "source": [
    "def readGPSData(gps_df):\n",
    "    '''Latitude and longtitude'''\n",
    "    # Reference point\n",
    "    LAT0  = -33.8884\n",
    "    LONG0 = 151.1948\n",
    "    \n",
    "    # Params (wtf is this sorcery)\n",
    "    a =  6378137.0\n",
    "    b  = a * (1 - 0.003352810664747)\n",
    "    kpi = np.pi / 180\n",
    "    cf = np.cos(LAT0 * kpi)\n",
    "    sf = np.abs(np.sin(LAT0 * kpi))\n",
    "    Ro = a ** 2 * cf / np.abs(np.sqrt((a *cf) ** 2 + (b * sf) ** 2))  ;\n",
    "    RR = b / a  * np.abs(np.sqrt(a ** 2- Ro ** 2)) / sf ;\n",
    "    \n",
    "    time_gps = gps_df['time'].values / 1000.\n",
    "    latitude = - RR * kpi * (gps_df['lat'].values + LAT0)\n",
    "    longtitude = Ro * kpi * (gps_df['long'].values - LONG0)\n",
    "    \n",
    "    return time_gps, latitude, longtitude"
   ]
  },
  {
   "cell_type": "code",
   "execution_count": 12,
   "metadata": {},
   "outputs": [
    {
     "data": {
      "text/plain": [
       "<matplotlib.legend.Legend at 0x1160ef1d0>"
      ]
     },
     "execution_count": 12,
     "metadata": {},
     "output_type": "execute_result"
    },
    {
     "data": {
      "image/png": "[encoded data removed]",
      "text/plain": [
       "<Figure size 432x288 with 1 Axes>"
      ]
     },
     "metadata": {
      "needs_background": "light"
     },
     "output_type": "display_data"
    }
   ],
   "source": [
    "time_gps, latitude, longtitude = readGPSData(gps_df)\n",
    "plt.plot(time_gps, latitude, label='latitude')\n",
    "plt.plot(time_gps, longtitude, label='longtitude')\n",
    "plt.legend()"
   ]
  },
  {
   "cell_type": "code",
   "execution_count": 13,
   "metadata": {},
   "outputs": [],
   "source": [
    "def readLaserData(laser_df, time_laser_vals):\n",
    "    '''\n",
    "    Si j'ai bien compris:\n",
    "    laser_time: le temps\n",
    "    laser_range: pour chaque angle, indique la distance a l'objet le plus proche\n",
    "    laser_intensity: pour chaque angle, l'inteniste lumineuse positive\n",
    "    '''\n",
    "    mask13 = 2 ** 13 - 1\n",
    "    maskA = ~mask13\n",
    "    length, angles = laser_df.shape\n",
    "    laser_range = laser_intensity = np.zeros((length, angles))\n",
    "\n",
    "    for i in range(1, length):\n",
    "        laser_obs = laser_df.iloc[i].values\n",
    "        laser_range[i - 1] = np.array(laser_obs & mask13) # prendre en compte la reflexion des objets (?)\n",
    "        laser_intensity[i - 1] = np.array(laser_obs & mask13) # apparemment ca sert juste a s'assurer que c'est positif\n",
    "    \n",
    "    laser_range = laser_range / 100. # conversion en metres\n",
    "    time_laser = time_laser_vals / 1000. # ms\n",
    "    return time_laser, laser_range, laser_intensity"
   ]
  },
  {
   "cell_type": "code",
   "execution_count": 14,
   "metadata": {},
   "outputs": [
    {
     "data": {
      "text/plain": [
       "[<matplotlib.lines.Line2D at 0x1162d0590>]"
      ]
     },
     "execution_count": 14,
     "metadata": {},
     "output_type": "execute_result"
    },
    {
     "data": {
      "image/png": "[encoded data removed]",
      "text/plain": [
       "<Figure size 432x288 with 1 Axes>"
      ]
     },
     "metadata": {
      "needs_background": "light"
     },
     "output_type": "display_data"
    }
   ],
   "source": [
    "time_laser, laser_range, laser_intensity = readLaserData(laser_df, time_laser_vals)\n",
    "plt.plot(range(362), laser_range[0])"
   ]
  },
  {
   "cell_type": "code",
   "execution_count": 15,
   "metadata": {},
   "outputs": [],
   "source": [
    "def scanData():\n",
    "    '''\n",
    "    Pour avoir le temps, le sensor et l'indice de chaque mesure qui arrive\n",
    "    Au temps time[i] on a une mesure de sensor[i]\n",
    "    (1 si gps, 2 si steering et velocity, 3 si laser)\n",
    "    dans l'indice index[i] du tableau correspondant\n",
    "    '''\n",
    "    time_sensors, steering, velocity = readSensorData(sensors_df)\n",
    "    time_gps, latitude, longtitude = readGPSData(gps_df)\n",
    "    time_laser, laser_range, laser_intensity = readLaserData(laser_df, time_laser_vals)\n",
    "    \n",
    "    times = [(1, i, time) for i, time in enumerate(time_gps)]\n",
    "    times.extend([(2, i, time) for i, time in enumerate(time_sensors)])\n",
    "    times.extend([(3, i, time) for i, time in enumerate(time_laser)])\n",
    "\n",
    "    times = np.array(sorted(times, key=lambda u: u[2]))\n",
    "    time, sensor, index = times[:, 2], times[:, 0], times[:, 1]\n",
    "    return time, sensor, index"
   ]
  },
  {
   "cell_type": "code",
   "execution_count": 16,
   "metadata": {},
   "outputs": [
    {
     "data": {
      "text/plain": [
       "<matplotlib.collections.PathCollection at 0x116f6dc10>"
      ]
     },
     "execution_count": 16,
     "metadata": {},
     "output_type": "execute_result"
    },
    {
     "data": {
      "image/png": "[encoded data removed]",
      "text/plain": [
       "<Figure size 432x288 with 1 Axes>"
      ]
     },
     "metadata": {
      "needs_background": "light"
     },
     "output_type": "display_data"
    }
   ],
   "source": [
    "time, sensor, index = scanData()\n",
    "plt.scatter(time[:50], sensor[:50])"
   ]
  },
  {
   "cell_type": "code",
   "execution_count": 17,
   "metadata": {},
   "outputs": [
    {
     "data": {
      "text/plain": [
       "array([ 851.227,  851.274,  851.292, ..., 1059.542, 1059.567, 1059.592])"
      ]
     },
     "execution_count": 17,
     "metadata": {},
     "output_type": "execute_result"
    }
   ],
   "source": [
    "time"
   ]
  },
  {
   "cell_type": "code",
   "execution_count": 18,
   "metadata": {},
   "outputs": [
    {
     "data": {
      "text/plain": [
       "array([1., 3., 2., ..., 2., 2., 2.])"
      ]
     },
     "execution_count": 18,
     "metadata": {},
     "output_type": "execute_result"
    }
   ],
   "source": [
    "sensor"
   ]
  },
  {
   "cell_type": "code",
   "execution_count": 19,
   "metadata": {},
   "outputs": [
    {
     "data": {
      "text/plain": [
       "array([   0.,    0.,    0., ..., 8330., 8331., 8332.])"
      ]
     },
     "execution_count": 19,
     "metadata": {},
     "output_type": "execute_result"
    }
   ],
   "source": [
    "index"
   ]
  },
  {
   "cell_type": "markdown",
   "metadata": {},
   "source": [
    "# Useful functions"
   ]
  },
  {
   "cell_type": "code",
   "execution_count": 22,
   "metadata": {},
   "outputs": [],
   "source": [
    "# Geometric constants\n",
    "L = 2.83\n",
    "H = 0.76\n",
    "a = 3.78\n",
    "b = 0.5\n",
    "\n",
    "def transition_model(current_state, dt):\n",
    "    '''return the state transition model without taking into\n",
    "    account he state noise (v' and beta'')'''\n",
    "    # Retrieve initial states\n",
    "    x = current_state['x']\n",
    "    y = current_state['y']\n",
    "    v = current_state['v']\n",
    "\n",
    "    psi = current_state['psi']\n",
    "    beta = current_state['beta']\n",
    "    beta_dot = current_state['beta_dot']\n",
    "    \n",
    "    # Next states\n",
    "    next_state = dict()\n",
    "    next_state['x'] = x + dt * v * (np.cos(psi) + (- a * np.sin(psi) + b * np.cos(psi)) * np.tan(beta) / L)\n",
    "    next_state['y'] = y + dt * v * (np.sin(psi) + (a * np.cos(psi) + b * np.sin(psi)) * np.tan(beta) / L)\n",
    "    next_state['v'] = v\n",
    "    \n",
    "    next_state['psi'] = psi + dt * v * np.tan(beta) / L\n",
    "    next_state['beta'] = beta + dt * beta_dot\n",
    "    next_state['beta_dot'] = beta_dot\n",
    "    \n",
    "    return next_state"
   ]
  },
  {
   "cell_type": "code",
   "execution_count": 23,
   "metadata": {},
   "outputs": [
    {
     "data": {
      "text/plain": [
       "{'x': 0.01748438881981799,\n",
       " 'y': 0.03715187323513207,\n",
       " 'v': 2,\n",
       " 'psi': 1.001418157909335,\n",
       " 'beta': 0.10020000000000001,\n",
       " 'beta_dot': 0.01}"
      ]
     },
     "execution_count": 23,
     "metadata": {},
     "output_type": "execute_result"
    }
   ],
   "source": [
    "init_state = {\n",
    "    'x': 0,\n",
    "    'y': 0,\n",
    "    'v': 2,\n",
    "    'psi': 1,\n",
    "    'beta': 0.1,\n",
    "    'beta_dot': 0.01,\n",
    "}\n",
    "transition_model(init_state, dt=1. / 50)"
   ]
  },
  {
   "cell_type": "markdown",
   "metadata": {},
   "source": [
    "# Algorithme 5"
   ]
  },
  {
   "cell_type": "code",
   "execution_count": 17,
   "metadata": {},
   "outputs": [],
   "source": [
    "S1_time = gps_df['time'].values\n",
    "S2_time = sensors_df['time'].values\n",
    "S3_time = laser_df['time'].values"
   ]
  },
  {
   "cell_type": "code",
   "execution_count": 18,
   "metadata": {},
   "outputs": [
    {
     "name": "stdout",
     "output_type": "stream",
     "text": [
      "39\n"
     ]
    }
   ],
   "source": [
    "nb_2_3 = 0\n",
    "times_2_3 = []\n",
    "\n",
    "for a in S2_time:\n",
    "    for b in S3_time:\n",
    "        if (a == b):\n",
    "            nb_2_3 += 1\n",
    "            times_2_3.append(a)\n",
    "            \n",
    "print(nb_2_3)"
   ]
  },
  {
   "cell_type": "code",
   "execution_count": 19,
   "metadata": {},
   "outputs": [
    {
     "name": "stdout",
     "output_type": "stream",
     "text": [
      "[[1.059045e+06 1.000000e+00]\n",
      " [1.059245e+06 1.000000e+00]\n",
      " [8.593920e+05 2.300000e+01]\n",
      " [8.617420e+05 2.300000e+01]]\n"
     ]
    }
   ],
   "source": [
    "v_temps = np.ones((len(S1_time) + nb_2_3, 2))\n",
    "v_temps[0:len(S1_time), 0] = S1_time\n",
    "v_temps[1040:, 0] = times_2_3\n",
    "v_temps[1040:, 1] = 23\n",
    "print(v_temps[1038:1042, :])\n",
    "v_temps = v_temps[np.argsort(v_temps[:, 0])]"
   ]
  },
  {
   "cell_type": "code",
   "execution_count": 21,
   "metadata": {},
   "outputs": [
    {
     "data": {
      "text/plain": [
       "array([[8.512270e+05, 1.000000e+00],\n",
       "       [8.514280e+05, 1.000000e+00],\n",
       "       [8.516280e+05, 1.000000e+00],\n",
       "       ...,\n",
       "       [1.058845e+06, 1.000000e+00],\n",
       "       [1.059045e+06, 1.000000e+00],\n",
       "       [1.059245e+06, 1.000000e+00]])"
      ]
     },
     "execution_count": 21,
     "metadata": {},
     "output_type": "execute_result"
    }
   ],
   "source": [
    "v_temps"
   ]
  },
  {
   "cell_type": "code",
   "execution_count": 32,
   "metadata": {},
   "outputs": [],
   "source": [
    "def q_alpha1 (alpha1, c1_new, sigma1) :\n",
    "    '''\n",
    "    === ÉQUATION 26 page 11 ===\n",
    "    Ici, alpha1 est dans {0, 1}. Par l'article, la loi de Dirichlet est réduite\n",
    "    à une loi beta.\n",
    "    Pas de a1 = alpha_{1, t} ? \n",
    "    '''\n",
    "    \n",
    "    a_prime = np.empty(2)\n",
    "    a_prime[0] = (sigma1 / (1 + sigma1)) * alpha1[0] + (c1_new == 0) / (1 + sigma1)\n",
    "    a_prime[1] = (sigma1 / (1 + sigma1)) * alpha1[1] + (c1_new == 1) / (1 + sigma1)\n",
    "    \n",
    "    return np.random.dirichlet((1 + sigma1) * a_prime)"
   ]
  },
  {
   "cell_type": "code",
   "execution_count": null,
   "metadata": {},
   "outputs": [],
   "source": [
    "def q_c1 (c1, xchap, SIGMA, alpha1, z1) :\n",
    "    '''\n",
    "    === ÉQUATION 29 page 11 ===\n",
    "    À définir : p0_z1, h et S\n",
    "    '''\n",
    "    h = \n",
    "    S = \n",
    "    return (1 - alpha1[1]) * p0_z1(z1) * (c1 == 0) + alpha1[1] * (S * np.random.randn(1) + h) * (c1 == 1) \n",
    "    # S = variance; h = moyenne"
   ]
  },
  {
   "cell_type": "code",
   "execution_count": 37,
   "metadata": {},
   "outputs": [
    {
     "ename": "SyntaxError",
     "evalue": "unexpected EOF while parsing (<ipython-input-37-45f49c69279f>, line 1)",
     "output_type": "error",
     "traceback": [
      "\u001b[0;36m  File \u001b[0;32m\"<ipython-input-37-45f49c69279f>\"\u001b[0;36m, line \u001b[0;32m1\u001b[0m\n\u001b[0;31m    def q_sigma1 (s1, sigma1, alpha1_new, alpha1) :\u001b[0m\n\u001b[0m                                                   ^\u001b[0m\n\u001b[0;31mSyntaxError\u001b[0m\u001b[0;31m:\u001b[0m unexpected EOF while parsing\n"
     ]
    }
   ],
   "source": [
    "def q_sigma1 (s1, sigma1_new, sigma1, alpha1_new, alpha1) :\n",
    "    '''\n",
    "    === ÉQUATION 28 page 11 ===\n",
    "    La formule est donnée avec un log.\n",
    "    Pas de s1 = sigma_{1, t}^alpha ? \n",
    "    '''\n",
    "    lambda_a = 1 * np.random.randn(1) # définir la variance de lambda^alpha, c'est un bruit blanc gaussien\n",
    "    numerateur = np.random.dirichlet(sigma1_new * alpha1) * (lambda_a * np.random.randn(1) + np.log(sigma1))\n",
    "    denominateur = np.random.dirichlet(sigma1 * alpha1)\n",
    "    return numerateur / denominateur\n"
   ]
  },
  {
   "cell_type": "code",
   "execution_count": null,
   "metadata": {},
   "outputs": [],
   "source": [
    "def calcul_wt (z1, list_c1) :"
   ]
  },
  {
   "cell_type": "code",
   "execution_count": null,
   "metadata": {},
   "outputs": [],
   "source": [
    "def p_z2 () :"
   ]
  },
  {
   "cell_type": "code",
   "execution_count": null,
   "metadata": {},
   "outputs": [],
   "source": [
    "def p_z3 () :"
   ]
  },
  {
   "cell_type": "code",
   "execution_count": 22,
   "metadata": {},
   "outputs": [
    {
     "ename": "SyntaxError",
     "evalue": "unexpected EOF while parsing (<ipython-input-22-1b3cb452efc3>, line 42)",
     "output_type": "error",
     "traceback": [
      "\u001b[0;36m  File \u001b[0;32m\"<ipython-input-22-1b3cb452efc3>\"\u001b[0;36m, line \u001b[0;32m42\u001b[0m\n\u001b[0;31m    \u001b[0m\n\u001b[0m    ^\u001b[0m\n\u001b[0;31mSyntaxError\u001b[0m\u001b[0;31m:\u001b[0m unexpected EOF while parsing\n"
     ]
    }
   ],
   "source": [
    "def RaoBlackwell_UKF (n_particules, v_temps, eta = 0.8*n_particules):\n",
    "    \n",
    "    ### === Initialisation === ###\n",
    "    \n",
    "    xhap0 = p_xhap0(x0)\n",
    "    SIGMA0 = p_SIGMA0(SIG0)\n",
    "    sigma0 = p_sigma0(sig0)\n",
    "    alpha0 = p_alpha0(a0, sigma0) # c'est bien sigma0 en deuxième paramètre ?\n",
    "    w0 = (1./n_particules)*np.ones(n_particules)\n",
    "    \n",
    "    ### === Iterations === ###\n",
    "    \n",
    "    for t in range (len(time)):\n",
    "        \n",
    "        # Mesures z_2,t et z_3,t #\n",
    "        if (v_temps[t, 1] == 23): \n",
    "            \n",
    "            xchap, SIGMA = UFK(xhap, SIGMA, z2, z3) # en cours (Étienne)\n",
    "            \n",
    "            # Update des variables liées au GPS : (à modifier)\n",
    "            Xt = Xt + T * (Vt*np.cos(psi) + (- a*np.sin(psi) + b*np.cos(psi)) * (Vt/L) * np.tan(beta))\n",
    "            Yt = Yt + T * (Vt*np.sin(psi) + (a*np.cos(psi) + b*np.sin(psi)) * (Vt/L) * np.tan(beta))\n",
    "            \n",
    "            ''' \n",
    "            |-----> on ne change rien :\n",
    "            c1_new = c1\n",
    "            alpha1_new = alpha1\n",
    "            sigma1_new = sigma1\n",
    "            '''\n",
    "            \n",
    "            # Update des poids :\n",
    "            wt = wt * p_z2() * p_z3() # à coder\n",
    "            \n",
    "        # Mesures z_1,t #\n",
    "        if (v_temps[t, 1] == 1) : \n",
    "            \n",
    "            c1_new = q_c1(c1, xchap, SIGMA, alpha1, z1) # à compléter\n",
    "            alpha1_new = q_alpha1(alpha1, c1_new, sigma1) # fonctionne correctement\n",
    "            sigma1_new = q_sigma1(s1, sigma1, alpha1_new, alpha1) # à compléter\n",
    "            xchap, SIGMA = UFK(xhap, SIGMA, c1_new, z1) # en cours (Étienne)\n",
    "            \n",
    "            # Update des poids :\n",
    "            wt = calcul_wt(z1, list_c1) # à coder\n",
    "            \n",
    "        # Resampling #\n",
    "        Neff = 1./sum(wt**2)\n",
    "        if (Neff <= eta) :\n",
    "            \n",
    "            "
   ]
  },
  {
   "cell_type": "code",
   "execution_count": null,
   "metadata": {},
   "outputs": [],
   "source": []
  }
 ],
 "metadata": {
  "kernelspec": {
   "display_name": "Python 3",
   "language": "python",
   "name": "python3"
  },
  "language_info": {
   "codemirror_mode": {
    "name": "ipython",
    "version": 3
   },
   "file_extension": ".py",
   "mimetype": "text/x-python",
   "name": "python",
   "nbconvert_exporter": "python",
   "pygments_lexer": "ipython3",
   "version": "3.7.4"
  }
 },
 "nbformat": 4,
 "nbformat_minor": 2
}
