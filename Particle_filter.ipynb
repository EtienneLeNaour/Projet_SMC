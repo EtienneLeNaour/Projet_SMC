{
 "cells": [
  {
   "cell_type": "markdown",
   "metadata": {},
   "source": [
    "## load data "
   ]
  },
  {
   "cell_type": "code",
   "execution_count": 1,
   "metadata": {},
   "outputs": [],
   "source": [
    "import scipy.io\n",
    "import scipy.stats\n",
    "import pandas as pd\n",
    "import numpy as np\n",
    "import matplotlib.pyplot as plt"
   ]
  },
  {
   "cell_type": "code",
   "execution_count": 2,
   "metadata": {},
   "outputs": [],
   "source": [
    "from os import chdir\n",
    "chdir('/Users/etiennelenaour/Documents/Cours 19:20/Semestre 1/Monte Carlo/projet_HMM/car_park/Cp_16_05_01')"
   ]
  },
  {
   "cell_type": "code",
   "execution_count": 3,
   "metadata": {},
   "outputs": [],
   "source": [
    "#Telechargement des données pour l'experience 1 (qui sont sous forme de dictionnaire)\n",
    "exp_ind = 1\n",
    "gps1 = scipy.io.loadmat('juan{}_gps.mat'.format(exp_ind))\n",
    "sensors1 = scipy.io.loadmat('juan{}_etc.mat'.format(exp_ind))\n",
    "laser1 = scipy.io.loadmat('juan{}_lsr2.mat'.format(exp_ind))\n",
    "\n",
    "\n",
    "#Mise en forme en Data Frame\n",
    "gps_df = pd.DataFrame(gps1['GPS'], columns=gps1['GPSFieldsOrder'])\n",
    "sensors_df = pd.DataFrame(sensors1['SENSORS'], columns=sensors1['ETCFieldsOrder'])\n",
    "laser_df = pd.DataFrame(laser1['LASER'], index=laser1['TLsr'].flatten())\n",
    "time_laser_vals = laser1['TLsr'].flatten()"
   ]
  },
  {
   "cell_type": "code",
   "execution_count": 4,
   "metadata": {},
   "outputs": [],
   "source": [
    "#Bien mettre en forme les données \n",
    "\n",
    "def readSensorData(sensors_df):\n",
    "    '''Velocity and steering'''\n",
    "    # Sensor params\n",
    "    KV1 = 0.024970 * (1 - 0.21)\n",
    "    KA1 = 0.00040 * (1 + 0)\n",
    "    KA0 = 2022\n",
    "    Kx1 = 1.0127\n",
    "    Kx2 = 0.0042\n",
    "    \n",
    "    time_sensors = sensors_df['time   '].values / 1000.\n",
    "    steering = Kx1 * (sensors_df['steer  '].values - KA0) * KA1 + Kx2 \n",
    "    velocity = KV1 * sensors_df['speed  '].values\n",
    "    \n",
    "    return time_sensors, steering, velocity\n",
    "\n",
    "\n",
    "def readGPSData(gps_df):\n",
    "    '''Latitude and longtitude'''\n",
    "    # Reference point\n",
    "    LAT0  = -33.8884\n",
    "    LONG0 = 151.1948\n",
    "    \n",
    "    # Params (wtf is this sorcery)\n",
    "    a =  6378137.0\n",
    "    b  = a * (1 - 0.003352810664747)\n",
    "    kpi = np.pi / 180\n",
    "    cf = np.cos(LAT0 * kpi)\n",
    "    sf = np.abs(np.sin(LAT0 * kpi))\n",
    "    Ro = a ** 2 * cf / np.abs(np.sqrt((a *cf) ** 2 + (b * sf) ** 2))  ;\n",
    "    RR = b / a  * np.abs(np.sqrt(a ** 2- Ro ** 2)) / sf ;\n",
    "    \n",
    "    time_gps = gps_df['1.time   '].values / 1000.\n",
    "    latitude = - RR * kpi * (gps_df['3.LAT    '].values + LAT0)\n",
    "    longtitude = Ro * kpi * (gps_df['4.LONG   '].values - LONG0)\n",
    "    \n",
    "    return time_gps, latitude, longtitude\n",
    "\n",
    "\n",
    "def readLaserData(laser_df, time_laser_vals):\n",
    "    '''\n",
    "    INUTILE, ON A LE STEERING, VELOCITY ET POSITION(GPS) AVEC CE QUI PRECEDE\n",
    "    Si j'ai bien compris:\n",
    "    laser_time: le temps\n",
    "    laser_range: pour chaque angle, indique la distance a l'objet le plus proche\n",
    "    laser_intensity: pour chaque angle, l'inteniste lumineuse positive\n",
    "    '''\n",
    "    mask13 = 2 ** 13 - 1\n",
    "    maskA = ~mask13\n",
    "    length, angles = laser_df.shape\n",
    "    laser_range = laser_intensity = np.zeros((length, angles))\n",
    "\n",
    "    for i in range(length):\n",
    "        laser_obs = laser_df.iloc[i].values\n",
    "        laser_range[i] = np.array(laser_obs & mask13) # prendre en compte la reflexion des objets (?)\n",
    "        laser_intensity[i] = np.array(laser_obs & mask13) # apparemment ca sert juste a s'assurer que c'est positif\n",
    "    \n",
    "    laser_range = laser_range / 100. # conversion en metres\n",
    "    time_laser = time_laser_vals / 1000. # ms\n",
    "    return time_laser, laser_range, laser_intensity"
   ]
  },
  {
   "cell_type": "code",
   "execution_count": 5,
   "metadata": {},
   "outputs": [],
   "source": [
    "def scanData():\n",
    "    '''\n",
    "    Pour avoir le temps, le sensor et l'indice de chaque mesure qui arrive\n",
    "    Au temps time[i] on a une mesure de sensor[i]\n",
    "    (1 si gps, 2 si steering et velocity, 3 si laser)\n",
    "    dans l'indice index[i] du tableau correspondant\n",
    "    '''\n",
    "    time_sensors, steering, velocity = readSensorData(sensors_df)\n",
    "    time_gps, latitude, longtitude = readGPSData(gps_df)\n",
    "#     time_laser, laser_range, laser_intensity = readLaserData(laser_df, time_laser_vals)\n",
    "    \n",
    "    times = [(1, i, time) for i, time in enumerate(time_gps)]\n",
    "    times.extend([(2, i, time) for i, time in enumerate(time_sensors)])\n",
    "#     times.extend([(3, i, time) for i, time in enumerate(time_laser)])\n",
    "\n",
    "    times = np.array(sorted(times, key=lambda u: u[2]))\n",
    "    time, sensor, index = times[:, 2], times[:, 0], times[:, 1]\n",
    "    return time, sensor, index"
   ]
  },
  {
   "cell_type": "code",
   "execution_count": 6,
   "metadata": {},
   "outputs": [],
   "source": [
    "time, sensor, index = scanData()"
   ]
  },
  {
   "cell_type": "markdown",
   "metadata": {},
   "source": [
    "## Nouveau à partir d'ici"
   ]
  },
  {
   "cell_type": "code",
   "execution_count": 7,
   "metadata": {},
   "outputs": [],
   "source": [
    "#Construction des bases de données finales \n",
    "\n",
    "\n",
    "GPSData = pd.DataFrame(readGPSData(gps_df), ['times_GPS', 'latitude', 'longitude']).T\n",
    "SensorData = pd.DataFrame(readSensorData(sensors_df), ['time_sensors', 'steering', 'velocity']).T"
   ]
  },
  {
   "cell_type": "code",
   "execution_count": 8,
   "metadata": {},
   "outputs": [
    {
     "data": {
      "text/html": [
       "<div>\n",
       "<style scoped>\n",
       "    .dataframe tbody tr th:only-of-type {\n",
       "        vertical-align: middle;\n",
       "    }\n",
       "\n",
       "    .dataframe tbody tr th {\n",
       "        vertical-align: top;\n",
       "    }\n",
       "\n",
       "    .dataframe thead th {\n",
       "        text-align: right;\n",
       "    }\n",
       "</style>\n",
       "<table border=\"1\" class=\"dataframe\">\n",
       "  <thead>\n",
       "    <tr style=\"text-align: right;\">\n",
       "      <th></th>\n",
       "      <th>times_GPS</th>\n",
       "      <th>latitude</th>\n",
       "      <th>longitude</th>\n",
       "    </tr>\n",
       "  </thead>\n",
       "  <tbody>\n",
       "    <tr>\n",
       "      <th>0</th>\n",
       "      <td>851.227</td>\n",
       "      <td>-5.707890</td>\n",
       "      <td>6.615680</td>\n",
       "    </tr>\n",
       "    <tr>\n",
       "      <th>1</th>\n",
       "      <td>851.428</td>\n",
       "      <td>-5.709734</td>\n",
       "      <td>6.615680</td>\n",
       "    </tr>\n",
       "    <tr>\n",
       "      <th>2</th>\n",
       "      <td>851.628</td>\n",
       "      <td>-5.702355</td>\n",
       "      <td>6.614138</td>\n",
       "    </tr>\n",
       "    <tr>\n",
       "      <th>3</th>\n",
       "      <td>851.828</td>\n",
       "      <td>-5.700510</td>\n",
       "      <td>6.615680</td>\n",
       "    </tr>\n",
       "    <tr>\n",
       "      <th>4</th>\n",
       "      <td>852.028</td>\n",
       "      <td>-5.702355</td>\n",
       "      <td>6.615680</td>\n",
       "    </tr>\n",
       "  </tbody>\n",
       "</table>\n",
       "</div>"
      ],
      "text/plain": [
       "   times_GPS  latitude  longitude\n",
       "0    851.227 -5.707890   6.615680\n",
       "1    851.428 -5.709734   6.615680\n",
       "2    851.628 -5.702355   6.614138\n",
       "3    851.828 -5.700510   6.615680\n",
       "4    852.028 -5.702355   6.615680"
      ]
     },
     "execution_count": 8,
     "metadata": {},
     "output_type": "execute_result"
    }
   ],
   "source": [
    "GPSData.head()"
   ]
  },
  {
   "cell_type": "code",
   "execution_count": 9,
   "metadata": {},
   "outputs": [
    {
     "data": {
      "text/html": [
       "<div>\n",
       "<style scoped>\n",
       "    .dataframe tbody tr th:only-of-type {\n",
       "        vertical-align: middle;\n",
       "    }\n",
       "\n",
       "    .dataframe tbody tr th {\n",
       "        vertical-align: top;\n",
       "    }\n",
       "\n",
       "    .dataframe thead th {\n",
       "        text-align: right;\n",
       "    }\n",
       "</style>\n",
       "<table border=\"1\" class=\"dataframe\">\n",
       "  <thead>\n",
       "    <tr style=\"text-align: right;\">\n",
       "      <th></th>\n",
       "      <th>time_sensors</th>\n",
       "      <th>steering</th>\n",
       "      <th>velocity</th>\n",
       "    </tr>\n",
       "  </thead>\n",
       "  <tbody>\n",
       "    <tr>\n",
       "      <th>0</th>\n",
       "      <td>851.292</td>\n",
       "      <td>0.064557</td>\n",
       "      <td>0.0</td>\n",
       "    </tr>\n",
       "    <tr>\n",
       "      <th>1</th>\n",
       "      <td>851.317</td>\n",
       "      <td>0.064962</td>\n",
       "      <td>0.0</td>\n",
       "    </tr>\n",
       "    <tr>\n",
       "      <th>2</th>\n",
       "      <td>851.342</td>\n",
       "      <td>0.064557</td>\n",
       "      <td>0.0</td>\n",
       "    </tr>\n",
       "    <tr>\n",
       "      <th>3</th>\n",
       "      <td>851.367</td>\n",
       "      <td>0.064557</td>\n",
       "      <td>0.0</td>\n",
       "    </tr>\n",
       "    <tr>\n",
       "      <th>4</th>\n",
       "      <td>851.392</td>\n",
       "      <td>0.064557</td>\n",
       "      <td>0.0</td>\n",
       "    </tr>\n",
       "  </tbody>\n",
       "</table>\n",
       "</div>"
      ],
      "text/plain": [
       "   time_sensors  steering  velocity\n",
       "0       851.292  0.064557       0.0\n",
       "1       851.317  0.064962       0.0\n",
       "2       851.342  0.064557       0.0\n",
       "3       851.367  0.064557       0.0\n",
       "4       851.392  0.064557       0.0"
      ]
     },
     "execution_count": 9,
     "metadata": {},
     "output_type": "execute_result"
    }
   ],
   "source": [
    "SensorData.head()"
   ]
  },
  {
   "cell_type": "code",
   "execution_count": 20,
   "metadata": {},
   "outputs": [],
   "source": [
    "vecteur_temps = np.sort(np.array(GPSData['times_GPS'].append(SensorData['time_sensors']).unique()))"
   ]
  },
  {
   "cell_type": "code",
   "execution_count": 11,
   "metadata": {},
   "outputs": [],
   "source": [
    "def initilisation_pf(N): #on initialise avec des uniformes sur les espaces de vie des variables\n",
    "    \n",
    "    init_state = {\n",
    "        'x': np.random.uniform(low=-20, high=10, size=N),\n",
    "        'y': np.random.uniform(low=-2.5, high=15, size=N),\n",
    "        'v': np.random.uniform(low=0, high=4, size=N),\n",
    "        'psi': np.random.uniform(low=0, high=2*np.pi, size=N),\n",
    "        'beta': np.random.uniform(low=-0.6, high=0.6, size=N),\n",
    "        'beta_dot': np.random.uniform(low=-0.6, high=0.6, size=N)\n",
    "    }\n",
    "    \n",
    "    init_poids = [1./N for i in range(N)]\n",
    "    \n",
    "    return init_state, init_poids   "
   ]
  },
  {
   "cell_type": "code",
   "execution_count": 12,
   "metadata": {},
   "outputs": [],
   "source": [
    "# Geometric constants\n",
    "L = 2.83\n",
    "H = 0.76\n",
    "a = 3.78\n",
    "b = 0.5\n",
    "\n",
    "def transition_model(current_state, dt):\n",
    "    '''return the state transition model without taking into\n",
    "    account he state noise (v' and beta'')'''\n",
    "    # Retrieve initial states\n",
    "    x = current_state['x']\n",
    "    y = current_state['y']\n",
    "    v = current_state['v']\n",
    "\n",
    "    psi = current_state['psi']\n",
    "    beta = current_state['beta']\n",
    "    beta_dot = current_state['beta_dot']\n",
    "    \n",
    "    # Next states\n",
    "    next_state = dict()\n",
    "    next_state['x'] = x + dt * v * (np.cos(psi) + (- a * np.sin(psi) + b * np.cos(psi)) * np.tan(beta) / L)\n",
    "    next_state['y'] = y + dt * v * (np.sin(psi) + (a * np.cos(psi) + b * np.sin(psi)) * np.tan(beta) / L)\n",
    "    next_state['v'] = v\n",
    "    \n",
    "    next_state['psi'] = psi + dt * v * np.tan(beta) / L\n",
    "    next_state['beta'] = beta + dt * beta_dot\n",
    "    next_state['beta_dot'] = beta_dot\n",
    "    \n",
    "    return next_state   "
   ]
  },
  {
   "cell_type": "code",
   "execution_count": 58,
   "metadata": {},
   "outputs": [],
   "source": [
    "def update_model(N, time, update_sensor1, update_sensor2, particles, weights, var1, var2):\n",
    "    \n",
    "    #Cas GPS\n",
    "    if update_sensor1:\n",
    "        \n",
    "        erreur_mesure = np.linalg.norm([particles['x'] - GPSData.set_index('times_GPS').loc[time].values[0], \n",
    "                                        particles['y'] - GPSData.set_index('times_GPS').loc[time].values[0]], axis=0)\n",
    "        \n",
    "\n",
    "        for i in range(N): #mise à jour des poids\n",
    "    \n",
    "            weights[i] *= scipy.stats.norm(0, var1).pdf(erreur_mesure[i])\n",
    "        \n",
    "        weights /= sum(weights) # normalize    \n",
    "        \n",
    "        \n",
    "        \n",
    "     #Cas sensors   \n",
    "    if update_sensor2:\n",
    "        \n",
    "        erreur_mesure = np.linalg.norm([particles['beta'] - SensorData.set_index('time_sensors').loc[time].values[0], \n",
    "                                        particles['v'] - SensorData.set_index('time_sensors').loc[time].values[1]], axis=0)\n",
    "                                        \n",
    "        for i in range(N): #mise à jour des poids\n",
    "    \n",
    "            weights[i] *= scipy.stats.norm(0, var2).pdf(erreur_mesure[i])\n",
    "        \n",
    "        weights /= sum(weights) # normalize  \n",
    "        \n",
    "    return weights\n",
    "        \n"
   ]
  },
  {
   "cell_type": "code",
   "execution_count": 50,
   "metadata": {},
   "outputs": [],
   "source": [
    "def simple_resample(particles, weights):\n",
    "    cumulative_sum = np.cumsum(weights)\n",
    "    cumulative_sum[-1] = 1. # avoid round-off error\n",
    "    indexes = np.searchsorted(cumulative_sum, random(N))\n",
    "\n",
    "    # resample according to indexes\n",
    "    particles[:] = particles[indexes]\n",
    "    weights.fill(1.0 / N)\n",
    "    "
   ]
  },
  {
   "cell_type": "code",
   "execution_count": 51,
   "metadata": {},
   "outputs": [],
   "source": [
    "def predictions(weights, particles): #Renvoi la prédiction de l'état à chaque temps\n",
    "    tab_predict = [sum(particles['x'] * weights), sum(particles['y'] * weights), sum(particles['v'] * weights), \n",
    "     sum(particles['beta'])]\n",
    "    \n",
    "    return tab_predict"
   ]
  },
  {
   "cell_type": "code",
   "execution_count": 82,
   "metadata": {},
   "outputs": [],
   "source": [
    "#Définissons maintenant le corps de l'algo avec les différentes fonctions crées\n",
    "\n",
    "list_predict=list()\n",
    "\n",
    "def particle_filter(N, vecteur_temps=vecteur_temps):\n",
    "    \n",
    "    \n",
    "    #Initialisation de l'algo\n",
    "    particles, weights = initilisation_pf(N)\n",
    "    \n",
    "    #Allons à travers le temps \n",
    "    \n",
    "    for time in vecteur_temps:\n",
    "        \n",
    "        particles = transition_model(particles, dt=1/40) #On verra plus tard pour le dt\n",
    "        \n",
    "        \n",
    "        if time in GPSData['times_GPS'].values:#On test si on update pour le GPS\n",
    "            update_sensor1=True\n",
    "        \n",
    "        else:\n",
    "            update_sensor1=False\n",
    "            \n",
    "            \n",
    "        if time in SensorData['time_sensors'].values:#On test si on update pour les sensors\n",
    "            update_sensor2=True\n",
    "        \n",
    "        else:\n",
    "            update_sensor2=False\n",
    "            \n",
    "        \n",
    "        weights = update_model(N, time, update_sensor1, update_sensor2, particles, weights, var1=20, var2=20)\n",
    "        \n",
    "        list_predict.append(predictions(weights, particles))\n"
   ]
  },
  {
   "cell_type": "code",
   "execution_count": 83,
   "metadata": {},
   "outputs": [
    {
     "name": "stderr",
     "output_type": "stream",
     "text": [
      "/anaconda3/lib/python3.7/site-packages/ipykernel_launcher.py:14: RuntimeWarning: invalid value encountered in true_divide\n",
      "  \n"
     ]
    }
   ],
   "source": [
    "#Test update model\n",
    "\n",
    "particle_filter(N=10, vecteur_temps=vecteur_temps)\n"
   ]
  },
  {
   "cell_type": "code",
   "execution_count": null,
   "metadata": {},
   "outputs": [],
   "source": []
  }
 ],
 "metadata": {
  "kernelspec": {
   "display_name": "Python 3",
   "language": "python",
   "name": "python3"
  },
  "language_info": {
   "codemirror_mode": {
    "name": "ipython",
    "version": 3
   },
   "file_extension": ".py",
   "mimetype": "text/x-python",
   "name": "python",
   "nbconvert_exporter": "python",
   "pygments_lexer": "ipython3",
   "version": "3.6.8"
  }
 },
 "nbformat": 4,
 "nbformat_minor": 2
}
