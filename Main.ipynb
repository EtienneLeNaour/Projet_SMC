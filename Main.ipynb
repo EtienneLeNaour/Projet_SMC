{
 "cells": [
  {
   "cell_type": "code",
   "execution_count": 2,
   "metadata": {},
   "outputs": [],
   "source": [
    "import scipy.io\n",
    "import scipy.stats\n",
    "import pandas as pd\n",
    "import numpy as np\n",
    "import matplotlib.pyplot as plt"
   ]
  },
  {
   "cell_type": "code",
   "execution_count": 3,
   "metadata": {},
   "outputs": [],
   "source": [
    "from os import chdir\n",
    "chdir('data/Cp_16_05_01')"
   ]
  },
  {
   "cell_type": "markdown",
   "metadata": {},
   "source": [
    "## experience 1"
   ]
  },
  {
   "cell_type": "markdown",
   "metadata": {},
   "source": [
    "### Bases de données GPS et vitesse"
   ]
  },
  {
   "cell_type": "code",
   "execution_count": 4,
   "metadata": {},
   "outputs": [],
   "source": [
    "#Telechargement des données pour l'experience 1 (qui sont sous forme de dictionnaire)\n",
    "exp_ind = 1\n",
    "gps1 = scipy.io.loadmat('juan{}_gps.mat'.format(exp_ind))\n",
    "sensors1 = scipy.io.loadmat('juan{}_etc.mat'.format(exp_ind))"
   ]
  },
  {
   "cell_type": "code",
   "execution_count": 5,
   "metadata": {},
   "outputs": [],
   "source": [
    "#Mise en forme en Data Frame\n",
    "gps_df = pd.DataFrame(gps1['GPS'], columns=gps1['GPSFieldsOrder'])\n",
    "sensors_df = pd.DataFrame(sensors1['SENSORS'], columns=sensors1['ETCFieldsOrder'])"
   ]
  },
  {
   "cell_type": "code",
   "execution_count": 6,
   "metadata": {},
   "outputs": [],
   "source": [
    "#Changement du nom des variables\n",
    "gps_df = pd.DataFrame(gps1['GPS'], columns = ['time', 'ts', 'lat', 'long', 'alti', 'course', 'speedOG', 'speedV', \n",
    "                                              'SgmLat', 'SgmLong', 'SgmAlti', 'mode', 'sats'])\n",
    "sensors_df = pd.DataFrame(sensors1['SENSORS'], columns = ['time', 'counts', 'accel', 'steer', 'brake', 'speed'])"
   ]
  },
  {
   "cell_type": "code",
   "execution_count": 10,
   "metadata": {},
   "outputs": [],
   "source": [
    "#Bien mettre en forme les données \n",
    "\n",
    "def readSensorData(sensors_df):\n",
    "    '''Velocity and steering'''\n",
    "    # Sensor params\n",
    "    KV1 = 0.024970 * (1 - 0.21)\n",
    "    KA1 = 0.00040 * (1 + 0)\n",
    "    KA0 = 2022\n",
    "    Kx1 = 1.0127\n",
    "    Kx2 = 0.0042\n",
    "    \n",
    "    time_sensors = sensors_df['time'].values / 1000.\n",
    "    steering = Kx1 * (sensors_df['steer'].values - KA0) * KA1 + Kx2 \n",
    "    velocity = KV1 * sensors_df['speed'].values\n",
    "    \n",
    "    return time_sensors, steering, velocity\n",
    "\n",
    "\n",
    "def readGPSData(gps_df):\n",
    "    '''Latitude and longtitude'''\n",
    "    # Reference point\n",
    "    LAT0  = -33.8884\n",
    "    LONG0 = 151.1948\n",
    "    \n",
    "    # Params (wtf is this sorcery)\n",
    "    a =  6378137.0\n",
    "    b  = a * (1 - 0.003352810664747)\n",
    "    kpi = np.pi / 180\n",
    "    cf = np.cos(LAT0 * kpi)\n",
    "    sf = np.abs(np.sin(LAT0 * kpi))\n",
    "    Ro = a ** 2 * cf / np.abs(np.sqrt((a *cf) ** 2 + (b * sf) ** 2))  ;\n",
    "    RR = b / a  * np.abs(np.sqrt(a ** 2- Ro ** 2)) / sf ;\n",
    "    \n",
    "    time_gps = gps_df['time'].values / 1000.\n",
    "    latitude = - RR * kpi * (gps_df['lat'].values + LAT0)\n",
    "    longtitude = Ro * kpi * (gps_df['long'].values - LONG0)\n",
    "    \n",
    "    return time_gps, latitude, longtitude"
   ]
  },
  {
   "cell_type": "code",
   "execution_count": 11,
   "metadata": {},
   "outputs": [],
   "source": [
    "def scanData():\n",
    "    '''\n",
    "    Pour avoir le temps, le sensor et l'indice de chaque mesure qui arrive\n",
    "    Au temps time[i] on a une mesure de sensor[i]\n",
    "    (1 si gps, 2 si steering et velocity)\n",
    "    dans l'indice index[i] du tableau correspondant\n",
    "    '''\n",
    "    time_sensors, steering, velocity = readSensorData(sensors_df)\n",
    "    time_gps, latitude, longtitude = readGPSData(gps_df)\n",
    "    \n",
    "    times = [(1, i, time) for i, time in enumerate(time_gps)]\n",
    "    times.extend([(2, i, time) for i, time in enumerate(time_sensors)])\n",
    "\n",
    "    times = np.array(sorted(times, key=lambda u: u[2]))\n",
    "    time, sensor, index = times[:, 2], times[:, 0], times[:, 1].astype(int)\n",
    "    return time, sensor, index"
   ]
  },
  {
   "cell_type": "code",
   "execution_count": 12,
   "metadata": {},
   "outputs": [],
   "source": [
    "#Construction des bases de données finales \n",
    "GPSData = pd.DataFrame(readGPSData(gps_df), ['times_GPS', 'latitude', 'longitude']).T\n",
    "SensorData = pd.DataFrame(readSensorData(sensors_df), ['time_sensors', 'steering', 'velocity']).T"
   ]
  },
  {
   "cell_type": "code",
   "execution_count": 13,
   "metadata": {},
   "outputs": [
    {
     "data": {
      "text/html": [
       "<div>\n",
       "<style scoped>\n",
       "    .dataframe tbody tr th:only-of-type {\n",
       "        vertical-align: middle;\n",
       "    }\n",
       "\n",
       "    .dataframe tbody tr th {\n",
       "        vertical-align: top;\n",
       "    }\n",
       "\n",
       "    .dataframe thead th {\n",
       "        text-align: right;\n",
       "    }\n",
       "</style>\n",
       "<table border=\"1\" class=\"dataframe\">\n",
       "  <thead>\n",
       "    <tr style=\"text-align: right;\">\n",
       "      <th></th>\n",
       "      <th>times_GPS</th>\n",
       "      <th>latitude</th>\n",
       "      <th>longitude</th>\n",
       "    </tr>\n",
       "  </thead>\n",
       "  <tbody>\n",
       "    <tr>\n",
       "      <td>0</td>\n",
       "      <td>851.227</td>\n",
       "      <td>-5.707890</td>\n",
       "      <td>6.615680</td>\n",
       "    </tr>\n",
       "    <tr>\n",
       "      <td>1</td>\n",
       "      <td>851.428</td>\n",
       "      <td>-5.709734</td>\n",
       "      <td>6.615680</td>\n",
       "    </tr>\n",
       "    <tr>\n",
       "      <td>2</td>\n",
       "      <td>851.628</td>\n",
       "      <td>-5.702355</td>\n",
       "      <td>6.614138</td>\n",
       "    </tr>\n",
       "    <tr>\n",
       "      <td>3</td>\n",
       "      <td>851.828</td>\n",
       "      <td>-5.700510</td>\n",
       "      <td>6.615680</td>\n",
       "    </tr>\n",
       "    <tr>\n",
       "      <td>4</td>\n",
       "      <td>852.028</td>\n",
       "      <td>-5.702355</td>\n",
       "      <td>6.615680</td>\n",
       "    </tr>\n",
       "  </tbody>\n",
       "</table>\n",
       "</div>"
      ],
      "text/plain": [
       "   times_GPS  latitude  longitude\n",
       "0    851.227 -5.707890   6.615680\n",
       "1    851.428 -5.709734   6.615680\n",
       "2    851.628 -5.702355   6.614138\n",
       "3    851.828 -5.700510   6.615680\n",
       "4    852.028 -5.702355   6.615680"
      ]
     },
     "execution_count": 13,
     "metadata": {},
     "output_type": "execute_result"
    }
   ],
   "source": [
    "GPSData.head()"
   ]
  },
  {
   "cell_type": "code",
   "execution_count": 14,
   "metadata": {},
   "outputs": [
    {
     "data": {
      "text/html": [
       "<div>\n",
       "<style scoped>\n",
       "    .dataframe tbody tr th:only-of-type {\n",
       "        vertical-align: middle;\n",
       "    }\n",
       "\n",
       "    .dataframe tbody tr th {\n",
       "        vertical-align: top;\n",
       "    }\n",
       "\n",
       "    .dataframe thead th {\n",
       "        text-align: right;\n",
       "    }\n",
       "</style>\n",
       "<table border=\"1\" class=\"dataframe\">\n",
       "  <thead>\n",
       "    <tr style=\"text-align: right;\">\n",
       "      <th></th>\n",
       "      <th>time_sensors</th>\n",
       "      <th>steering</th>\n",
       "      <th>velocity</th>\n",
       "    </tr>\n",
       "  </thead>\n",
       "  <tbody>\n",
       "    <tr>\n",
       "      <td>0</td>\n",
       "      <td>851.292</td>\n",
       "      <td>0.064557</td>\n",
       "      <td>0.0</td>\n",
       "    </tr>\n",
       "    <tr>\n",
       "      <td>1</td>\n",
       "      <td>851.317</td>\n",
       "      <td>0.064962</td>\n",
       "      <td>0.0</td>\n",
       "    </tr>\n",
       "    <tr>\n",
       "      <td>2</td>\n",
       "      <td>851.342</td>\n",
       "      <td>0.064557</td>\n",
       "      <td>0.0</td>\n",
       "    </tr>\n",
       "    <tr>\n",
       "      <td>3</td>\n",
       "      <td>851.367</td>\n",
       "      <td>0.064557</td>\n",
       "      <td>0.0</td>\n",
       "    </tr>\n",
       "    <tr>\n",
       "      <td>4</td>\n",
       "      <td>851.392</td>\n",
       "      <td>0.064557</td>\n",
       "      <td>0.0</td>\n",
       "    </tr>\n",
       "  </tbody>\n",
       "</table>\n",
       "</div>"
      ],
      "text/plain": [
       "   time_sensors  steering  velocity\n",
       "0       851.292  0.064557       0.0\n",
       "1       851.317  0.064962       0.0\n",
       "2       851.342  0.064557       0.0\n",
       "3       851.367  0.064557       0.0\n",
       "4       851.392  0.064557       0.0"
      ]
     },
     "execution_count": 14,
     "metadata": {},
     "output_type": "execute_result"
    }
   ],
   "source": [
    "SensorData.head()"
   ]
  },
  {
   "cell_type": "markdown",
   "metadata": {},
   "source": [
    "## Petites visualisations"
   ]
  },
  {
   "cell_type": "code",
   "execution_count": 15,
   "metadata": {},
   "outputs": [
    {
     "data": {
      "text/plain": [
       "<matplotlib.legend.Legend at 0x1a1a760c90>"
      ]
     },
     "execution_count": 15,
     "metadata": {},
     "output_type": "execute_result"
    },
    {
     "data": {
      "image/png": "[encoded data removed]",
      "text/plain": [
       "<Figure size 432x288 with 1 Axes>"
      ]
     },
     "metadata": {
      "needs_background": "light"
     },
     "output_type": "display_data"
    }
   ],
   "source": [
    "time_gps, latitude, longtitude = readGPSData(gps_df)\n",
    "plt.plot(time_gps, latitude, label='latitude')\n",
    "plt.plot(time_gps, longtitude, label='longtitude')\n",
    "plt.legend()"
   ]
  },
  {
   "cell_type": "code",
   "execution_count": 16,
   "metadata": {},
   "outputs": [
    {
     "data": {
      "text/plain": [
       "[<matplotlib.lines.Line2D at 0x1a1a8e2b50>]"
      ]
     },
     "execution_count": 16,
     "metadata": {},
     "output_type": "execute_result"
    },
    {
     "data": {
      "image/png": "[encoded data removed]",
      "text/plain": [
       "<Figure size 432x288 with 1 Axes>"
      ]
     },
     "metadata": {
      "needs_background": "light"
     },
     "output_type": "display_data"
    }
   ],
   "source": [
    "plt.plot(latitude, longtitude)"
   ]
  },
  {
   "cell_type": "code",
   "execution_count": 17,
   "metadata": {},
   "outputs": [
    {
     "data": {
      "text/plain": [
       "<matplotlib.legend.Legend at 0x1a1a352e50>"
      ]
     },
     "execution_count": 17,
     "metadata": {},
     "output_type": "execute_result"
    },
    {
     "data": {
      "image/png": "[encoded data removed]",
      "text/plain": [
       "<Figure size 432x288 with 1 Axes>"
      ]
     },
     "metadata": {
      "needs_background": "light"
     },
     "output_type": "display_data"
    }
   ],
   "source": [
    "time_sensors, steering, velocity = readSensorData(sensors_df)\n",
    "plt.plot(time_sensors, steering, label='steering')\n",
    "plt.plot(time_sensors, velocity, label='velocity')\n",
    "plt.legend()"
   ]
  },
  {
   "cell_type": "code",
   "execution_count": 18,
   "metadata": {},
   "outputs": [],
   "source": [
    "def initilisation_pf(N): #on initialise avec des uniformes sur les espaces de vie des variables\n",
    "    \n",
    "    init_state = {\n",
    "        'x': np.random.uniform(low=-20, high=10, size=N),\n",
    "        'y': np.random.uniform(low=-2.5, high=15, size=N),\n",
    "        'v': np.random.uniform(low=0, high=4, size=N),\n",
    "        'psi': np.random.uniform(low=0, high=2*np.pi, size=N),\n",
    "        'beta': np.random.uniform(low=-0.6, high=0.6, size=N),\n",
    "        'beta_dot': np.random.uniform(low=-0.6, high=0.6, size=N)\n",
    "    }\n",
    "    init_poids = np.ones(N) / N\n",
    "    \n",
    "    return init_state, init_poids   "
   ]
  },
  {
   "cell_type": "code",
   "execution_count": 19,
   "metadata": {},
   "outputs": [],
   "source": [
    "# Geometric constants\n",
    "L = 2.83\n",
    "H = 0.76\n",
    "a = 3.78\n",
    "b = 0.5\n",
    "\n",
    "def transition_model(current_state, dt):\n",
    "    '''return the state transition model without taking into\n",
    "    account he state noise (v' and beta'')'''\n",
    "    # Retrieve initial states\n",
    "    x = current_state['x']\n",
    "    y = current_state['y']\n",
    "    v = current_state['v']\n",
    "\n",
    "    psi = current_state['psi']\n",
    "    beta = current_state['beta']\n",
    "    beta_dot = current_state['beta_dot']\n",
    "    \n",
    "    # Next states\n",
    "    next_state = dict()\n",
    "    next_state['x'] = x + dt * v * (np.cos(psi) + (- a * np.sin(psi) + b * np.cos(psi)) * np.tan(beta) / L)\n",
    "    next_state['y'] = y + dt * v * (np.sin(psi) + (a * np.cos(psi) + b * np.sin(psi)) * np.tan(beta) / L)\n",
    "    next_state['v'] = v\n",
    "    \n",
    "    next_state['psi'] = psi + dt * v * np.tan(beta) / L\n",
    "    next_state['beta'] = beta + dt * beta_dot\n",
    "    next_state['beta_dot'] = beta_dot\n",
    "    \n",
    "    return next_state   "
   ]
  },
  {
   "cell_type": "code",
   "execution_count": 20,
   "metadata": {},
   "outputs": [],
   "source": [
    "var_gps = 0.002\n",
    "var_sensors = {'beta': 0.002, 'v': 0.1}\n",
    "\n",
    "def update_model(N, weights, update_GPS, measures, particles):    \n",
    "    #Cas GPS\n",
    "    if update_GPS:\n",
    "        erreur_mesure = np.linalg.norm([particles['x'] - measures['x'], \n",
    "                                        particles['y'] - measures['y']], axis=0)\n",
    "        for i in range(N): #mise à jour des poids\n",
    "            weights[i] *= scipy.stats.norm(0, var_gps).pdf(erreur_mesure[i])\n",
    "\n",
    "    #Cas sensors   \n",
    "    else:\n",
    "        erreur_mesure_beta = ((particles['beta'] - measures['beta']) + np.pi) % (2 * np.pi) - np.pi\n",
    "        erreur_mesure_v = particles['v'] - measures['v']                                  \n",
    "        for i in range(N): #mise à jour des poids\n",
    "            weights[i] *= (\n",
    "                scipy.stats.norm(0, var_sensors['v']).pdf(erreur_mesure_v[i])\n",
    "                * scipy.stats.norm(0, var_sensors['beta']).pdf(erreur_mesure_beta[i])\n",
    "            )\n",
    "    \n",
    "    weights += 1e-300 # Eviter les divisions par 0\n",
    "    weights /= sum(weights) # normalize  \n",
    "        \n",
    "    return weights\n",
    "        \n"
   ]
  },
  {
   "cell_type": "code",
   "execution_count": 21,
   "metadata": {},
   "outputs": [],
   "source": [
    "def simple_resample(N, particles, weights):\n",
    "    cumulative_sum = np.cumsum(weights)\n",
    "    cumulative_sum[-1] = 1. # avoid round-off error\n",
    "    indexes = np.searchsorted(cumulative_sum, np.random.uniform(0, 1, size=N))\n",
    "    # resample according to indexes\n",
    "    particles = {key: particles[key][indexes] for key in particles}\n",
    "    weights.fill(1.0 / N)\n",
    "    return particles, weights\n",
    "    "
   ]
  },
  {
   "cell_type": "code",
   "execution_count": 22,
   "metadata": {},
   "outputs": [],
   "source": [
    "def predictions(weights, particles): #Renvoi la prédiction de l'état à chaque temps\n",
    "    tab_predict = [sum(particles['x'] * weights), sum(particles['y'] * weights), sum(particles['v'] * weights), \n",
    "     sum(particles['beta'] * weights)]\n",
    "    \n",
    "    return tab_predict"
   ]
  },
  {
   "cell_type": "code",
   "execution_count": 23,
   "metadata": {},
   "outputs": [],
   "source": [
    "#Définissons maintenant le corps de l'algo avec les différentes fonctions crées\n",
    "\n",
    "list_predict=list()\n",
    "\n",
    "time_sensors, steering, velocity = readSensorData(sensors_df)\n",
    "time_gps, latitude, longtitude = readGPSData(gps_df)\n",
    "time, sensor, index = scanData()\n",
    "\n",
    "def particle_filter(N, skip=1):\n",
    "    #Initialisation de l'algo\n",
    "    particles, weights = initilisation_pf(N)\n",
    "    t_previous = time[0]\n",
    "    \n",
    "    for i in range(len(time)):\n",
    "        if i % skip == 0:\n",
    "            t = time[i] \n",
    "            particles = transition_model(particles, dt=t-t_previous)\n",
    "\n",
    "            update_GPS = sensor[i] == 1\n",
    "            if update_GPS:\n",
    "                measures = {'x': latitude[index[i]], 'y': longtitude[index[i]]}\n",
    "            else:\n",
    "                measures = {'beta': steering[index[i]], 'v': velocity[index[i]]}\n",
    "\n",
    "            weights = update_model(N, weights, update_GPS, measures, particles)\n",
    "            \n",
    "            # Resampling\n",
    "            n_eff = 1 / np.sum(weights ** 2)\n",
    "            if n_eff <= .8 * N:\n",
    "                particles, weights = simple_resample(N, particles, weights)\n",
    "            \n",
    "            t_previous = t\n",
    "            list_predict.append(predictions(weights, particles))\n",
    "            \n",
    "    return list_predict"
   ]
  },
  {
   "cell_type": "code",
   "execution_count": 1,
   "metadata": {},
   "outputs": [],
   "source": [
    "list_predict = particle_filter(N=300, skip=10)"
   ]
  },
  {
   "cell_type": "code",
   "execution_count": 43,
   "metadata": {},
   "outputs": [
    {
     "data": {
      "text/plain": [
       "1220"
      ]
     },
     "execution_count": 43,
     "metadata": {},
     "output_type": "execute_result"
    }
   ],
   "source": [
    "len(list_predict)"
   ]
  },
  {
   "cell_type": "code",
   "execution_count": 44,
   "metadata": {},
   "outputs": [
    {
     "data": {
      "text/plain": [
       "[<matplotlib.lines.Line2D at 0x7f9ba230f7f0>]"
      ]
     },
     "execution_count": 44,
     "metadata": {},
     "output_type": "execute_result"
    },
    {
     "data": {
      "image/png": "[encoded data removed]",
      "text/plain": [
       "<Figure size 432x288 with 1 Axes>"
      ]
     },
     "metadata": {
      "needs_background": "light"
     },
     "output_type": "display_data"
    }
   ],
   "source": [
    "plt.plot(list_predict[:][0], list_predict[:][1])\n",
    "plt.plot(latitude, longtitude)"
   ]
  },
  {
   "cell_type": "markdown",
   "metadata": {},
   "source": [
    "# Algorithme 5"
   ]
  },
  {
   "cell_type": "markdown",
   "metadata": {},
   "source": [
    "Création d'un vecteur temps \"à ma façon\" :"
   ]
  },
  {
   "cell_type": "code",
   "execution_count": null,
   "metadata": {},
   "outputs": [],
   "source": [
    "S1_time = gps_df['time'].values\n",
    "S2_time = sensors_df['time'].values\n",
    "S3_time = laser_df['time'].values"
   ]
  },
  {
   "cell_type": "code",
   "execution_count": null,
   "metadata": {},
   "outputs": [],
   "source": [
    "nb_2_3 = 0\n",
    "times_2_3 = []\n",
    "\n",
    "for a in S2_time:\n",
    "    for b in S3_time:\n",
    "        if (a == b):\n",
    "            nb_2_3 += 1\n",
    "            times_2_3.append(a)\n",
    "            \n",
    "print(nb_2_3)"
   ]
  },
  {
   "cell_type": "code",
   "execution_count": null,
   "metadata": {},
   "outputs": [],
   "source": [
    "v_temps = np.ones((len(S1_time) + nb_2_3, 2))\n",
    "v_temps[0:len(S1_time), 0] = S1_time\n",
    "v_temps[1040:, 0] = times_2_3\n",
    "v_temps[1040:, 1] = 23\n",
    "print(v_temps[1038:1042, :])\n",
    "v_temps = v_temps[np.argsort(v_temps[:, 0])]"
   ]
  },
  {
   "cell_type": "markdown",
   "metadata": {},
   "source": [
    "Petites sous-fonctions de l'algo final à compléter :"
   ]
  },
  {
   "cell_type": "code",
   "execution_count": null,
   "metadata": {},
   "outputs": [],
   "source": [
    "def q_alpha1 (alpha1, c1_new, sigma1) :\n",
    "    '''\n",
    "    === ÉQUATION 26 page 11 ===\n",
    "    Ici, alpha1 est dans {0, 1}. Par l'article, la loi de Dirichlet est réduite\n",
    "    à une loi beta.\n",
    "    Pas de a1 = alpha_{1, t} ? \n",
    "    '''\n",
    "    \n",
    "    a_prime = np.empty(2)\n",
    "    a_prime[0] = (sigma1 / (1 + sigma1)) * alpha1[0] + (c1_new == 0) / (1 + sigma1)\n",
    "    a_prime[1] = (sigma1 / (1 + sigma1)) * alpha1[1] + (c1_new == 1) / (1 + sigma1)\n",
    "    \n",
    "    return np.random.dirichlet((1 + sigma1) * a_prime)"
   ]
  },
  {
   "cell_type": "code",
   "execution_count": null,
   "metadata": {},
   "outputs": [],
   "source": [
    "def q_c1 (c1, xchap, SIGMA, alpha1, z1) :\n",
    "    '''\n",
    "    === ÉQUATION 29 page 11 ===\n",
    "    À définir : p0_z1, h et S\n",
    "    '''\n",
    "    h = \n",
    "    S = \n",
    "    return (1 - alpha1[1]) * p0_z1(z1) * (c1 == 0) + alpha1[1] * (S * np.random.randn(1) + h) * (c1 == 1) \n",
    "    # S = variance; h = moyenne"
   ]
  },
  {
   "cell_type": "code",
   "execution_count": null,
   "metadata": {},
   "outputs": [],
   "source": [
    "def q_sigma1 (s1, sigma1_new, sigma1, alpha1_new, alpha1) :\n",
    "    '''\n",
    "    === ÉQUATION 28 page 11 ===\n",
    "    La formule est donnée avec un log.\n",
    "    Pas de s1 = sigma_{1, t}^alpha ? \n",
    "    '''\n",
    "    lambda_a = 1 * np.random.randn(1) # définir la variance de lambda^alpha, c'est un bruit blanc gaussien\n",
    "    numerateur = np.random.dirichlet(sigma1_new * alpha1) * (lambda_a * np.random.randn(1) + np.log(sigma1))\n",
    "    denominateur = np.random.dirichlet(sigma1 * alpha1)\n",
    "    return numerateur / denominateur"
   ]
  },
  {
   "cell_type": "code",
   "execution_count": null,
   "metadata": {},
   "outputs": [],
   "source": [
    "def calcul_wt (z1, list_c1) :"
   ]
  },
  {
   "cell_type": "code",
   "execution_count": null,
   "metadata": {},
   "outputs": [],
   "source": [
    "def p_z2 () :"
   ]
  },
  {
   "cell_type": "code",
   "execution_count": null,
   "metadata": {},
   "outputs": [],
   "source": [
    "def p_z3 () :"
   ]
  },
  {
   "cell_type": "markdown",
   "metadata": {},
   "source": [
    "Algorithme :"
   ]
  },
  {
   "cell_type": "code",
   "execution_count": null,
   "metadata": {},
   "outputs": [],
   "source": [
    "def RaoBlackwell_UKF (n_particules, v_temps, eta = 0.8*n_particules):\n",
    "    \n",
    "    ### === Initialisation === ###\n",
    "    \n",
    "    xhap0 = p_xhap0(x0)\n",
    "    SIGMA0 = p_SIGMA0(SIG0)\n",
    "    sigma0 = p_sigma0(sig0)\n",
    "    alpha0 = p_alpha0(a0, sigma0) # c'est bien sigma0 en deuxième paramètre ?\n",
    "    w0 = (1./n_particules)*np.ones(n_particules)\n",
    "    \n",
    "    ### === Iterations === ###\n",
    "    \n",
    "    for t in range (len(time)):\n",
    "        \n",
    "        # Mesures z_2,t et z_3,t #\n",
    "        if (v_temps[t, 1] == 23): \n",
    "            \n",
    "            xchap, SIGMA = UFK(xhap, SIGMA, z2, z3) # en cours (Étienne)\n",
    "            \n",
    "            # Update des variables liées au GPS : (à modifier)\n",
    "            Xt = Xt + T * (Vt*np.cos(psi) + (- a*np.sin(psi) + b*np.cos(psi)) * (Vt/L) * np.tan(beta))\n",
    "            Yt = Yt + T * (Vt*np.sin(psi) + (a*np.cos(psi) + b*np.sin(psi)) * (Vt/L) * np.tan(beta))\n",
    "            \n",
    "            ''' \n",
    "            |-----> on ne change rien :\n",
    "            c1_new = c1\n",
    "            alpha1_new = alpha1\n",
    "            sigma1_new = sigma1\n",
    "            '''\n",
    "            \n",
    "            # Update des poids :\n",
    "            wt = wt * p_z2() * p_z3() # à coder\n",
    "            \n",
    "        # Mesures z_1,t #\n",
    "        if (v_temps[t, 1] == 1) : \n",
    "            \n",
    "            c1_new = q_c1(c1, xchap, SIGMA, alpha1, z1) # à compléter\n",
    "            alpha1_new = q_alpha1(alpha1, c1_new, sigma1) # fonctionne correctement\n",
    "            sigma1_new = q_sigma1(s1, sigma1, alpha1_new, alpha1) # à compléter\n",
    "            xchap, SIGMA = UFK(xhap, SIGMA, c1_new, z1) # en cours (Étienne)\n",
    "            \n",
    "            # Update des poids :\n",
    "            wt = calcul_wt(z1, list_c1) # à coder\n",
    "            \n",
    "        # Resampling #\n",
    "        Neff = 1./sum(wt**2)\n",
    "        if (Neff <= eta) :\n",
    "            \n",
    "            "
   ]
  },
  {
   "cell_type": "markdown",
   "metadata": {},
   "source": [
    "# A faire (pour avoir l'algo pf et l'algo rao-blackwell):\n",
    "1 - Sampler le state vector $\\tilde{x}_t^{(i)}$ (prendre en compte le state noise), le sensor state variable $\\tilde{c}_t^{(i)}$ et les autres pour les particules\n",
    "\n",
    "2 - Utiliser $\\tilde{c}_t^{(i)}$  pour la modelisation du gps\n",
    "\n",
    "3 - Bien choisir l'importance probability $q$ pour l'algo standard\n",
    "\n",
    "3 - Trouver la proba cheloue de l'algo Rao-blackwell $p(z_{k,t}|\\textbf{z}_{1:t-1})$\n",
    "\n",
    "4 - Implementer (ou trouver une implementation) de l'UKF\n",
    "\n",
    "5 - Revoir les distributions initiales $p_0$ (en regardant les histogrammes des mesures par ex)\n",
    "\n"
   ]
  },
  {
   "cell_type": "code",
   "execution_count": null,
   "metadata": {},
   "outputs": [],
   "source": []
  }
 ],
 "metadata": {
  "kernelspec": {
   "display_name": "Python 3",
   "language": "python",
   "name": "python3"
  },
  "language_info": {
   "codemirror_mode": {
    "name": "ipython",
    "version": 3
   },
   "file_extension": ".py",
   "mimetype": "text/x-python",
   "name": "python",
   "nbconvert_exporter": "python",
   "pygments_lexer": "ipython3",
   "version": "3.7.4"
  }
 },
 "nbformat": 4,
 "nbformat_minor": 2
}
