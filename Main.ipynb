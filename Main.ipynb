{
 "cells": [
  {
   "cell_type": "code",
   "execution_count": 1,
   "metadata": {},
   "outputs": [],
   "source": [
    "import scipy.io\n",
    "import scipy.stats\n",
    "import pandas as pd\n",
    "import numpy as np\n",
    "import matplotlib.pyplot as plt"
   ]
  },
  {
   "cell_type": "code",
   "execution_count": 2,
   "metadata": {},
   "outputs": [],
   "source": [
    "from os import chdir\n",
    "chdir('/Users/etiennelenaour/Documents/Cours 19:20/Semestre 1/Monte Carlo/projet_HMM/car_park/Cp_16_05_01')"
   ]
  },
  {
   "cell_type": "markdown",
   "metadata": {},
   "source": [
    "## Préparation et visualisation des données"
   ]
  },
  {
   "cell_type": "markdown",
   "metadata": {},
   "source": [
    "### Bases de données GPS et vitesse"
   ]
  },
  {
   "cell_type": "code",
   "execution_count": 3,
   "metadata": {},
   "outputs": [],
   "source": [
    "#Telechargement des données pour l'experience 1 (qui sont sous forme de dictionnaire)\n",
    "exp_ind = 1\n",
    "gps1 = scipy.io.loadmat('juan{}_gps.mat'.format(exp_ind))\n",
    "sensors1 = scipy.io.loadmat('juan{}_etc.mat'.format(exp_ind))"
   ]
  },
  {
   "cell_type": "code",
   "execution_count": 4,
   "metadata": {},
   "outputs": [],
   "source": [
    "#Mise en forme en Data Frame\n",
    "gps_df = pd.DataFrame(gps1['GPS'], columns=gps1['GPSFieldsOrder'])\n",
    "sensors_df = pd.DataFrame(sensors1['SENSORS'], columns=sensors1['ETCFieldsOrder'])"
   ]
  },
  {
   "cell_type": "code",
   "execution_count": 5,
   "metadata": {},
   "outputs": [],
   "source": [
    "#Changement du nom des variables\n",
    "gps_df = pd.DataFrame(gps1['GPS'], columns = ['time', 'ts', 'lat', 'long', 'alti', 'course', 'speedOG', 'speedV', \n",
    "                                              'SgmLat', 'SgmLong', 'SgmAlti', 'mode', 'sats'])\n",
    "sensors_df = pd.DataFrame(sensors1['SENSORS'], columns = ['time', 'counts', 'accel', 'steer', 'brake', 'speed'])"
   ]
  },
  {
   "cell_type": "code",
   "execution_count": 6,
   "metadata": {},
   "outputs": [],
   "source": [
    "#Bien mettre en forme les données \n",
    "\n",
    "def readSensorData(sensors_df):\n",
    "    '''Velocity and steering'''\n",
    "    # Sensor params\n",
    "    KV1 = 0.024970 * (1 - 0.21)\n",
    "    KA1 = 0.00040 * (1 + 0)\n",
    "    KA0 = 2022\n",
    "    Kx1 = 1.0127\n",
    "    Kx2 = 0.0042\n",
    "    \n",
    "    time_sensors = sensors_df['time'].values / 1000.\n",
    "    steering = Kx1 * (sensors_df['steer'].values - KA0) * KA1 + Kx2 \n",
    "    velocity = KV1 * sensors_df['speed'].values\n",
    "    \n",
    "    return time_sensors, steering, velocity\n",
    "\n",
    "\n",
    "def readGPSData(gps_df):\n",
    "    '''Latitude and longtitude'''\n",
    "    # Reference point\n",
    "    LAT0  = -33.8884\n",
    "    LONG0 = 151.1948\n",
    "    \n",
    "    # Params (wtf is this sorcery)\n",
    "    a =  6378137.0\n",
    "    b  = a * (1 - 0.003352810664747)\n",
    "    kpi = np.pi / 180\n",
    "    cf = np.cos(LAT0 * kpi)\n",
    "    sf = np.abs(np.sin(LAT0 * kpi))\n",
    "    Ro = a ** 2 * cf / np.abs(np.sqrt((a *cf) ** 2 + (b * sf) ** 2))  ;\n",
    "    RR = b / a  * np.abs(np.sqrt(a ** 2- Ro ** 2)) / sf ;\n",
    "    \n",
    "    time_gps = gps_df['time'].values / 1000.\n",
    "    latitude = - RR * kpi * (gps_df['lat'].values + LAT0)\n",
    "    longtitude = Ro * kpi * (gps_df['long'].values - LONG0)\n",
    "    \n",
    "    return time_gps, latitude, longtitude"
   ]
  },
  {
   "cell_type": "code",
   "execution_count": 7,
   "metadata": {},
   "outputs": [],
   "source": [
    "def scanData():\n",
    "    '''\n",
    "    Pour avoir le temps, le sensor et l'indice de chaque mesure qui arrive\n",
    "    Au temps time[i] on a une mesure de sensor[i]\n",
    "    (1 si gps, 2 si steering et velocity)\n",
    "    dans l'indice index[i] du tableau correspondant\n",
    "    '''\n",
    "    time_sensors, steering, velocity = readSensorData(sensors_df)\n",
    "    time_gps, latitude, longtitude = readGPSData(gps_df)\n",
    "    \n",
    "    times = [(1, i, time) for i, time in enumerate(time_gps)]\n",
    "    times.extend([(2, i, time) for i, time in enumerate(time_sensors)])\n",
    "\n",
    "    times = np.array(sorted(times, key=lambda u: u[2]))\n",
    "    time, sensor, index = times[:, 2], times[:, 0], times[:, 1].astype(int)\n",
    "    return time, sensor, index"
   ]
  },
  {
   "cell_type": "code",
   "execution_count": 8,
   "metadata": {},
   "outputs": [],
   "source": [
    "#Construction des bases de données finales \n",
    "GPSData = pd.DataFrame(readGPSData(gps_df), ['times_GPS', 'latitude', 'longitude']).T\n",
    "SensorData = pd.DataFrame(readSensorData(sensors_df), ['time_sensors', 'steering', 'velocity']).T"
   ]
  },
  {
   "cell_type": "code",
   "execution_count": 9,
   "metadata": {},
   "outputs": [
    {
     "data": {
      "text/html": [
       "<div>\n",
       "<style scoped>\n",
       "    .dataframe tbody tr th:only-of-type {\n",
       "        vertical-align: middle;\n",
       "    }\n",
       "\n",
       "    .dataframe tbody tr th {\n",
       "        vertical-align: top;\n",
       "    }\n",
       "\n",
       "    .dataframe thead th {\n",
       "        text-align: right;\n",
       "    }\n",
       "</style>\n",
       "<table border=\"1\" class=\"dataframe\">\n",
       "  <thead>\n",
       "    <tr style=\"text-align: right;\">\n",
       "      <th></th>\n",
       "      <th>times_GPS</th>\n",
       "      <th>latitude</th>\n",
       "      <th>longitude</th>\n",
       "    </tr>\n",
       "  </thead>\n",
       "  <tbody>\n",
       "    <tr>\n",
       "      <th>0</th>\n",
       "      <td>851.227</td>\n",
       "      <td>-5.707890</td>\n",
       "      <td>6.615680</td>\n",
       "    </tr>\n",
       "    <tr>\n",
       "      <th>1</th>\n",
       "      <td>851.428</td>\n",
       "      <td>-5.709734</td>\n",
       "      <td>6.615680</td>\n",
       "    </tr>\n",
       "    <tr>\n",
       "      <th>2</th>\n",
       "      <td>851.628</td>\n",
       "      <td>-5.702355</td>\n",
       "      <td>6.614138</td>\n",
       "    </tr>\n",
       "    <tr>\n",
       "      <th>3</th>\n",
       "      <td>851.828</td>\n",
       "      <td>-5.700510</td>\n",
       "      <td>6.615680</td>\n",
       "    </tr>\n",
       "    <tr>\n",
       "      <th>4</th>\n",
       "      <td>852.028</td>\n",
       "      <td>-5.702355</td>\n",
       "      <td>6.615680</td>\n",
       "    </tr>\n",
       "  </tbody>\n",
       "</table>\n",
       "</div>"
      ],
      "text/plain": [
       "   times_GPS  latitude  longitude\n",
       "0    851.227 -5.707890   6.615680\n",
       "1    851.428 -5.709734   6.615680\n",
       "2    851.628 -5.702355   6.614138\n",
       "3    851.828 -5.700510   6.615680\n",
       "4    852.028 -5.702355   6.615680"
      ]
     },
     "execution_count": 9,
     "metadata": {},
     "output_type": "execute_result"
    }
   ],
   "source": [
    "GPSData.head()"
   ]
  },
  {
   "cell_type": "code",
   "execution_count": 10,
   "metadata": {},
   "outputs": [
    {
     "data": {
      "text/html": [
       "<div>\n",
       "<style scoped>\n",
       "    .dataframe tbody tr th:only-of-type {\n",
       "        vertical-align: middle;\n",
       "    }\n",
       "\n",
       "    .dataframe tbody tr th {\n",
       "        vertical-align: top;\n",
       "    }\n",
       "\n",
       "    .dataframe thead th {\n",
       "        text-align: right;\n",
       "    }\n",
       "</style>\n",
       "<table border=\"1\" class=\"dataframe\">\n",
       "  <thead>\n",
       "    <tr style=\"text-align: right;\">\n",
       "      <th></th>\n",
       "      <th>time_sensors</th>\n",
       "      <th>steering</th>\n",
       "      <th>velocity</th>\n",
       "    </tr>\n",
       "  </thead>\n",
       "  <tbody>\n",
       "    <tr>\n",
       "      <th>0</th>\n",
       "      <td>851.292</td>\n",
       "      <td>0.064557</td>\n",
       "      <td>0.0</td>\n",
       "    </tr>\n",
       "    <tr>\n",
       "      <th>1</th>\n",
       "      <td>851.317</td>\n",
       "      <td>0.064962</td>\n",
       "      <td>0.0</td>\n",
       "    </tr>\n",
       "    <tr>\n",
       "      <th>2</th>\n",
       "      <td>851.342</td>\n",
       "      <td>0.064557</td>\n",
       "      <td>0.0</td>\n",
       "    </tr>\n",
       "    <tr>\n",
       "      <th>3</th>\n",
       "      <td>851.367</td>\n",
       "      <td>0.064557</td>\n",
       "      <td>0.0</td>\n",
       "    </tr>\n",
       "    <tr>\n",
       "      <th>4</th>\n",
       "      <td>851.392</td>\n",
       "      <td>0.064557</td>\n",
       "      <td>0.0</td>\n",
       "    </tr>\n",
       "  </tbody>\n",
       "</table>\n",
       "</div>"
      ],
      "text/plain": [
       "   time_sensors  steering  velocity\n",
       "0       851.292  0.064557       0.0\n",
       "1       851.317  0.064962       0.0\n",
       "2       851.342  0.064557       0.0\n",
       "3       851.367  0.064557       0.0\n",
       "4       851.392  0.064557       0.0"
      ]
     },
     "execution_count": 10,
     "metadata": {},
     "output_type": "execute_result"
    }
   ],
   "source": [
    "SensorData.head()"
   ]
  },
  {
   "cell_type": "markdown",
   "metadata": {},
   "source": [
    "## Petites visualisations"
   ]
  },
  {
   "cell_type": "code",
   "execution_count": 11,
   "metadata": {},
   "outputs": [
    {
     "data": {
      "text/plain": [
       "<matplotlib.legend.Legend at 0x1a1b395cc0>"
      ]
     },
     "execution_count": 11,
     "metadata": {},
     "output_type": "execute_result"
    },
    {
     "data": {
      "image/png": "[encoded data removed]",
      "text/plain": [
       "<Figure size 432x288 with 1 Axes>"
      ]
     },
     "metadata": {
      "needs_background": "light"
     },
     "output_type": "display_data"
    }
   ],
   "source": [
    "time_gps, latitude, longtitude = readGPSData(gps_df)\n",
    "plt.plot(time_gps, latitude, label='latitude')\n",
    "plt.plot(time_gps, longtitude, label='longtitude')\n",
    "plt.legend()"
   ]
  },
  {
   "cell_type": "code",
   "execution_count": 12,
   "metadata": {},
   "outputs": [
    {
     "data": {
      "text/plain": [
       "[<matplotlib.lines.Line2D at 0x1a1b3c6fd0>]"
      ]
     },
     "execution_count": 12,
     "metadata": {},
     "output_type": "execute_result"
    },
    {
     "data": {
      "image/png": "[encoded data removed]",
      "text/plain": [
       "<Figure size 432x288 with 1 Axes>"
      ]
     },
     "metadata": {
      "needs_background": "light"
     },
     "output_type": "display_data"
    }
   ],
   "source": [
    "plt.plot(latitude, longtitude)"
   ]
  },
  {
   "cell_type": "code",
   "execution_count": 13,
   "metadata": {},
   "outputs": [
    {
     "data": {
      "text/plain": [
       "<matplotlib.legend.Legend at 0x1a1b0ae7b8>"
      ]
     },
     "execution_count": 13,
     "metadata": {},
     "output_type": "execute_result"
    },
    {
     "data": {
      "image/png": "[encoded data removed]",
      "text/plain": [
       "<Figure size 432x288 with 1 Axes>"
      ]
     },
     "metadata": {
      "needs_background": "light"
     },
     "output_type": "display_data"
    }
   ],
   "source": [
    "time_sensors, steering, velocity = readSensorData(sensors_df)\n",
    "plt.plot(time_sensors, steering, label='steering')\n",
    "plt.plot(time_sensors, velocity, label='velocity')\n",
    "plt.legend()"
   ]
  },
  {
   "cell_type": "markdown",
   "metadata": {},
   "source": [
    "### Quelques probas / generateurs aleatoires utiles:"
   ]
  },
  {
   "cell_type": "code",
   "execution_count": 14,
   "metadata": {},
   "outputs": [],
   "source": [
    "from scipy.stats import dirichlet, multivariate_normal, beta"
   ]
  },
  {
   "cell_type": "code",
   "execution_count": 15,
   "metadata": {},
   "outputs": [],
   "source": [
    "# Parametres pour le modele de transition (partie bruit)\n",
    "timestep = (time_sensors[-1] - time_sensors[0]) / (len(time_sensors) - 1)\n",
    "noise_measures = np.zeros((len(time_sensors) - 2, 2))\n",
    "# Derivee de la vitesse\n",
    "noise_measures[:, 0] = (velocity[1:-1] - velocity[:-2]) / timestep\n",
    "# Derivee seconde de beta\n",
    "noise_measures[:, 1] = (steering[2:] - 2 * steering[1:-1] + steering[:-2]) / (timestep ** 2)\n",
    "\n",
    "#Covariance comme esperance\n",
    "noise_cov = noise_measures.T @ noise_measures / (len(time_sensors) - 2)\n",
    "noise_mean = np.zeros(2)"
   ]
  },
  {
   "cell_type": "markdown",
   "metadata": {},
   "source": [
    "Petites sous-fonctions de l'algo final à compléter :"
   ]
  },
  {
   "cell_type": "code",
   "execution_count": 16,
   "metadata": {},
   "outputs": [],
   "source": [
    "def q_alpha(alpha_1_prev, c_t, sigma_t) :\n",
    "    '''\n",
    "    === ÉQUATION 26 page 11 ===\n",
    "    Ici, alpha1 est dans {0, 1}. Par l'article, la loi de Dirichlet est réduite\n",
    "    à une loi beta.\n",
    "    '''\n",
    "#     alpha_prime_prev = np.empty(2)\n",
    "#     alpha_prime_prev[0] = (sigma_t * alpha_1_prev[0] + (c == 0)) / (sigma_t + 1)\n",
    "#     alpha_prime_prev[1] = (sigma_t * alpha_1_prev[1] + (c == 1)) / (sigma_t + 1)\n",
    "    \n",
    "#     rv = dirichlet((1 + sigma_t) * alpha_prime_prev)\n",
    "\n",
    "    rv = beta(sigma_t * alpha_1_prev + (c == 0))\n",
    "    \n",
    "    sampled = rv.rvs()\n",
    "    proba = rv.pdf(sampled)\n",
    "    \n",
    "    \n",
    "    \n",
    "    return sampled, proba"
   ]
  },
  {
   "cell_type": "code",
   "execution_count": 17,
   "metadata": {},
   "outputs": [],
   "source": [
    "var_gps = 1\n",
    "var_sensors = {'beta': 0.2, 'v': 0.1}\n",
    "\n",
    "p0_z1 = lambda u: 1e-3 # Uniforme sur un grand intervalle\n",
    "# Etat de \"mauvais\" fonctionnement du gps\n",
    "\n",
    "h1 = lambda state: [state['x'], state['y']]\n",
    "\n",
    "S = var_gps * np.diag(2 * np.ones(2)) # + ?\n",
    "# Je dirais = 0 parce que le gradient est nul\n",
    "# puisque x et y ne dependent du noise qu'au 2nd ordre\n",
    "\n",
    "def q_c1(x_pred, S1, alpha1, z1) :\n",
    "    '''\n",
    "    === ÉQUATION 29 page 11 === \n",
    "    '''\n",
    "    # Probabilite que c_{1, t} = 0:\n",
    "    p_c_0 = alpha1 *  p0_z1(z1) / (alpha1 *  p0_z1(z1) + (1 - alpha) * multivariate_normal.pdf(z1, h1(x_pred), S1))\n",
    "    sampled = np.random.binomial(1, p_c_0)\n",
    "    return sampled, p_c_0 if sampled == 0 else 1 - p_c_0\n"
   ]
  },
  {
   "cell_type": "code",
   "execution_count": 18,
   "metadata": {},
   "outputs": [],
   "source": [
    "# Attention a ca, la densite indiquee dans l'article est bizarre\n",
    "def q_sigma1 (s1, sigma1_new, sigma1, alpha1_new, alpha1) :\n",
    "    '''\n",
    "    === ÉQUATION 28 page 11 ===\n",
    "    La formule est donnée avec un log.\n",
    "    Pas de s1 = sigma_{1, t}^alpha ? \n",
    "    '''\n",
    "    lambda_a = 1 * np.random.randn(1) # définir la variance de lambda^alpha, c'est un bruit blanc gaussien\n",
    "    numerateur = np.random.dirichlet(sigma1_new * alpha1) * (lambda_a * np.random.randn(1) + np.log(sigma1))\n",
    "    denominateur = np.random.dirichlet(sigma1 * alpha1)\n",
    "    return numerateur / denominateur"
   ]
  },
  {
   "cell_type": "markdown",
   "metadata": {},
   "source": [
    "# Algorithme pf classique"
   ]
  },
  {
   "cell_type": "code",
   "execution_count": 44,
   "metadata": {},
   "outputs": [],
   "source": [
    "def initilisation_pf(N): #on initialise avec des uniformes sur les espaces de vie des variables\n",
    "    stretch = 1.02\n",
    "    \n",
    "    x_min, x_max = np.min(stretch * latitude), np.max(stretch * latitude)\n",
    "    y_min, y_max = np.min(stretch * longtitude), np.max(stretch * longtitude)\n",
    "    v_max = np.max(stretch * velocity)\n",
    "    beta_min, beta_max = np.min(stretch * steering), np.max(stretch * steering)\n",
    "    beta_dot = (steering[1:] - steering[:-1]) / (time_sensors[1:] - time_sensors[:-1])\n",
    "    beta_dot_min, beta_dot_max = np.min(stretch * beta_dot), np.max(beta_dot)\n",
    "    \n",
    "    init_state = {\n",
    "        'x': np.random.uniform(low=x_min, high=x_max, size=N),\n",
    "        'y': np.random.uniform(low=y_min, high=y_max, size=N),\n",
    "        'v': np.random.uniform(low=0, high=v_max, size=N),\n",
    "        'psi': np.random.uniform(low=0, high=2*np.pi, size=N),\n",
    "        'beta': np.random.uniform(low=beta_min, high=beta_max, size=N),\n",
    "        'beta_dot': np.random.uniform(low=beta_dot_min, high=beta_dot_max, size=N)\n",
    "    }\n",
    "    init_sensor_state = {\n",
    "        'sigma': np.exp(np.random.normal(0, 1, size=N)), \n",
    "        'alpha': np.exp(np.random.normal(0, 1, size=N)),\n",
    "    }\n",
    "    init_poids = np.ones(N) / N\n",
    "    \n",
    "    return init_state, init_sensor_state, init_poids \n",
    "\n",
    "\n",
    "\n",
    "# Geometric constants\n",
    "L = 2.83\n",
    "H = 0.76\n",
    "a = 3.78\n",
    "b = 0.5\n",
    "\n",
    "def transition_model(current_state, dt, with_noise=True):\n",
    "    '''return the state transition model taking into\n",
    "    account he state noise (v' and beta'')'''\n",
    "    # Retrieve initial states\n",
    "    x = current_state['x']\n",
    "    y = current_state['y']\n",
    "    v = current_state['v']\n",
    "\n",
    "    psi = current_state['psi']\n",
    "    beta = current_state['beta']\n",
    "    beta_dot = current_state['beta_dot']\n",
    "    \n",
    "    # Next states\n",
    "    next_state = dict()\n",
    "    next_state['x'] = x + dt * v * (np.cos(psi) + (- a * np.sin(psi) + b * np.cos(psi)) * np.tan(beta) / L)\n",
    "    next_state['y'] = y + dt * v * (np.sin(psi) + (a * np.cos(psi) + b * np.sin(psi)) * np.tan(beta) / L)\n",
    "    next_state['v'] = v\n",
    "    \n",
    "    next_state['psi'] = psi + dt * v * np.tan(beta) / L\n",
    "    next_state['beta'] = beta + dt * beta_dot\n",
    "    next_state['beta_dot'] = beta_dot\n",
    "    \n",
    "    if with_noise:\n",
    "        state_noise = np.random.multivariate_normal(noise_mean, noise_cov, size=x.shape[0])\n",
    "        next_state['v'] += dt * state_noise[:, 0]\n",
    "        next_state['beta_dot'] += dt * state_noise[:, 1]\n",
    "\n",
    "    return next_state\n",
    "\n",
    "\n",
    "\n",
    "\n",
    "def update_model(N, weights, update_GPS, measures, particles):    \n",
    "    #Cas GPS\n",
    "    if update_GPS:\n",
    "        erreur_mesure_x = particles['x'] - measures['x'] \n",
    "        erreur_mesure_y = particles['y'] - measures['y']\n",
    "        for i in range(N): #mise à jour des poids\n",
    "            weights[i] *= scipy.stats.norm(0, 0.2).pdf(erreur_mesure_x[i])\n",
    "            weights[i] *= scipy.stats.norm(0, 0.2).pdf(erreur_mesure_y[i])\n",
    "\n",
    "    #Cas sensors   \n",
    "    else:\n",
    "        erreur_mesure_beta = ((particles['beta'] - measures['beta']) + np.pi) % (2 * np.pi) - np.pi\n",
    "        erreur_mesure_v = particles['v'] - measures['v']                                  \n",
    "        for i in range(N): #mise à jour des poids\n",
    "            weights[i] *= 1\n",
    "            #scipy.stats.norm(0, 0.1).pdf(erreur_mesure_v[i]) * scipy.stats.norm(0, 0.002).pdf(erreur_mesure_beta[i])\n",
    "                          \n",
    "    \n",
    "    weights += 1e-300 # Eviter les divisions par 0\n",
    "    weights /= sum(weights) # normalize\n",
    "    \n",
    "        \n",
    "    return weights\n",
    "\n",
    "\n",
    "\n",
    "\n",
    "\n",
    "def simple_resample(N, particles, weights):\n",
    "    cumulative_sum = np.cumsum(weights)\n",
    "    cumulative_sum[-1] = 1. # avoid round-off error\n",
    "    indexes = np.searchsorted(cumulative_sum, np.random.uniform(0, 1, size=N))\n",
    "    # resample according to indexes\n",
    "    particles = {key: particles[key][indexes] for key in particles}\n",
    "    weights.fill(1.0 / N)\n",
    "    return particles, weights\n",
    "\n",
    "\n",
    "\n",
    "\n",
    "\n",
    "def resample_v2(N, particles, weights):\n",
    "    \n",
    "    weights_index_sort = np.argsort(weights)\n",
    "    index_particles_alive = weights_index_sort[int(0.7*N) :] #cut the tab\n",
    "    len_tab_cut = len(index_particles_alive)\n",
    "    \n",
    "    \n",
    "    for ii in range(N - len_tab_cut):\n",
    "        index_particles_alive = np.append(index_particles_alive, \n",
    "                                          index_particles_alive[np.random.randint(0, len_tab_cut)])\n",
    "        \n",
    "    \n",
    "    new_particles = particles = {key: particles[key][index_particles_alive] for key in particles}\n",
    "    weights.fill(1.0 / N)\n",
    "        \n",
    "    return new_particles, weights\n",
    "\n",
    "\n",
    "\n",
    "\n",
    "def predictions(weights, particles): #Renvoi la prédiction de l'état à chaque temps\n",
    "    tab_predict = [sum(particles['x'] * weights), sum(particles['y'] * weights), sum(particles['v'] * weights), \n",
    "     sum(particles['beta'] * weights)]\n",
    "    \n",
    "    return tab_predict"
   ]
  },
  {
   "cell_type": "code",
   "execution_count": 49,
   "metadata": {},
   "outputs": [],
   "source": [
    "#Définissons maintenant le corps de l'algo avec les différentes fonctions crées\n",
    "\n",
    "\n",
    "def particle_filter(N, time):\n",
    "    \n",
    "    #Liste à remplir\n",
    "    list_predict = list()\n",
    "    list_particles = list()\n",
    "    list_mesures = list()\n",
    "\n",
    "    \n",
    "    #Initialisation de l'algo\n",
    "    particles, _, weights = initilisation_pf(N)\n",
    "    t_previous = time[0]\n",
    "    \n",
    "    for i in range(len(time)):\n",
    "        \n",
    "        t = time[i] \n",
    "        particles = transition_model(particles, dt=(t-t_previous)/1000)\n",
    "        \n",
    "        update_GPS = sensor[i] == 1 # True si la i-eme mesure est celle du GPS   \n",
    "        \n",
    "        if update_GPS:\n",
    "            print('mesure GPS')\n",
    "            measures = {'x': latitude[index[i]], 'y': longtitude[index[i]]}\n",
    "            list_mesures.append([measures,i])\n",
    "                \n",
    "        else :\n",
    "            measures = {'beta': steering[index[i]], 'v': velocity[index[i]]}\n",
    "\n",
    "        weights = update_model(N, weights, update_GPS, measures, particles)\n",
    "        \n",
    "            \n",
    "        # Resampling\n",
    "        n_eff = 1 / np.sum(weights ** 2)\n",
    "        \n",
    "        if update_GPS:\n",
    "            print(n_eff)\n",
    "            \n",
    "        if n_eff <= .8 * N:\n",
    "            particles, weights = resample_v2(N, particles, weights)\n",
    "            \n",
    "        t_previous = t\n",
    "        list_predict.append(predictions(weights, particles))\n",
    "        list_particles.append(particles)\n",
    "            \n",
    "    return list_predict, list_particles, list_mesures\n",
    "\n"
   ]
  },
  {
   "cell_type": "markdown",
   "metadata": {},
   "source": [
    "# Application  avec notre filtre particulaire"
   ]
  },
  {
   "cell_type": "code",
   "execution_count": 46,
   "metadata": {},
   "outputs": [],
   "source": [
    "#Le vecteur temps\n",
    "time_sensors, steering, velocity = readSensorData(sensors_df)\n",
    "time_gps, latitude, longtitude = readGPSData(gps_df)\n",
    "time, sensor, index = scanData()"
   ]
  },
  {
   "cell_type": "code",
   "execution_count": 47,
   "metadata": {},
   "outputs": [
    {
     "name": "stdout",
     "output_type": "stream",
     "text": [
      "Pour 200 unités de temps nous avons : 23 mesures GPS\n"
     ]
    },
    {
     "data": {
      "text/plain": [
       "[<matplotlib.lines.Line2D at 0x1a26afc128>]"
      ]
     },
     "execution_count": 47,
     "metadata": {},
     "output_type": "execute_result"
    },
    {
     "data": {
      "image/png": "[encoded data removed]",
      "text/plain": [
       "<Figure size 432x288 with 1 Axes>"
      ]
     },
     "metadata": {
      "needs_background": "light"
     },
     "output_type": "display_data"
    }
   ],
   "source": [
    "#Concentrons nous sur une période de temps plus courte\n",
    "\n",
    "time_short = time[:200]\n",
    "list_longi = list()\n",
    "list_lati = list()\n",
    "\n",
    "for i in range(len(time_short)):\n",
    "\n",
    "        update_GPS = sensor[i] == 1\n",
    "        if update_GPS:\n",
    "            list_lati.append(latitude[index[i]])\n",
    "            list_longi.append(longtitude[[i]])\n",
    "\n",
    "print('Pour 200 unités de temps nous avons :', len(list_lati), 'mesures GPS')            \n",
    "plt.plot(list_lati, list_longi)\n"
   ]
  },
  {
   "cell_type": "code",
   "execution_count": 48,
   "metadata": {
    "scrolled": false
   },
   "outputs": [
    {
     "name": "stdout",
     "output_type": "stream",
     "text": [
      "mesure GPS\n",
      "6.997045009699201\n",
      "Resampled\n",
      "mesure GPS\n",
      "29.51348026200901\n",
      "Resampled\n",
      "mesure GPS\n",
      "115.0864496721425\n",
      "Resampled\n",
      "mesure GPS\n",
      "368.89319368595716\n",
      "Resampled\n",
      "mesure GPS\n",
      "1251.6708459582924\n",
      "Resampled\n",
      "mesure GPS\n",
      "4116.415807056126\n",
      "Resampled\n",
      "mesure GPS\n",
      "9664.396908279263\n",
      "mesure GPS\n",
      "9200.891543999289\n",
      "mesure GPS\n",
      "8716.781508821308\n",
      "mesure GPS\n",
      "8225.56889017034\n",
      "mesure GPS\n",
      "7742.526551617642\n",
      "Resampled\n",
      "mesure GPS\n",
      "9999.999999999838\n",
      "mesure GPS\n",
      "9999.99999999925\n",
      "mesure GPS\n",
      "9999.999999998\n",
      "mesure GPS\n",
      "9999.999999995805\n",
      "mesure GPS\n",
      "9999.999999992846\n",
      "mesure GPS\n",
      "9999.999999988095\n",
      "mesure GPS\n",
      "9999.999999981355\n",
      "mesure GPS\n",
      "9999.999999972813\n",
      "mesure GPS\n",
      "9999.99999996121\n",
      "mesure GPS\n",
      "9999.999999945745\n",
      "mesure GPS\n",
      "9999.99999992698\n",
      "mesure GPS\n",
      "9999.999999906495\n"
     ]
    }
   ],
   "source": [
    "#On lance la fonction par sur 200 premières unités de temps\n",
    "list_predict, list_particles, list_mesures = particle_filter(N=10000, time=time_short)"
   ]
  },
  {
   "cell_type": "code",
   "execution_count": 50,
   "metadata": {
    "scrolled": true
   },
   "outputs": [
    {
     "data": {
      "text/plain": [
       "[<matplotlib.lines.Line2D at 0x1a1efcd5f8>]"
      ]
     },
     "execution_count": 50,
     "metadata": {},
     "output_type": "execute_result"
    },
    {
     "data": {
      "image/png": "[encoded data removed]",
      "text/plain": [
       "<Figure size 1440x144 with 4 Axes>"
      ]
     },
     "metadata": {
      "needs_background": "light"
     },
     "output_type": "display_data"
    }
   ],
   "source": [
    "plt.figure(figsize=(20,2))\n",
    "\n",
    "plt.subplot(1,4,1)\n",
    "plt.plot(list_particles[0]['x'], list_particles[0]['y'],'.')\n",
    "plt.plot(list_mesures[0][0]['x'], list_mesures[0][0]['y'], 'o', 'r')\n",
    "plt.plot(list_predict[list_mesures[0][1]][0], list_predict[list_mesures[0][1]][1], '*')\n",
    "\n",
    "\n",
    "plt.subplot(1,4,2)\n",
    "plt.plot(list_particles[list_mesures[1][1]]['x'], list_particles[list_mesures[1][1]]['y'],'.')\n",
    "plt.plot(list_mesures[1][0]['x'], list_mesures[1][0]['y'], 'o', 'r')\n",
    "plt.plot(list_predict[list_mesures[1][1]][0], list_predict[list_mesures[1][1]][1], '*')\n",
    "\n",
    "\n",
    "plt.subplot(1,4,3)\n",
    "plt.plot(list_particles[list_mesures[2][1]]['x'], list_particles[list_mesures[2][1]]['y'],'.')\n",
    "plt.plot(list_mesures[2][0]['x'], list_mesures[2][0]['y'], 'o', 'r')\n",
    "plt.plot(list_predict[list_mesures[2][1]][0], list_predict[list_mesures[2][1]][1], '*')\n",
    "\n",
    "plt.subplot(1,4,4)\n",
    "plt.plot(list_particles[list_mesures[3][1]]['x'], list_particles[list_mesures[3][1]]['y'],'.')\n",
    "plt.plot(list_mesures[3][0]['x'], list_mesures[3][0]['y'], 'o', 'r')\n",
    "plt.plot(list_predict[list_mesures[3][1]][0], list_predict[list_mesures[3][1]][1], '*')"
   ]
  },
  {
   "cell_type": "code",
   "execution_count": 51,
   "metadata": {},
   "outputs": [
    {
     "data": {
      "text/plain": [
       "[<matplotlib.lines.Line2D at 0x1a333f0198>]"
      ]
     },
     "execution_count": 51,
     "metadata": {},
     "output_type": "execute_result"
    },
    {
     "data": {
      "image/png": "[encoded data removed]",
      "text/plain": [
       "<Figure size 1440x144 with 4 Axes>"
      ]
     },
     "metadata": {
      "needs_background": "light"
     },
     "output_type": "display_data"
    }
   ],
   "source": [
    "plt.figure(figsize=(20,2))\n",
    "\n",
    "plt.subplot(1,4,1)\n",
    "plt.plot(list_particles[list_mesures[5][1]]['x'], list_particles[list_mesures[5][1]]['y'],'.')\n",
    "plt.plot(list_mesures[5][0]['x'], list_mesures[5][0]['y'], 'o', 'r')\n",
    "plt.plot(list_predict[list_mesures[5][1]][0], list_predict[list_mesures[5][1]][1], '*')\n",
    "\n",
    "\n",
    "plt.subplot(1,4,2)\n",
    "plt.plot(list_particles[list_mesures[10][1]]['x'], list_particles[list_mesures[10][1]]['y'],'.')\n",
    "plt.plot(list_mesures[10][0]['x'], list_mesures[10][0]['y'], 'o', 'r')\n",
    "plt.plot(list_predict[list_mesures[10][1]][0], list_predict[list_mesures[10][1]][1], '*')\n",
    "\n",
    "\n",
    "plt.subplot(1,4,3)\n",
    "plt.plot(list_particles[list_mesures[15][1]]['x'], list_particles[list_mesures[15][1]]['y'],'.')\n",
    "plt.plot(list_mesures[15][0]['x'], list_mesures[15][0]['y'], 'o', 'r')\n",
    "plt.plot(list_predict[list_mesures[15][1]][0], list_predict[list_mesures[15][1]][1], '*')\n",
    "\n",
    "plt.subplot(1,4,4)\n",
    "plt.plot(list_particles[list_mesures[20][1]]['x'], list_particles[list_mesures[20][1]]['y'],'.')\n",
    "plt.plot(list_mesures[20][0]['x'], list_mesures[20][0]['y'], 'o', 'r')\n",
    "plt.plot(list_predict[list_mesures[20][1]][0], list_predict[list_mesures[20][1]][1], '*')"
   ]
  },
  {
   "cell_type": "code",
   "execution_count": 52,
   "metadata": {},
   "outputs": [
    {
     "data": {
      "text/plain": [
       "Text(0.5, 1.0, 'trajet réel')"
      ]
     },
     "execution_count": 52,
     "metadata": {},
     "output_type": "execute_result"
    },
    {
     "data": {
      "image/png": "[encoded data removed]",
      "text/plain": [
       "<Figure size 720x360 with 2 Axes>"
      ]
     },
     "metadata": {
      "needs_background": "light"
     },
     "output_type": "display_data"
    }
   ],
   "source": [
    "plt.figure(figsize=(10,5))\n",
    "\n",
    "plt.subplot(1,2,1)\n",
    "plt.plot(np.array(list_predict)[:,0], np.array(list_predict)[:,1], 'red')\n",
    "plt.title('trajet prédit')\n",
    "\n",
    "plt.subplot(1,2,2)\n",
    "plt.plot(list_lati, list_longi, 'blue')\n",
    "plt.title('trajet réel')\n",
    "#xmin, xmax, ymin, ymax = plt.axis([-5.72,-5.68,-3, 15])"
   ]
  },
  {
   "cell_type": "markdown",
   "metadata": {},
   "source": [
    "# Algorithme Rao-Blackwell UKF"
   ]
  },
  {
   "cell_type": "code",
   "execution_count": 53,
   "metadata": {},
   "outputs": [
    {
     "name": "stdout",
     "output_type": "stream",
     "text": [
      "Collecting filterpy\n",
      "\u001b[?25l  Downloading https://files.pythonhosted.org/packages/f6/1d/ac8914360460fafa1990890259b7fa5ef7ba4cd59014e782e4ab3ab144d8/filterpy-1.4.5.zip (177kB)\n",
      "\u001b[K     |████████████████████████████████| 184kB 936kB/s eta 0:00:01\n",
      "\u001b[?25hRequirement already satisfied: numpy in /anaconda3/lib/python3.7/site-packages (from filterpy) (1.16.2)\n",
      "Requirement already satisfied: scipy in /anaconda3/lib/python3.7/site-packages (from filterpy) (1.2.1)\n",
      "Requirement already satisfied: matplotlib in /anaconda3/lib/python3.7/site-packages (from filterpy) (3.0.3)\n",
      "Requirement already satisfied: cycler>=0.10 in /anaconda3/lib/python3.7/site-packages (from matplotlib->filterpy) (0.10.0)\n",
      "Requirement already satisfied: kiwisolver>=1.0.1 in /anaconda3/lib/python3.7/site-packages (from matplotlib->filterpy) (1.0.1)\n",
      "Requirement already satisfied: pyparsing!=2.0.4,!=2.1.2,!=2.1.6,>=2.0.1 in /anaconda3/lib/python3.7/site-packages (from matplotlib->filterpy) (2.3.1)\n",
      "Requirement already satisfied: python-dateutil>=2.1 in /anaconda3/lib/python3.7/site-packages (from matplotlib->filterpy) (2.8.0)\n",
      "Requirement already satisfied: six in /anaconda3/lib/python3.7/site-packages (from cycler>=0.10->matplotlib->filterpy) (1.12.0)\n",
      "Requirement already satisfied: setuptools in /anaconda3/lib/python3.7/site-packages (from kiwisolver>=1.0.1->matplotlib->filterpy) (40.8.0)\n",
      "Building wheels for collected packages: filterpy\n",
      "  Building wheel for filterpy (setup.py) ... \u001b[?25ldone\n",
      "\u001b[?25h  Created wheel for filterpy: filename=filterpy-1.4.5-cp37-none-any.whl size=110453 sha256=f5a4e6a50beeb21b9a25c9bd3a5985d0e44f52da457fcb60eef51c5d4b485e43\n",
      "  Stored in directory: /Users/etiennelenaour/Library/Caches/pip/wheels/c3/0c/dd/e92392c3f38a41371602d99fc77d6c1d42aadbf0c6afccdd02\n",
      "Successfully built filterpy\n",
      "Installing collected packages: filterpy\n",
      "Successfully installed filterpy-1.4.5\n"
     ]
    }
   ],
   "source": [
    "!pip3 install filterpy"
   ]
  },
  {
   "cell_type": "code",
   "execution_count": 54,
   "metadata": {},
   "outputs": [],
   "source": [
    "from filterpy.kalman import UnscentedKalmanFilter, MerweScaledSigmaPoints"
   ]
  },
  {
   "cell_type": "code",
   "execution_count": 55,
   "metadata": {},
   "outputs": [],
   "source": [
    "def simple_resample_vectoriel(N, particles, gps_states, weights):\n",
    "    \n",
    "    cumulative_sum = np.cumsum(weights)\n",
    "    cumulative_sum[-1] = 1. # avoid round-off error\n",
    "    indexes = np.searchsorted(cumulative_sum, np.random.uniform(0, 1, size = N))\n",
    "    \n",
    "    # Resample according to indexes\n",
    "    particles = particles[indexes]\n",
    "    gps_states = {key: gps_states[key][indexes] for key in gps_states}\n",
    "    weights.fill(1.0 / N)\n",
    "    \n",
    "    return particles, gps_states, weights"
   ]
  },
  {
   "cell_type": "code",
   "execution_count": 56,
   "metadata": {},
   "outputs": [],
   "source": [
    "def initilisation_pf_vectoriel(N):\n",
    "    \n",
    "    stretch = 1.02\n",
    "    \n",
    "    x_min, x_max = np.min(stretch * latitude), np.max(stretch * latitude)\n",
    "    y_min, y_max = np.min(stretch * longtitude), np.max(stretch * longtitude)\n",
    "    v_max = np.max(stretch * velocity)\n",
    "    beta_min, beta_max = np.min(stretch * steering), np.max(stretch * steering)\n",
    "    beta_dot = (steering[1:] - steering[:-1]) / (time_sensors[1:] - time_sensors[:-1])\n",
    "    beta_dot_min, beta_dot_max = np.min(stretch * beta_dot), np.max(beta_dot)\n",
    "    \n",
    "    init_state = np.zeros((N, 6))\n",
    "    # x\n",
    "    init_state[:, 0] = np.random.uniform(low = x_min, high = x_max, size = N)\n",
    "    # y\n",
    "    init_state[:, 1] = np.random.uniform(low = y_min, high = y_max, size = N)\n",
    "    # v\n",
    "    init_state[:, 2] = np.random.uniform(low = 0, high = v_max, size = N)\n",
    "    # psi\n",
    "    init_state[:, 3] = np.random.uniform(low = 0, high = 2*np.pi, size = N)\n",
    "    # beta\n",
    "    init_state[:, 4] = np.random.uniform(low = beta_min, high = beta_max, size = N)\n",
    "    # beta_point\n",
    "    init_state[:, 5] = np.random.uniform(low = beta_dot_min, high = beta_dot_max, size = N)\n",
    "\n",
    "    init_gps_state = {\n",
    "        'sigma': np.exp(np.random.normal(0, 1, size = N)), # c'est un peu arbitraire, si vous avez mieux hesitez pas\n",
    "        'alpha': np.ones((N, 2)) / (2 * N),\n",
    "        'c': np.zeros(N), # tous les gps marchent bien a priori\n",
    "    }\n",
    "    \n",
    "    init_uncertainty_matrices = [np.eye(6) for _ in range(N)]\n",
    "    \n",
    "#     init_gps_state = np.zeros((N, 3))\n",
    "#     # sigma:\n",
    "#     init_gps_state[:, 0] = np.exp(np.random.normal(0, 1, size = N)), # c'est un peu arbitraire, si vous avez mieux hesitez pas\n",
    "#     # alpha:\n",
    "#     init_gps_state[:, 1] = np.ones((N, 2)) / (2 * N),\n",
    "#     # C:\n",
    "#     init_gps_state[:, 2] = np.zeros(N), # tous les gps marchent bien a priori\n",
    "    \n",
    "    init_poids = np.ones(N) / N\n",
    "    \n",
    "    return init_state, init_gps_state, init_uncertainty_matrices, init_poids"
   ]
  },
  {
   "cell_type": "code",
   "execution_count": 57,
   "metadata": {},
   "outputs": [],
   "source": [
    "def transition_model_vectoriel(current_state, dt):\n",
    "    \n",
    "    ''' return the state transition model WITHOUT taking into\n",
    "    account the state noise (v' and beta'') '''\n",
    "    \n",
    "    # Retrieve initial states\n",
    "    x = current_state[0]\n",
    "    y = current_state[1]\n",
    "    v = current_state[2]\n",
    "\n",
    "    psi = current_state[3]\n",
    "    beta = current_state[4]\n",
    "    beta_dot = current_state[5]\n",
    "    \n",
    "    # Next states\n",
    "    next_state = np.zeros(6)\n",
    "    next_state[0] = x + dt * v * (np.cos(psi) + (- a * np.sin(psi) + b * np.cos(psi)) * np.tan(beta) / L)\n",
    "    next_state[1] = y + dt * v * (np.sin(psi) + (a * np.cos(psi) + b * np.sin(psi)) * np.tan(beta) / L)\n",
    "    next_state[2] = v\n",
    "    \n",
    "    next_state[3] = psi + dt * v * np.tan(beta) / L\n",
    "    next_state[4] = beta + dt * beta_dot\n",
    "    next_state[5] = beta_dot\n",
    "\n",
    "    return next_state"
   ]
  },
  {
   "cell_type": "code",
   "execution_count": 70,
   "metadata": {},
   "outputs": [],
   "source": [
    "sigma_points = MerweScaledSigmaPoints(6, alpha=.1, beta=2., kappa=-1)\n",
    "\n",
    "h1 = lambda state: [state[0], state[1]] # mesures de x et y\n",
    "h23 = lambda state: [state[2], state[4]] # mesures de v et beta\n",
    "\n",
    "var_gps = 0.2\n",
    "var_sensors_mat = np.diag([0.1, 0.002])\n",
    "\n",
    "def update_particles_ukf(N, dt, update_GPS, measures, particles, uncertainty_matrices, gps_states): \n",
    "    '''Met a jour l'etat des particules + matrices de cov des estimations\n",
    "    avec un UKF'''\n",
    "    new_particles = np.zeros((N, 6))\n",
    "    new_uncertainty_matrices = list()\n",
    "    if update_GPS:\n",
    "        ukf_gps = UnscentedKalmanFilter(dim_x=6, dim_z=2, dt=dt, fx=transition_model_vectoriel, hx=h1, points=sigma_points)\n",
    "        for i in range(N):\n",
    "            ukf_gps.x = particles[i] # Etat estime de la particule\n",
    "            ukf_gps.P = uncertainty_matrices[i] # matrice de covariance de l'estimation\n",
    "            \n",
    "            if gps_states['c'][i] == 0: # Fonctionnement nominal\n",
    "                ukf_gps.R = var_gps * np.eye(2)\n",
    "            else: # Mauvais fonctionnement, grosse incertitude \n",
    "                ukf_gps.R = 40 * var_gps * np.eye(2)\n",
    "            \n",
    "            ukf_gps.predict()\n",
    "            ukf_gps.update(measures)\n",
    "            new_particles[i] = ukf_gps.x\n",
    "            new_uncertainty_matrices.append(ukf_gps.P)\n",
    "\n",
    "    else:\n",
    "        ukf_sensors = UnscentedKalmanFilter(dim_x=6, dim_z=2, dt=dt, fx=transition_model_vectoriel, hx=h23, points=sigma_points)\n",
    "        ukf_sensors.R = var_sensors_mat\n",
    "        for i in range(N):\n",
    "            ukf_sensors.x = particles[i] # Etat estime de la particule\n",
    "            ukf_sensors.P = uncertainty_matrices[i] # matrice de covariance de l'estimation\n",
    "            \n",
    "            # Etape predict et update\n",
    "            ukf_sensors.predict()\n",
    "            ukf_sensors.update(measures)\n",
    "            \n",
    "            new_particles[i] = ukf_sensors.x\n",
    "            new_uncertainty_matrices.append(ukf_sensors.P)\n",
    "    return new_particles, uncertainty_matrices"
   ]
  },
  {
   "cell_type": "code",
   "execution_count": 77,
   "metadata": {},
   "outputs": [],
   "source": [
    "def update_model_vectoriel(N, weights, update_GPS, measures, particles, gps_state): \n",
    "    '''Met a jour les poids des particules'''\n",
    "    # == Cas GPS\n",
    "    if update_GPS:\n",
    "        erreur_mesure = np.linalg.norm([particles[:, 0] - measures['x'],\n",
    "                                        particles[:, 1] - measures['y']], axis = 0)\n",
    "        c, c_proba = gps_state['c'], gps_state['c_proba']\n",
    "\n",
    "        # mise à jour des poids\n",
    "        for i in range(N): \n",
    "            weights[i] *= c_proba[i] * (\n",
    "                scipy.stats.norm(0, var_gps).pdf(erreur_mesure[i]) if c[i] == 0 else p0_z1(0)\n",
    "            )\n",
    "\n",
    "    # == Cas sensors\n",
    "    else:\n",
    "        erreur_mesure_beta = ((particles[:, 4] - measures['beta']) + np.pi) % (2 * np.pi) - np.pi\n",
    "        erreur_mesure_v = particles[:, 2] - measures['v']     \n",
    "        \n",
    "        # mise à jour des poids\n",
    "        for i in range(N): \n",
    "            weights[i] *= (\n",
    "                scipy.stats.norm(0, var_sensors['v']).pdf(erreur_mesure_v[i])\n",
    "                * scipy.stats.norm(0, var_sensors['beta']).pdf(erreur_mesure_beta[i])\n",
    "            )\n",
    "    \n",
    "    weights += 1e-300 # Eviter les divisions par 0\n",
    "    weights /= sum(weights) # normalize  \n",
    "        \n",
    "    return weights"
   ]
  },
  {
   "cell_type": "code",
   "execution_count": 78,
   "metadata": {},
   "outputs": [],
   "source": [
    "def update_gps_states_new(N, gps_states, particles, measures):\n",
    "    \n",
    "    # Probabilite que c_{1, t} = 0:\n",
    "    gps_states_new = dict()\n",
    "    gps_states_new['c'], gps_states_new['c_proba'] = np.zeros(N), np.zeros(N)\n",
    "    gps_states_new['alpha'], gps_states_new['alpha_proba'] = np.zeros((N, 2)), np.zeros(N)\n",
    "    gps_states_new['sigma'], gps_states_new['sigma_proba'] = np.zeros(N), np.zeros(N)\n",
    "    \n",
    "    alpha = gps_states['alpha']\n",
    "    sigma = gps_states['sigma']\n",
    "    \n",
    "    for i in range(N):\n",
    "        \n",
    "        ''' === ÉQUATION 29 page 11 ===\n",
    "        Mise à jour de c '''\n",
    "        \n",
    "        z1 = [particles[i, 0], particles[i, 1]]\n",
    "        h_x_1 = [measures['x'], measures['y']]\n",
    "        \n",
    "        p_c_0 = alpha[i][0] * p0_z1(z1) / (alpha[i][0] *  p0_z1(z1) \n",
    "                                           + alpha[i][1] * multivariate_normal.pdf(z1, h_x_1, S))\n",
    "\n",
    "        sampled = np.random.binomial(1, p_c_0)\n",
    "\n",
    "        gps_states_new['c'][i] = sampled\n",
    "        gps_states_new['c_proba'][i] = p_c_0 if sampled == 0 else 1 - p_c_0\n",
    "        \n",
    "\n",
    "    for i in range(N):\n",
    "        \n",
    "        ''' === ÉQUATION 26 page 11 ===\n",
    "        Mise à jour d'alpha '''\n",
    "        \n",
    "        params = sigma[i] * alpha[i] + (gps_states_new['c'][i] == 0)\n",
    "        rv = beta(params[0], params[1])\n",
    "        try:\n",
    "            sampled = rv.rvs()\n",
    "        except:\n",
    "            print(params, sigma[i], alpha[i])\n",
    "        proba = rv.pdf(sampled)\n",
    "        \n",
    "        gps_states_new['alpha'][i] = (sampled, 1 - sampled)\n",
    "        gps_states_new['alpha_proba'][i] = proba\n",
    "        \n",
    "    rv = scipy.stats.norm(0, 1)\n",
    "    \n",
    "    for i in range(N):\n",
    "        \n",
    "        ''' === ÉQUATION 28 page 11 ===\n",
    "        Mise à jour de sigma '''\n",
    "        # !!!! ATTENTION C'EST PAS LA BONNE FORMULE !!!!\n",
    "        # !!!! TODO: FIX !!!!\n",
    "        \n",
    "        sampled = rv.rvs()\n",
    "        gps_states_new['sigma'][i] = gps_states['sigma'][i] * np.exp(sampled)\n",
    "        gps_states_new['sigma_proba'][i] = rv.pdf(sampled)\n",
    "\n",
    "    return gps_states_new"
   ]
  },
  {
   "cell_type": "code",
   "execution_count": 79,
   "metadata": {},
   "outputs": [],
   "source": [
    "def predictions_vectoriel(weights, particles):\n",
    "    \n",
    "    tab_predict = [sum(particles[:, 0] * weights), sum(particles[:, 1] * weights), \n",
    "                   sum(particles[:, 2] * weights), sum(particles[:, 4] * weights)]\n",
    "    \n",
    "    return tab_predict"
   ]
  },
  {
   "cell_type": "code",
   "execution_count": 80,
   "metadata": {},
   "outputs": [],
   "source": [
    "def rao_blackwell_filter(N = 10000, skip = 1, verbose = 10, tmax=200):\n",
    "    \n",
    "    #liste à remplir\n",
    "    list_predict = list()\n",
    "    list_particles = list()\n",
    "    list_mesures = list()\n",
    "    \n",
    "    # === Initialisation === #\n",
    "    particles, gps_states, uncertainty_matrices, weights = initilisation_pf_vectoriel(N)\n",
    "    t_previous = time[0] / 1000.\n",
    "\n",
    "    # === Itérations === #\n",
    "    for i in range(min(len(time), tmax)):\n",
    "        \n",
    "        if i % verbose == 0:\n",
    "            print('iteration :', i)\n",
    "            \n",
    "        if i % skip == 0:\n",
    "            t = time[i] / 1000.\n",
    "            update_GPS = (sensor[i] == 1)\n",
    "\n",
    "            # Si on reçoit une mesure du GPS\n",
    "            if update_GPS:\n",
    "                measures = {'x': latitude[index[i]], 'y': longtitude[index[i]]}\n",
    "                measures_vect = [latitude[index[i]], longtitude[index[i]]]\n",
    "                list_mesures.append([measures,i])\n",
    "\n",
    "                # Update de c, alpha et sigma :\n",
    "                gps_states = update_gps_states_new(N, gps_states, particles, measures)\n",
    "                \n",
    "                # Update de x chapeau et SIGMA avec UKF :\n",
    "                particles, uncertainty_matrices = update_particles_ukf(N, t-t_previous, update_GPS, measures_vect,\n",
    "                                                                       particles, uncertainty_matrices, gps_states)\n",
    "\n",
    "\n",
    "            # Si on reçoit une mesure du sensor\n",
    "            else:\n",
    "                measures = {'beta': steering[index[i]], 'v': velocity[index[i]]}\n",
    "                measures_vect = [steering[index[i]], velocity[index[i]]]\n",
    "                \n",
    "                # Update de x chapeau et SIGMA avec UKF :\n",
    "                particles, uncertainty_matrices = update_particles_ukf(N, t-t_previous, update_GPS, measures_vect,\n",
    "                                                                       particles, uncertainty_matrices, gps_states)\n",
    "\n",
    "            # Update des poids :\n",
    "            weights = update_model_vectoriel(N, weights, update_GPS, measures, particles, gps_states)\n",
    "\n",
    "            # Resampling :\n",
    "            Neff = 1. / sum(weights ** 2)\n",
    "            if (Neff <= 0.8 * N) :\n",
    "                print('Resampled')\n",
    "                particles, gps_states, weights = simple_resample_vectoriel(N, particles, gps_states, weights)\n",
    "\n",
    "            t_previous = t\n",
    "            list_predict.append(predictions_vectoriel(weights, particles))\n",
    "            list_particles.append(particles)\n",
    "            \n",
    "    return list_predict, list_particles, list_mesures"
   ]
  },
  {
   "cell_type": "markdown",
   "metadata": {},
   "source": [
    "# Application du rao_blackwell_filter"
   ]
  },
  {
   "cell_type": "code",
   "execution_count": 81,
   "metadata": {},
   "outputs": [
    {
     "name": "stdout",
     "output_type": "stream",
     "text": [
      "Pour 200 unités de temps nous avons : 23 mesures GPS\n"
     ]
    },
    {
     "data": {
      "text/plain": [
       "[<matplotlib.lines.Line2D at 0x1a1e07c400>]"
      ]
     },
     "execution_count": 81,
     "metadata": {},
     "output_type": "execute_result"
    },
    {
     "data": {
      "image/png": "[encoded data removed]",
      "text/plain": [
       "<Figure size 432x288 with 1 Axes>"
      ]
     },
     "metadata": {
      "needs_background": "light"
     },
     "output_type": "display_data"
    }
   ],
   "source": [
    "time_short = time[:200]\n",
    "list_longi = list()\n",
    "list_lati = list()\n",
    "\n",
    "for i in range(len(time_short)):\n",
    "\n",
    "        update_GPS = sensor[i] == 1\n",
    "        if update_GPS:\n",
    "            list_lati.append(latitude[index[i]])\n",
    "            list_longi.append(longtitude[[i]])\n",
    "\n",
    "print('Pour 200 unités de temps nous avons :', len(list_lati), 'mesures GPS')            \n",
    "plt.plot(list_lati, list_longi)"
   ]
  },
  {
   "cell_type": "markdown",
   "metadata": {},
   "source": [
    "#### We want to follow this trajectory"
   ]
  },
  {
   "cell_type": "code",
   "execution_count": 83,
   "metadata": {},
   "outputs": [
    {
     "name": "stdout",
     "output_type": "stream",
     "text": [
      "iteration : 0\n",
      "Resampled\n",
      "Resampled\n",
      "[0.1351499 0.       ] 0.13514990266439686 [1. 0.]\n",
      "[0.0679342 0.       ] 0.06793419732405254 [1. 0.]\n",
      "[1.46302409 0.        ] 1.4630240930959415 [1. 0.]\n",
      "[0.46770434 0.        ] 0.4677043445913272 [1. 0.]\n",
      "[0.62925773 0.        ] 0.6292577301341238 [1. 0.]\n",
      "[0.46770434 0.        ] 0.4677043445913272 [1. 0.]\n",
      "[0.08446119 0.        ] 0.08446119399193444 [1. 0.]\n",
      "[0.21553702 0.        ] 0.21553701657807842 [1. 0.]\n",
      "[1.07350567 0.        ] 1.0735056727364094 [1. 0.]\n",
      "[2.52612792 0.        ] 2.52612791716339 [1. 0.]\n",
      "[0.13111573 0.        ] 0.13111573165031748 [1. 0.]\n",
      "[0.35410705 0.        ] 0.35410705337521015 [1. 0.]\n",
      "[1.71786422 0.        ] 1.7178642178814305 [1. 0.]\n",
      "[0.26013921 0.        ] 0.26013921043611976 [1. 0.]\n",
      "[2.52612792 0.        ] 2.52612791716339 [1. 0.]\n",
      "[0.26013921 0.        ] 0.26013921043611976 [1. 0.]\n",
      "[0.21553702 0.        ] 0.21553701657807842 [1. 0.]\n",
      "[4.39402906 0.        ] 4.3940290586436985 [1. 0.]\n",
      "[8.31695595 0.        ] 8.316955953399544 [1. 0.]\n",
      "[0.46770434 0.        ] 0.4677043445913272 [1. 0.]\n",
      "[0.62925773 0.        ] 0.6292577301341238 [1. 0.]\n",
      "[0.33508976 0.        ] 0.3350897580093683 [1. 0.]\n",
      "[0.1351499 0.       ] 0.13514990266439686 [1. 0.]\n",
      "[2.09766502 0.        ] 2.097665024708946 [1. 0.]\n",
      "[0.08633381 0.        ] 0.08633380936100335 [1. 0.]\n",
      "[1.99184894 0.        ] 1.9918489388704148 [1. 0.]\n",
      "[0.39395813 0.        ] 0.39395812949343406 [1. 0.]\n",
      "[0.13111573 0.        ] 0.13111573165031748 [1. 0.]\n",
      "[4.69214233 0.        ] 4.692142334447989 [1. 0.]\n",
      "[0.0679342 0.       ] 0.06793419732405254 [1. 0.]\n",
      "[0.10545219 0.        ] 0.10545219486673688 [1. 0.]\n",
      "[2.53428746 0.        ] 2.534287460196828 [1. 0.]\n",
      "[2.09766502 0.        ] 2.097665024708946 [1. 0.]\n",
      "[1.99184894 0.        ] 1.9918489388704148 [1. 0.]\n",
      "[2.09766502 0.        ] 2.097665024708946 [1. 0.]\n",
      "[0.21785448 0.        ] 0.21785448407876354 [1. 0.]\n",
      "[0.62925773 0.        ] 0.6292577301341238 [1. 0.]\n",
      "[4.69214233 0.        ] 4.692142334447989 [1. 0.]\n",
      "[4.69214233 0.        ] 4.692142334447989 [1. 0.]\n",
      "[0.13111573 0.        ] 0.13111573165031748 [1. 0.]\n",
      "[0.93833024 0.        ] 0.9383302420474489 [1. 0.]\n",
      "[0.01134661 0.        ] 0.01134661230056364 [1. 0.]\n",
      "[0.13111573 0.        ] 0.13111573165031748 [1. 0.]\n",
      "[4.69214233 0.        ] 4.692142334447989 [1. 0.]\n",
      "[0.13111573 0.        ] 0.13111573165031748 [1. 0.]\n",
      "[0.287075 0.      ] 0.2870750013149506 [1. 0.]\n",
      "[0.36245402 0.        ] 0.36245402094918727 [1. 0.]\n",
      "[3.19145462 0.        ] 3.191454617680444 [1. 0.]\n",
      "[0.93833024 0.        ] 0.9383302420474489 [1. 0.]\n",
      "[4.69214233 0.        ] 4.692142334447989 [1. 0.]\n",
      "[0.1351499 0.       ] 0.13514990266439686 [1. 0.]\n",
      "[0.0679342 0.       ] 0.06793419732405254 [1. 0.]\n",
      "[3.62631464 0.        ] 3.626314640357753 [1. 0.]\n",
      "[3.62631464 0.        ] 3.626314640357753 [1. 0.]\n",
      "[1.46302409 0.        ] 1.4630240930959415 [1. 0.]\n",
      "[0.93833024 0.        ] 0.9383302420474489 [1. 0.]\n",
      "[0.13111573 0.        ] 0.13111573165031748 [1. 0.]\n",
      "[0.1351499 0.       ] 0.13514990266439686 [1. 0.]\n",
      "[0.93833024 0.        ] 0.9383302420474489 [1. 0.]\n",
      "[0.35410705 0.        ] 0.35410705337521015 [1. 0.]\n",
      "[0.35410705 0.        ] 0.35410705337521015 [1. 0.]\n",
      "[4.69214233 0.        ] 4.692142334447989 [1. 0.]\n",
      "[0.33508976 0.        ] 0.3350897580093683 [1. 0.]\n",
      "[0.49683378 0.        ] 0.4968337841911875 [1. 0.]\n",
      "[0.93833024 0.        ] 0.9383302420474489 [1. 0.]\n",
      "[0.46770434 0.        ] 0.4677043445913272 [1. 0.]\n",
      "[0.62925773 0.        ] 0.6292577301341238 [1. 0.]\n",
      "[0.0639325 0.       ] 0.0639325010710546 [1. 0.]\n",
      "[0.26013921 0.        ] 0.26013921043611976 [1. 0.]\n",
      "[0.27088024 0.        ] 0.2708802419648436 [1. 0.]\n",
      "[0.26013921 0.        ] 0.26013921043611976 [1. 0.]\n",
      "[0.46770434 0.        ] 0.4677043445913272 [1. 0.]\n",
      "[0.08633381 0.        ] 0.08633380936100335 [1. 0.]\n",
      "[0.0639325 0.       ] 0.0639325010710546 [1. 0.]\n",
      "[0.0679342 0.       ] 0.06793419732405254 [1. 0.]\n",
      "[0.01134661 0.        ] 0.01134661230056364 [1. 0.]\n",
      "[0.19379613 0.        ] 0.19379613334254228 [1. 0.]\n",
      "[0.19379613 0.        ] 0.19379613334254228 [1. 0.]\n",
      "[0.93833024 0.        ] 0.9383302420474489 [1. 0.]\n",
      "[0.27088024 0.        ] 0.2708802419648436 [1. 0.]\n",
      "[0.08446119 0.        ] 0.08446119399193444 [1. 0.]\n",
      "[0.27088024 0.        ] 0.2708802419648436 [1. 0.]\n",
      "[0.13111573 0.        ] 0.13111573165031748 [1. 0.]\n",
      "[8.31695595 0.        ] 8.316955953399544 [1. 0.]\n",
      "[0.13111573 0.        ] 0.13111573165031748 [1. 0.]\n",
      "[0.33508976 0.        ] 0.3350897580093683 [1. 0.]\n",
      "[0.93833024 0.        ] 0.9383302420474489 [1. 0.]\n",
      "[4.69214233 0.        ] 4.692142334447989 [1. 0.]\n",
      "[1.71786422 0.        ] 1.7178642178814305 [1. 0.]\n",
      "[2.52612792 0.        ] 2.52612791716339 [1. 0.]\n",
      "[2.09766502 0.        ] 2.097665024708946 [1. 0.]\n",
      "[1.71786422 0.        ] 1.7178642178814305 [1. 0.]\n",
      "[0.1351499 0.       ] 0.13514990266439686 [1. 0.]\n",
      "[2.09766502 0.        ] 2.097665024708946 [1. 0.]\n",
      "[0.287075 0.      ] 0.2870750013149506 [1. 0.]\n",
      "[0.35410705 0.        ] 0.35410705337521015 [1. 0.]\n",
      "[0.13111573 0.        ] 0.13111573165031748 [1. 0.]\n",
      "[0.21785448 0.        ] 0.21785448407876354 [1. 0.]\n",
      "[0.07147824 0.        ] 0.07147823702738587 [1. 0.]\n",
      "[0.01134661 0.        ] 0.01134661230056364 [1. 0.]\n",
      "[0.15638169 0.        ] 0.15638168760664 [1. 0.]\n",
      "[0.08446119 0.        ] 0.08446119399193444 [1. 0.]\n",
      "[4.69214233 0.        ] 4.692142334447989 [1. 0.]\n",
      "[0.19379613 0.        ] 0.19379613334254228 [1. 0.]\n",
      "[0.13111573 0.        ] 0.13111573165031748 [1. 0.]\n",
      "[0.13111573 0.        ] 0.13111573165031748 [1. 0.]\n",
      "[0.39395813 0.        ] 0.39395812949343406 [1. 0.]\n",
      "[0.62925773 0.        ] 0.6292577301341238 [1. 0.]\n",
      "[0.13111573 0.        ] 0.13111573165031748 [1. 0.]\n",
      "[4.39402906 0.        ] 4.3940290586436985 [1. 0.]\n",
      "[0.08633381 0.        ] 0.08633380936100335 [1. 0.]\n",
      "[0.08446119 0.        ] 0.08446119399193444 [1. 0.]\n",
      "[0.0639325 0.       ] 0.0639325010710546 [1. 0.]\n",
      "[0.26013921 0.        ] 0.26013921043611976 [1. 0.]\n",
      "[0.13111573 0.        ] 0.13111573165031748 [1. 0.]\n",
      "[0.19379613 0.        ] 0.19379613334254228 [1. 0.]\n",
      "[0.21785448 0.        ] 0.21785448407876354 [1. 0.]\n",
      "[0.74552648 0.        ] 0.745526482087901 [1. 0.]\n",
      "[0.13111573 0.        ] 0.13111573165031748 [1. 0.]\n",
      "[0.74552648 0.        ] 0.745526482087901 [1. 0.]\n",
      "[0.26013921 0.        ] 0.26013921043611976 [1. 0.]\n",
      "[1.99184894 0.        ] 1.9918489388704148 [1. 0.]\n",
      "[0.0639325 0.       ] 0.0639325010710546 [1. 0.]\n",
      "[0.39395813 0.        ] 0.39395812949343406 [1. 0.]\n",
      "[1.71786422 0.        ] 1.7178642178814305 [1. 0.]\n",
      "[0.27088024 0.        ] 0.2708802419648436 [1. 0.]\n",
      "[3.62631464 0.        ] 3.626314640357753 [1. 0.]\n",
      "[2.09766502 0.        ] 2.097665024708946 [1. 0.]\n",
      "[0.52032674 0.        ] 0.5203267383878499 [1. 0.]\n",
      "[0.13910643 0.        ] 0.1391064277846232 [1. 0.]\n",
      "[4.69214233 0.        ] 4.692142334447989 [1. 0.]\n",
      "[0.27088024 0.        ] 0.2708802419648436 [1. 0.]\n",
      "[0.49683378 0.        ] 0.4968337841911875 [1. 0.]\n",
      "[0.35410705 0.        ] 0.35410705337521015 [1. 0.]\n",
      "[0.08633381 0.        ] 0.08633380936100335 [1. 0.]\n",
      "[2.09766502 0.        ] 2.097665024708946 [1. 0.]\n",
      "[2.09766502 0.        ] 2.097665024708946 [1. 0.]\n",
      "[0.46770434 0.        ] 0.4677043445913272 [1. 0.]\n",
      "[1.71786422 0.        ] 1.7178642178814305 [1. 0.]\n",
      "[0.26013921 0.        ] 0.26013921043611976 [1. 0.]\n",
      "[1.07350567 0.        ] 1.0735056727364094 [1. 0.]\n",
      "[0.49683378 0.        ] 0.4968337841911875 [1. 0.]\n",
      "[0.35410705 0.        ] 0.35410705337521015 [1. 0.]\n",
      "[0.13111573 0.        ] 0.13111573165031748 [1. 0.]\n",
      "[0.21553702 0.        ] 0.21553701657807842 [1. 0.]\n",
      "[0.93833024 0.        ] 0.9383302420474489 [1. 0.]\n",
      "[0.1351499 0.       ] 0.13514990266439686 [1. 0.]\n",
      "[0.08633381 0.        ] 0.08633380936100335 [1. 0.]\n",
      "Resampled\n",
      "iteration : 10\n",
      "Resampled\n",
      "iteration : 20\n",
      "[0.36616467 0.        ] 0.36616466823256133 [1. 0.]\n",
      "Resampled\n",
      "iteration : 30\n",
      "Resampled\n",
      "iteration : 40\n",
      "Resampled\n",
      "iteration : 50\n",
      "Resampled\n",
      "iteration : 60\n",
      "Resampled\n",
      "iteration : 70\n",
      "Resampled\n",
      "Resampled\n",
      "iteration : 80\n",
      "Resampled\n",
      "iteration : 90\n",
      "Resampled\n",
      "iteration : 100\n",
      "Resampled\n",
      "iteration : 110\n",
      "Resampled\n",
      "iteration : 120\n",
      "Resampled\n",
      "iteration : 130\n",
      "Resampled\n",
      "iteration : 140\n",
      "Resampled\n",
      "iteration : 150\n",
      "Resampled\n",
      "iteration : 160\n",
      "Resampled\n",
      "Resampled\n",
      "iteration : 170\n",
      "Resampled\n",
      "iteration : 180\n",
      "Resampled\n",
      "iteration : 190\n",
      "Resampled\n"
     ]
    }
   ],
   "source": [
    "list_predict, list_particles, list_mesures = rao_blackwell_filter(N = 10000, skip = 1, verbose = 10, tmax = len(time_short))"
   ]
  },
  {
   "cell_type": "code",
   "execution_count": 106,
   "metadata": {},
   "outputs": [
    {
     "data": {
      "text/plain": [
       "[<matplotlib.lines.Line2D at 0x1a1edcada0>]"
      ]
     },
     "execution_count": 106,
     "metadata": {},
     "output_type": "execute_result"
    },
    {
     "data": {
      "image/png": "[encoded data removed]",
      "text/plain": [
       "<Figure size 1440x144 with 4 Axes>"
      ]
     },
     "metadata": {
      "needs_background": "light"
     },
     "output_type": "display_data"
    }
   ],
   "source": [
    "plt.figure(figsize=(20,2))\n",
    "\n",
    "plt.subplot(1,4,1)\n",
    "plt.plot(list_particles[0][:,0], list_particles[0][:,1],'.')\n",
    "plt.plot(list_mesures[0][0]['x'], list_mesures[0][0]['y'], 'o', 'r')\n",
    "plt.plot(list_predict[list_mesures[0][1]][0], list_predict[list_mesures[0][1]][1], '*')\n",
    "\n",
    "\n",
    "plt.subplot(1,4,2)\n",
    "plt.plot(list_particles[list_mesures[1][1]][0], list_particles[list_mesures[1][1]][1],'.')\n",
    "plt.plot(list_mesures[1][0]['x'], list_mesures[1][0]['y'], 'o', 'r')\n",
    "plt.plot(list_predict[list_mesures[1][1]][0], list_predict[list_mesures[1][1]][1], '*')\n",
    "\n",
    "\n",
    "plt.subplot(1,4,3)\n",
    "plt.plot(list_particles[list_mesures[2][1]][0], list_particles[list_mesures[2][1]][1],'.')\n",
    "plt.plot(list_mesures[2][0]['x'], list_mesures[2][0]['y'], 'o', 'r')\n",
    "plt.plot(list_predict[list_mesures[2][1]][0], list_predict[list_mesures[2][1]][1], '*')\n",
    "\n",
    "plt.subplot(1,4,4)\n",
    "plt.plot(list_particles[list_mesures[3][1]][0], list_particles[list_mesures[3][1]][1],'.')\n",
    "plt.plot(list_mesures[3][0]['x'], list_mesures[3][0]['y'], 'o', 'r')\n",
    "plt.plot(list_predict[list_mesures[3][1]][0], list_predict[list_mesures[3][1]][1], '*')"
   ]
  },
  {
   "cell_type": "code",
   "execution_count": 107,
   "metadata": {},
   "outputs": [
    {
     "data": {
      "text/plain": [
       "[<matplotlib.lines.Line2D at 0x1a1eccc668>]"
      ]
     },
     "execution_count": 107,
     "metadata": {},
     "output_type": "execute_result"
    },
    {
     "data": {
      "image/png": "[encoded data removed]",
      "text/plain": [
       "<Figure size 1440x144 with 4 Axes>"
      ]
     },
     "metadata": {
      "needs_background": "light"
     },
     "output_type": "display_data"
    }
   ],
   "source": [
    "plt.figure(figsize=(20,2))\n",
    "\n",
    "plt.subplot(1,4,1)\n",
    "plt.plot(list_particles[list_mesures[5][1]][0], list_particles[list_mesures[5][1]][1],'.')\n",
    "plt.plot(list_mesures[5][0]['x'], list_mesures[5][0]['y'], 'o', 'r')\n",
    "plt.plot(list_predict[list_mesures[5][1]][0], list_predict[list_mesures[5][1]][1], '*')\n",
    "\n",
    "\n",
    "plt.subplot(1,4,2)\n",
    "plt.plot(list_particles[list_mesures[10][1]][0], list_particles[list_mesures[10][1]][1],'.')\n",
    "plt.plot(list_mesures[10][0]['x'], list_mesures[10][0]['y'], 'o', 'r')\n",
    "plt.plot(list_predict[list_mesures[10][1]][0], list_predict[list_mesures[10][1]][1], '*')\n",
    "\n",
    "\n",
    "plt.subplot(1,4,3)\n",
    "plt.plot(list_particles[list_mesures[15][1]][0], list_particles[list_mesures[15][1]][1],'.')\n",
    "plt.plot(list_mesures[15][0]['x'], list_mesures[15][0]['y'], 'o', 'r')\n",
    "plt.plot(list_predict[list_mesures[15][1]][0], list_predict[list_mesures[15][1]][1], '*')\n",
    "\n",
    "plt.subplot(1,4,4)\n",
    "plt.plot(list_particles[list_mesures[20][1]][0], list_particles[list_mesures[20][1]][1],'.')\n",
    "plt.plot(list_mesures[20][0]['x'], list_mesures[20][0]['y'], 'o', 'r')\n",
    "plt.plot(list_predict[list_mesures[20][1]][0], list_predict[list_mesures[20][1]][1], '*')"
   ]
  },
  {
   "cell_type": "markdown",
   "metadata": {},
   "source": [
    "#### Plot du trajet prédit et du vrai trajet"
   ]
  },
  {
   "cell_type": "code",
   "execution_count": 108,
   "metadata": {},
   "outputs": [
    {
     "data": {
      "text/plain": [
       "Text(0.5, 1.0, 'trajet réel')"
      ]
     },
     "execution_count": 108,
     "metadata": {},
     "output_type": "execute_result"
    },
    {
     "data": {
      "image/png": "[encoded data removed]",
      "text/plain": [
       "<Figure size 720x360 with 2 Axes>"
      ]
     },
     "metadata": {
      "needs_background": "light"
     },
     "output_type": "display_data"
    }
   ],
   "source": [
    "#Plot result\n",
    "plt.figure(figsize=(10,5))\n",
    "\n",
    "plt.subplot(1,2,1)\n",
    "plt.plot(np.array(list_predict)[:,0], np.array(list_predict)[:,1], 'red')\n",
    "plt.title('trajet prédit')\n",
    "\n",
    "plt.subplot(1,2,2)\n",
    "plt.plot(list_lati, list_longi, 'blue')\n",
    "plt.title('trajet réel')"
   ]
  },
  {
   "cell_type": "code",
   "execution_count": null,
   "metadata": {},
   "outputs": [],
   "source": []
  },
  {
   "cell_type": "code",
   "execution_count": null,
   "metadata": {},
   "outputs": [],
   "source": []
  },
  {
   "cell_type": "code",
   "execution_count": null,
   "metadata": {},
   "outputs": [],
   "source": []
  },
  {
   "cell_type": "code",
   "execution_count": null,
   "metadata": {},
   "outputs": [],
   "source": []
  },
  {
   "cell_type": "code",
   "execution_count": null,
   "metadata": {},
   "outputs": [],
   "source": []
  },
  {
   "cell_type": "code",
   "execution_count": null,
   "metadata": {},
   "outputs": [],
   "source": []
  },
  {
   "cell_type": "code",
   "execution_count": null,
   "metadata": {},
   "outputs": [],
   "source": []
  },
  {
   "cell_type": "code",
   "execution_count": null,
   "metadata": {},
   "outputs": [],
   "source": []
  },
  {
   "cell_type": "code",
   "execution_count": null,
   "metadata": {},
   "outputs": [],
   "source": []
  },
  {
   "cell_type": "code",
   "execution_count": null,
   "metadata": {},
   "outputs": [],
   "source": []
  },
  {
   "cell_type": "code",
   "execution_count": null,
   "metadata": {},
   "outputs": [],
   "source": []
  },
  {
   "cell_type": "code",
   "execution_count": null,
   "metadata": {},
   "outputs": [],
   "source": []
  },
  {
   "cell_type": "code",
   "execution_count": null,
   "metadata": {},
   "outputs": [],
   "source": []
  },
  {
   "cell_type": "code",
   "execution_count": null,
   "metadata": {},
   "outputs": [],
   "source": []
  },
  {
   "cell_type": "code",
   "execution_count": null,
   "metadata": {},
   "outputs": [],
   "source": []
  },
  {
   "cell_type": "code",
   "execution_count": null,
   "metadata": {},
   "outputs": [],
   "source": []
  },
  {
   "cell_type": "code",
   "execution_count": null,
   "metadata": {},
   "outputs": [],
   "source": []
  },
  {
   "cell_type": "code",
   "execution_count": null,
   "metadata": {},
   "outputs": [],
   "source": []
  }
 ],
 "metadata": {
  "kernelspec": {
   "display_name": "Python 3",
   "language": "python",
   "name": "python3"
  },
  "language_info": {
   "codemirror_mode": {
    "name": "ipython",
    "version": 3
   },
   "file_extension": ".py",
   "mimetype": "text/x-python",
   "name": "python",
   "nbconvert_exporter": "python",
   "pygments_lexer": "ipython3",
   "version": "3.7.3"
  }
 },
 "nbformat": 4,
 "nbformat_minor": 2
}
