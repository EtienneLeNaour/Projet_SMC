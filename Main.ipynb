{
 "cells": [
  {
   "cell_type": "code",
   "execution_count": 2,
   "metadata": {},
   "outputs": [],
   "source": [
    "import scipy.io\n",
    "import scipy.stats\n",
    "import pandas as pd\n",
    "import numpy as np\n",
    "import matplotlib.pyplot as plt"
   ]
  },
  {
   "cell_type": "code",
   "execution_count": 3,
   "metadata": {},
   "outputs": [],
   "source": [
    "from os import chdir\n",
    "chdir('data/Cp_16_05_01')"
   ]
  },
  {
   "cell_type": "markdown",
   "metadata": {},
   "source": [
    "# I. Importation des données, mise en forme et premiers tests"
   ]
  },
  {
   "cell_type": "markdown",
   "metadata": {},
   "source": [
    "### 1) Bases de données brutes du GPS et des sensors"
   ]
  },
  {
   "cell_type": "code",
   "execution_count": 7,
   "metadata": {},
   "outputs": [],
   "source": [
    "# Telechargement des données qui sont sous forme de dictionnaire\n",
    "exp_ind = 1\n",
    "gps1 = scipy.io.loadmat('juan{}_gps.mat'.format(exp_ind))\n",
    "sensors1 = scipy.io.loadmat('juan{}_etc.mat'.format(exp_ind))"
   ]
  },
  {
   "cell_type": "code",
   "execution_count": 8,
   "metadata": {},
   "outputs": [],
   "source": [
    "# Mise en forme en Data Frame\n",
    "gps_df = pd.DataFrame(gps1['GPS'], columns = gps1['GPSFieldsOrder'])\n",
    "sensors_df = pd.DataFrame(sensors1['SENSORS'], columns = sensors1['ETCFieldsOrder'])"
   ]
  },
  {
   "cell_type": "code",
   "execution_count": 9,
   "metadata": {},
   "outputs": [],
   "source": [
    "# Changement du nom des variables\n",
    "gps_df = pd.DataFrame(gps1['GPS'], columns = ['time', 'ts', 'lat', 'long', 'alti', 'course', 'speedOG', 'speedV', \n",
    "                                              'SgmLat', 'SgmLong', 'SgmAlti', 'mode', 'sats'])\n",
    "sensors_df = pd.DataFrame(sensors1['SENSORS'], columns = ['time', 'counts', 'accel', 'steer', 'brake', 'speed'])"
   ]
  },
  {
   "cell_type": "markdown",
   "metadata": {},
   "source": [
    "### 2) Fonctions utiles au traitement des données brutes"
   ]
  },
  {
   "cell_type": "markdown",
   "metadata": {},
   "source": [
    "La fonction suivante permet de lire les données 'sensors', on peut ainsi récupérer la vitesse et l'angle des roues :"
   ]
  },
  {
   "cell_type": "code",
   "execution_count": 10,
   "metadata": {},
   "outputs": [],
   "source": [
    "def readSensorData(sensors_df):\n",
    "    \n",
    "    '''Velocity and steering'''\n",
    "    \n",
    "    # Sensor parameters\n",
    "    KV1 = 0.024970 * (1 - 0.21)\n",
    "    KA1 = 0.00040 * (1 + 0)\n",
    "    KA0 = 2022\n",
    "    Kx1 = 1.0127\n",
    "    Kx2 = 0.0042\n",
    "    \n",
    "    time_sensors = sensors_df['time'].values / 1000.\n",
    "    steering = Kx1 * (sensors_df['steer'].values - KA0) * KA1 + Kx2 \n",
    "    velocity = KV1 * sensors_df['speed'].values\n",
    "    \n",
    "    return time_sensors, steering, velocity"
   ]
  },
  {
   "cell_type": "markdown",
   "metadata": {},
   "source": [
    "La fonction suivante permet de lire les données GPS afin de récupérer la latitude et la longitude :"
   ]
  },
  {
   "cell_type": "code",
   "execution_count": 11,
   "metadata": {},
   "outputs": [],
   "source": [
    "def readGPSData(gps_df):\n",
    "    \n",
    "    '''Latitude and longtitude'''\n",
    "    \n",
    "    # Reference point\n",
    "    LAT0  = -33.8884\n",
    "    LONG0 = 151.1948\n",
    "    \n",
    "    # GPS parameters\n",
    "    a =  6378137.0\n",
    "    b  = a * (1 - 0.003352810664747)\n",
    "    kpi = np.pi / 180\n",
    "    cf = np.cos(LAT0 * kpi)\n",
    "    sf = np.abs(np.sin(LAT0 * kpi))\n",
    "    Ro = a ** 2 * cf / np.abs(np.sqrt((a *cf) ** 2 + (b * sf) ** 2))  ;\n",
    "    RR = b / a  * np.abs(np.sqrt(a ** 2- Ro ** 2)) / sf ;\n",
    "    \n",
    "    time_gps = gps_df['time'].values / 1000.\n",
    "    latitude = - RR * kpi * (gps_df['lat'].values + LAT0)\n",
    "    longtitude = Ro * kpi * (gps_df['long'].values - LONG0)\n",
    "    \n",
    "    return time_gps, latitude, longtitude"
   ]
  },
  {
   "cell_type": "markdown",
   "metadata": {},
   "source": [
    "La fonction suivante nous permet de récupérer trois vecteurs : `time`, `sensor` et `index`. Ces vecteurs nous permettent de savoir de quel capteur nous récupérons une mesure pour chaque temps $t$."
   ]
  },
  {
   "cell_type": "code",
   "execution_count": 12,
   "metadata": {},
   "outputs": [],
   "source": [
    "def scanData():\n",
    "    '''\n",
    "    Pour avoir le temps, le sensor et l'indice de chaque mesure qui arrive\n",
    "    Au temps time[i] on a une mesure de sensor[i]\n",
    "    (1 si gps, 2 si steering et velocity)\n",
    "    dans l'indice index[i] du tableau correspondant\n",
    "    '''\n",
    "    time_sensors, steering, velocity = readSensorData(sensors_df)\n",
    "    time_gps, latitude, longtitude = readGPSData(gps_df)\n",
    "    \n",
    "    times = [(1, i, time) for i, time in enumerate(time_gps)]\n",
    "    times.extend([(2, i, time) for i, time in enumerate(time_sensors)])\n",
    "\n",
    "    times = np.array(sorted(times, key = lambda u: u[2]))\n",
    "    time, sensor, index = times[:, 2], times[:, 0], times[:, 1].astype(int)\n",
    "    \n",
    "    return time, sensor, index"
   ]
  },
  {
   "cell_type": "markdown",
   "metadata": {},
   "source": [
    "### 3) Création des bases de données finales"
   ]
  },
  {
   "cell_type": "markdown",
   "metadata": {},
   "source": [
    "Nous utilisons les fonctions précédemment introduites afin de créer nos bases de données finales que nous utiliserons par la suite."
   ]
  },
  {
   "cell_type": "code",
   "execution_count": 13,
   "metadata": {},
   "outputs": [],
   "source": [
    "GPSData = pd.DataFrame(readGPSData(gps_df), ['times_GPS', 'latitude', 'longitude']).T\n",
    "SensorData = pd.DataFrame(readSensorData(sensors_df), ['time_sensors', 'steering', 'velocity']).T"
   ]
  },
  {
   "cell_type": "markdown",
   "metadata": {},
   "source": [
    "Les données GPS contiennent :\n",
    "- le temps $t$ en première colonne\n",
    "- la latitude et la longitude en deuxième et troisième colonne\n",
    "\n",
    "Tandis que les données sensor contiennent :\n",
    "- le temps $t$ en première colonne\n",
    "- l'angle des roues (steering) en deuxième colonne\n",
    "- la vitesse en troisième colonne"
   ]
  },
  {
   "cell_type": "code",
   "execution_count": 14,
   "metadata": {},
   "outputs": [
    {
     "data": {
      "text/html": [
       "<div>\n",
       "<style scoped>\n",
       "    .dataframe tbody tr th:only-of-type {\n",
       "        vertical-align: middle;\n",
       "    }\n",
       "\n",
       "    .dataframe tbody tr th {\n",
       "        vertical-align: top;\n",
       "    }\n",
       "\n",
       "    .dataframe thead th {\n",
       "        text-align: right;\n",
       "    }\n",
       "</style>\n",
       "<table border=\"1\" class=\"dataframe\">\n",
       "  <thead>\n",
       "    <tr style=\"text-align: right;\">\n",
       "      <th></th>\n",
       "      <th>times_GPS</th>\n",
       "      <th>latitude</th>\n",
       "      <th>longitude</th>\n",
       "    </tr>\n",
       "  </thead>\n",
       "  <tbody>\n",
       "    <tr>\n",
       "      <td>0</td>\n",
       "      <td>851.227</td>\n",
       "      <td>-5.707890</td>\n",
       "      <td>6.615680</td>\n",
       "    </tr>\n",
       "    <tr>\n",
       "      <td>1</td>\n",
       "      <td>851.428</td>\n",
       "      <td>-5.709734</td>\n",
       "      <td>6.615680</td>\n",
       "    </tr>\n",
       "    <tr>\n",
       "      <td>2</td>\n",
       "      <td>851.628</td>\n",
       "      <td>-5.702355</td>\n",
       "      <td>6.614138</td>\n",
       "    </tr>\n",
       "    <tr>\n",
       "      <td>3</td>\n",
       "      <td>851.828</td>\n",
       "      <td>-5.700510</td>\n",
       "      <td>6.615680</td>\n",
       "    </tr>\n",
       "    <tr>\n",
       "      <td>4</td>\n",
       "      <td>852.028</td>\n",
       "      <td>-5.702355</td>\n",
       "      <td>6.615680</td>\n",
       "    </tr>\n",
       "  </tbody>\n",
       "</table>\n",
       "</div>"
      ],
      "text/plain": [
       "   times_GPS  latitude  longitude\n",
       "0    851.227 -5.707890   6.615680\n",
       "1    851.428 -5.709734   6.615680\n",
       "2    851.628 -5.702355   6.614138\n",
       "3    851.828 -5.700510   6.615680\n",
       "4    852.028 -5.702355   6.615680"
      ]
     },
     "execution_count": 14,
     "metadata": {},
     "output_type": "execute_result"
    }
   ],
   "source": [
    "GPSData.head()"
   ]
  },
  {
   "cell_type": "code",
   "execution_count": 15,
   "metadata": {},
   "outputs": [
    {
     "data": {
      "text/html": [
       "<div>\n",
       "<style scoped>\n",
       "    .dataframe tbody tr th:only-of-type {\n",
       "        vertical-align: middle;\n",
       "    }\n",
       "\n",
       "    .dataframe tbody tr th {\n",
       "        vertical-align: top;\n",
       "    }\n",
       "\n",
       "    .dataframe thead th {\n",
       "        text-align: right;\n",
       "    }\n",
       "</style>\n",
       "<table border=\"1\" class=\"dataframe\">\n",
       "  <thead>\n",
       "    <tr style=\"text-align: right;\">\n",
       "      <th></th>\n",
       "      <th>time_sensors</th>\n",
       "      <th>steering</th>\n",
       "      <th>velocity</th>\n",
       "    </tr>\n",
       "  </thead>\n",
       "  <tbody>\n",
       "    <tr>\n",
       "      <td>0</td>\n",
       "      <td>851.292</td>\n",
       "      <td>0.064557</td>\n",
       "      <td>0.0</td>\n",
       "    </tr>\n",
       "    <tr>\n",
       "      <td>1</td>\n",
       "      <td>851.317</td>\n",
       "      <td>0.064962</td>\n",
       "      <td>0.0</td>\n",
       "    </tr>\n",
       "    <tr>\n",
       "      <td>2</td>\n",
       "      <td>851.342</td>\n",
       "      <td>0.064557</td>\n",
       "      <td>0.0</td>\n",
       "    </tr>\n",
       "    <tr>\n",
       "      <td>3</td>\n",
       "      <td>851.367</td>\n",
       "      <td>0.064557</td>\n",
       "      <td>0.0</td>\n",
       "    </tr>\n",
       "    <tr>\n",
       "      <td>4</td>\n",
       "      <td>851.392</td>\n",
       "      <td>0.064557</td>\n",
       "      <td>0.0</td>\n",
       "    </tr>\n",
       "  </tbody>\n",
       "</table>\n",
       "</div>"
      ],
      "text/plain": [
       "   time_sensors  steering  velocity\n",
       "0       851.292  0.064557       0.0\n",
       "1       851.317  0.064962       0.0\n",
       "2       851.342  0.064557       0.0\n",
       "3       851.367  0.064557       0.0\n",
       "4       851.392  0.064557       0.0"
      ]
     },
     "execution_count": 15,
     "metadata": {},
     "output_type": "execute_result"
    }
   ],
   "source": [
    "SensorData.head()"
   ]
  },
  {
   "cell_type": "markdown",
   "metadata": {},
   "source": [
    "### 4) Quelques visualisations des données finales"
   ]
  },
  {
   "cell_type": "markdown",
   "metadata": {},
   "source": [
    "Nous représentons ci-après l'évolution de la latitude (en bleu) et de la longitude (en orange) en fonction du temps $t$."
   ]
  },
  {
   "cell_type": "code",
   "execution_count": 17,
   "metadata": {},
   "outputs": [
    {
     "data": {
      "text/plain": [
       "<matplotlib.legend.Legend at 0x1a1de254d0>"
      ]
     },
     "execution_count": 17,
     "metadata": {},
     "output_type": "execute_result"
    },
    {
     "data": {
      "image/png": "[encoded data removed]",
      "text/plain": [
       "<Figure size 432x288 with 1 Axes>"
      ]
     },
     "metadata": {
      "needs_background": "light"
     },
     "output_type": "display_data"
    }
   ],
   "source": [
    "time_gps, latitude, longtitude = readGPSData(gps_df)\n",
    "plt.plot(time_gps, latitude, label = 'latitude')\n",
    "plt.plot(time_gps, longtitude, label = 'longtitude')\n",
    "plt.legend()"
   ]
  },
  {
   "cell_type": "markdown",
   "metadata": {},
   "source": [
    "Nous représentons ensuite l'évolution de la trajectoire du robot dans l'espace à partir de sa latitude et sa longitude."
   ]
  },
  {
   "cell_type": "code",
   "execution_count": 18,
   "metadata": {},
   "outputs": [
    {
     "data": {
      "text/plain": [
       "[<matplotlib.lines.Line2D at 0x1a1dfc0110>]"
      ]
     },
     "execution_count": 18,
     "metadata": {},
     "output_type": "execute_result"
    },
    {
     "data": {
      "image/png": "[encoded data removed]",
      "text/plain": [
       "<Figure size 432x288 with 1 Axes>"
      ]
     },
     "metadata": {
      "needs_background": "light"
     },
     "output_type": "display_data"
    }
   ],
   "source": [
    "plt.plot(latitude, longtitude)"
   ]
  },
  {
   "cell_type": "markdown",
   "metadata": {},
   "source": [
    "Nous représentons ci-après l'évolution de l'angle des roues (en bleu) et de la vitesse (en orange) en fonction du temps $t$."
   ]
  },
  {
   "cell_type": "code",
   "execution_count": 19,
   "metadata": {},
   "outputs": [
    {
     "data": {
      "text/plain": [
       "<matplotlib.legend.Legend at 0x1a1dfe8e10>"
      ]
     },
     "execution_count": 19,
     "metadata": {},
     "output_type": "execute_result"
    },
    {
     "data": {
      "image/png": "[encoded data removed]",
      "text/plain": [
       "<Figure size 432x288 with 1 Axes>"
      ]
     },
     "metadata": {
      "needs_background": "light"
     },
     "output_type": "display_data"
    }
   ],
   "source": [
    "time_sensors, steering, velocity = readSensorData(sensors_df)\n",
    "plt.plot(time_sensors, steering, label='steering')\n",
    "plt.plot(time_sensors, velocity, label='velocity')\n",
    "plt.legend()"
   ]
  },
  {
   "cell_type": "markdown",
   "metadata": {},
   "source": [
    "# II. Implémentation des fonctions intermédiaires nécessaires"
   ]
  },
  {
   "cell_type": "code",
   "execution_count": 20,
   "metadata": {},
   "outputs": [],
   "source": [
    "from scipy.stats import dirichlet, multivariate_normal, beta, norm"
   ]
  },
  {
   "cell_type": "code",
   "execution_count": 21,
   "metadata": {},
   "outputs": [],
   "source": [
    "# Parametres pour le modele de transition (partie bruit)\n",
    "timestep = (time_sensors[-1] - time_sensors[0]) / (len(time_sensors) - 1)\n",
    "noise_measures = np.zeros((len(time_sensors) - 2, 2))\n",
    "\n",
    "# Derivee de la vitesse\n",
    "noise_measures[:, 0] = (velocity[1:-1] - velocity[:-2]) / timestep\n",
    "\n",
    "# Derivee seconde de beta\n",
    "noise_measures[:, 1] = (steering[2:] - 2 * steering[1:-1] + steering[:-2]) / (timestep ** 2)\n",
    "\n",
    "# Covariance comme esperance\n",
    "noise_cov = noise_measures.T @ noise_measures / (len(time_sensors) - 2)\n",
    "noise_mean = np.zeros(2)"
   ]
  },
  {
   "cell_type": "code",
   "execution_count": 23,
   "metadata": {},
   "outputs": [],
   "source": [
    "var_gps = 0.002\n",
    "var_sensors = {'beta': 0.002, 'v': 0.1}\n",
    "\n",
    "p0_z1 = lambda u: 1e-4 # Uniforme sur un grand intervalle\n",
    "# Etat de \"mauvais\" fonctionnement du gps\n",
    "\n",
    "h1 = lambda state: [state['x'], state['y']]\n",
    "\n",
    "S = var_gps * np.eye(2) # + ?\n",
    "# Je dirais = 0 parce que le gradient est nul\n",
    "# puisque x et y ne dependent du noise qu'au 2nd ordre"
   ]
  },
  {
   "cell_type": "code",
   "execution_count": 28,
   "metadata": {},
   "outputs": [],
   "source": [
    "# Geometric constants\n",
    "L = 2.83\n",
    "H = 0.76\n",
    "a = 3.78\n",
    "b = 0.5"
   ]
  },
  {
   "cell_type": "markdown",
   "metadata": {},
   "source": [
    "### 1) Sous-fonctions utiles : calculs de probabilités et générateurs aléatoires"
   ]
  },
  {
   "cell_type": "markdown",
   "metadata": {},
   "source": [
    "La fonction suivante permet de simuler $\\overset{\\sim}{\\alpha}_{1, t}^{(i)}$ :"
   ]
  },
  {
   "cell_type": "code",
   "execution_count": 24,
   "metadata": {},
   "outputs": [],
   "source": [
    "def q_alpha(alpha_1_prev, c_t, sigma_t):\n",
    "    \n",
    "    ''' === ÉQUATION 26 page 11 ===\n",
    "    Ici, alpha1 est dans {0, 1}. Par l'article, la loi de Dirichlet est réduite\n",
    "    à une loi beta. '''\n",
    "    \n",
    "    rv = beta(sigma_t * alpha_1_prev + (c == 0))\n",
    "    \n",
    "    sampled = rv.rvs()\n",
    "    proba = rv.pdf(sampled)\n",
    "    \n",
    "    return sampled, proba"
   ]
  },
  {
   "cell_type": "markdown",
   "metadata": {},
   "source": [
    "La fonction suivante permet de simuler $\\overset{\\sim}{c}_{1, t}^{(i)}$ :"
   ]
  },
  {
   "cell_type": "code",
   "execution_count": 25,
   "metadata": {},
   "outputs": [],
   "source": [
    "def q_c1(x_pred, S1, alpha1, z1):\n",
    "    \n",
    "    ''' === ÉQUATION 29 page 11 === '''\n",
    "    \n",
    "    # Probabilite que c_{1, t} = 0 :\n",
    "    p_c_0 = alpha1 *  p0_z1(z1) / (alpha1 *  p0_z1(z1) \n",
    "                                   + (1 - alpha) * multivariate_normal.pdf(z1, h1(x_pred), S1))\n",
    "    sampled = np.random.binomial(1, p_c_0)\n",
    "    \n",
    "    return sampled, p_c_0 if sampled == 0 else 1 - p_c_0"
   ]
  },
  {
   "cell_type": "markdown",
   "metadata": {},
   "source": [
    "La fonction suivante permet de simuler $\\overset{\\sim}{\\sigma}_{1, t}^{\\alpha \\ (i)}$ :"
   ]
  },
  {
   "cell_type": "code",
   "execution_count": 26,
   "metadata": {},
   "outputs": [],
   "source": [
    "# Attention a ca, la densite indiquee dans l'article est bizarre\n",
    "def q_sigma1(s1, sigma1_new, sigma1, alpha1_new, alpha1):\n",
    "    \n",
    "    ''' === ÉQUATION 28 page 11 ===\n",
    "    La formule est donnée avec un log '''\n",
    "    \n",
    "    lambda_a = 1 * np.random.randn(1) # définir la variance de lambda^alpha, c'est un bruit blanc gaussien\n",
    "    numerateur = np.random.dirichlet(sigma1_new * alpha1) * (lambda_a * np.random.randn(1) + np.log(sigma1))\n",
    "    denominateur = np.random.dirichlet(sigma1 * alpha1)\n",
    "    \n",
    "    return numerateur / denominateur"
   ]
  },
  {
   "cell_type": "markdown",
   "metadata": {},
   "source": [
    "La fonction suivante permet d'initialiser les états initiaux avec des lois uniformes sur les espaces de vie des variables :"
   ]
  },
  {
   "cell_type": "code",
   "execution_count": 27,
   "metadata": {},
   "outputs": [],
   "source": [
    "def initilisation_pf(N):\n",
    "    \n",
    "    stretch = 1.02\n",
    "    \n",
    "    x_min, x_max = np.min(stretch * latitude), np.max(stretch * latitude)\n",
    "    y_min, y_max = np.min(stretch * longtitude), np.max(stretch * longtitude)\n",
    "    v_max = np.max(stretch * velocity)\n",
    "    beta_min, beta_max = np.min(stretch * steering), np.max(stretch * steering)\n",
    "    beta_dot = (steering[1:] - steering[:-1]) / (time_sensors[1:] - time_sensors[:-1])\n",
    "    beta_dot_min, beta_dot_max = np.min(stretch * beta_dot), np.max(beta_dot)\n",
    "    \n",
    "    init_state = {\n",
    "        'x': np.random.uniform(low = x_min, high = x_max, size = N),\n",
    "        'y': np.random.uniform(low = y_min, high = y_max, size = N),\n",
    "        'v': np.random.uniform(low = 0, high = v_max, size = N),\n",
    "        'psi': np.random.uniform(low = 0, high = 2*np.pi, size = N),\n",
    "        'beta': np.random.uniform(low = beta_min, high = beta_max, size = N),\n",
    "        'beta_dot': np.random.uniform(low = beta_dot_min, high = beta_dot_max, size = N)\n",
    "    }\n",
    "    init_gps_state = {\n",
    "        'sigma': np.exp(np.random.normal(0, 1, size = N)), # c'est un peu arbitraire, si vous avez mieux hesitez pas\n",
    "        'alpha': np.ones((N, 2)) / (2 * N),\n",
    "        'c': np.zeros(N), # tous les gps marchent bien a priori\n",
    "    }\n",
    "    init_poids = np.ones(N) / N\n",
    "    \n",
    "    return init_state, init_gps_state, init_poids"
   ]
  },
  {
   "cell_type": "markdown",
   "metadata": {},
   "source": [
    "La fonction suivante permet de renvoyer le modèle de transition d'état :"
   ]
  },
  {
   "cell_type": "code",
   "execution_count": 112,
   "metadata": {},
   "outputs": [],
   "source": [
    "def transition_model(current_state, dt, with_noise = True):\n",
    "    \n",
    "    ''' return the state transition model taking into\n",
    "    account the state noise (v' and beta'') '''\n",
    "    \n",
    "    # Retrieve initial states\n",
    "    x = current_state['x']\n",
    "    y = current_state['y']\n",
    "    v = current_state['v']\n",
    "\n",
    "    psi = current_state['psi']\n",
    "    beta = current_state['beta']\n",
    "    beta_dot = current_state['beta_dot']\n",
    "    \n",
    "    # Next states\n",
    "    next_state = dict()\n",
    "    next_state['x'] = x + dt * v * (np.cos(psi) + (- a * np.sin(psi) + b * np.cos(psi)) * np.tan(beta) / L)\n",
    "    next_state['y'] = y + dt * v * (np.sin(psi) + (a * np.cos(psi) + b * np.sin(psi)) * np.tan(beta) / L)\n",
    "    next_state['v'] = v\n",
    "    \n",
    "    next_state['psi'] = psi + dt * v * np.tan(beta) / L\n",
    "    next_state['beta'] = beta + dt * beta_dot\n",
    "    next_state['beta_dot'] = beta_dot\n",
    "    \n",
    "    proba = 1\n",
    "    if with_noise:\n",
    "        state_noise = np.random.multivariate_normal(noise_mean, noise_cov, size=x.shape[0])\n",
    "        next_state['v'] += dt * state_noise[:, 0]\n",
    "        next_state['beta_dot'] += dt * state_noise[:, 1]\n",
    "\n",
    "    return next_state"
   ]
  },
  {
   "cell_type": "markdown",
   "metadata": {},
   "source": [
    "La fonction suivante permet de mettre à jour les poids :"
   ]
  },
  {
   "cell_type": "code",
   "execution_count": 113,
   "metadata": {},
   "outputs": [],
   "source": [
    "def update_model(N, weights, update_GPS, measures, particles, gps_state): \n",
    "    \n",
    "    # == Cas GPS\n",
    "    if update_GPS:\n",
    "        erreur_mesure = np.linalg.norm([particles['x'] - measures['x'], \n",
    "                                        particles['y'] - measures['y']], axis = 0)\n",
    "        c, c_proba = gps_state['c'], gps_state['c_proba']\n",
    "        \n",
    "        # mise à jour des poids\n",
    "        for i in range(N): \n",
    "            weights[i] *= c_proba[i] * (\n",
    "                scipy.stats.norm(0, var_gps).pdf(erreur_mesure[i]) if c[i] == 0 else p0_z1(0)\n",
    "            )\n",
    "\n",
    "    # == Cas sensors\n",
    "    else:\n",
    "        erreur_mesure_beta = ((particles['beta'] - measures['beta']) + np.pi) % (2 * np.pi) - np.pi\n",
    "        erreur_mesure_v = particles['v'] - measures['v']     \n",
    "        \n",
    "        # mise à jour des poids\n",
    "        for i in range(N): \n",
    "            weights[i] *= (\n",
    "                scipy.stats.norm(0, var_sensors['v']).pdf(erreur_mesure_v[i])\n",
    "                * scipy.stats.norm(0, var_sensors['beta']).pdf(erreur_mesure_beta[i])\n",
    "            )\n",
    "    \n",
    "    weights += 1e-300 # Eviter les divisions par 0\n",
    "    weights /= sum(weights) # normalize  \n",
    "        \n",
    "    return weights"
   ]
  },
  {
   "cell_type": "markdown",
   "metadata": {},
   "source": [
    "La fonction suivante permet de simuler $\\overset{\\sim}{\\alpha}_{1, t}^{(i)}$, $\\overset{\\sim}{c}_{1, t}^{(i)}$ et $\\overset{\\sim}{\\sigma}_{1, t}^{\\alpha \\ (i)}$ d'après le modèle graphique :"
   ]
  },
  {
   "cell_type": "code",
   "execution_count": 160,
   "metadata": {},
   "outputs": [],
   "source": [
    "def update_gps_states(N, gps_states, particles, measures):\n",
    "    \n",
    "    # Probabilite que c_{1, t} = 0:\n",
    "    gps_states_new = dict()\n",
    "    gps_states_new['c'], gps_states_new['c_proba'] = np.zeros(N), np.zeros(N)\n",
    "    gps_states_new['alpha'], gps_states_new['alpha_proba'] = np.zeros((N, 2)), np.zeros(N)\n",
    "    gps_states_new['sigma'], gps_states_new['sigma_proba'] = np.zeros(N), np.zeros(N)\n",
    "    \n",
    "    alpha = gps_states['alpha']\n",
    "    sigma = gps_states['sigma']\n",
    "    \n",
    "    for i in range(N):\n",
    "        \n",
    "        ''' === ÉQUATION 29 page 11 ===\n",
    "        Mise à jour de c '''\n",
    "        \n",
    "        z1 = [particles['x'][i], particles['y'][i]]\n",
    "        h_x_1 = [measures['x'], measures['y']]\n",
    "        \n",
    "        p_c_0 = alpha[i][0] * p0_z1(z1) / (alpha[i][0] *  p0_z1(z1) \n",
    "                                           + alpha[i][1] * multivariate_normal.pdf(z1, h_x_1, S))\n",
    "\n",
    "        sampled = np.random.binomial(1, p_c_0)\n",
    "\n",
    "        gps_states_new['c'][i] = sampled\n",
    "        gps_states_new['c_proba'][i] = p_c_0 if sampled == 0 else 1 - p_c_0\n",
    "        \n",
    "\n",
    "    for i in range(N):\n",
    "        \n",
    "        ''' === ÉQUATION 26 page 11 ===\n",
    "        Mise à jour d'alpha '''\n",
    "        \n",
    "        params = sigma[i] * alpha[i] + (gps_states_new['c'][i] == 0)\n",
    "        rv = beta(params[0], params[1])\n",
    "        try:\n",
    "            sampled = rv.rvs()\n",
    "        except:\n",
    "            print(params, sigma[i], alpha[i])\n",
    "        proba = rv.pdf(sampled)\n",
    "        \n",
    "        gps_states_new['alpha'][i] = (sampled, 1 - sampled)\n",
    "        gps_states_new['alpha_proba'][i] = proba\n",
    "        \n",
    "    rv = norm(0, 1)\n",
    "    \n",
    "    for i in range(N):\n",
    "        \n",
    "        ''' === ÉQUATION 28 page 11 ===\n",
    "        Mise à jour de sigma '''\n",
    "        # !!!! ATTENTION C'EST PAS LA BONNE FORMULE !!!!\n",
    "        # !!!! TODO: FIX !!!!\n",
    "        \n",
    "        sampled = rv.rvs()\n",
    "        gps_states_new['sigma'][i] = gps_states['sigma'][i] * np.exp(sampled)\n",
    "        gps_states_new['sigma_proba'][i] = rv.pdf(sampled)\n",
    "\n",
    "    return gps_states_new"
   ]
  },
  {
   "cell_type": "markdown",
   "metadata": {},
   "source": [
    "### 2) Filtrage particulaire"
   ]
  },
  {
   "cell_type": "code",
   "execution_count": 161,
   "metadata": {},
   "outputs": [],
   "source": [
    "def simple_resample(N, particles, gps_states, weights):\n",
    "    \n",
    "    cumulative_sum = np.cumsum(weights)\n",
    "    cumulative_sum[-1] = 1. # avoid round-off error\n",
    "    indexes = np.searchsorted(cumulative_sum, np.random.uniform(0, 1, size = N))\n",
    "    \n",
    "    # Resample according to indexes\n",
    "    particles = {key: particles[key][indexes] for key in particles}\n",
    "    gps_states = {key: gps_states[key][indexes] for key in gps_states}\n",
    "    weights.fill(1.0 / N)\n",
    "    \n",
    "    return particles, gps_states, weights"
   ]
  },
  {
   "cell_type": "markdown",
   "metadata": {},
   "source": [
    "La fonction suivante renvoie la prédiction de l'état à chaque temps :"
   ]
  },
  {
   "cell_type": "code",
   "execution_count": 162,
   "metadata": {},
   "outputs": [],
   "source": [
    "def predictions(weights, particles):\n",
    "    \n",
    "    tab_predict = [sum(particles['x'] * weights), sum(particles['y'] * weights), \n",
    "                   sum(particles['v'] * weights), sum(particles['beta'] * weights)]\n",
    "    \n",
    "    return tab_predict"
   ]
  },
  {
   "cell_type": "markdown",
   "metadata": {},
   "source": [
    "Nous implémentons finalement l'algorithme de filtrage particulaire à l'aide des fonctions précédentes :"
   ]
  },
  {
   "cell_type": "code",
   "execution_count": 163,
   "metadata": {},
   "outputs": [],
   "source": [
    "def particle_filter(N, skip = 1, verbose = 10, tmax = 1e10):\n",
    "    \n",
    "    # === Initialisation === #\n",
    "    particles, gps_states, weights = initilisation_pf(N)\n",
    "    t_previous = time[0] / 1000.\n",
    "    \n",
    "    # === Itérations === #\n",
    "    for i in range(min(len(time), tmax)):\n",
    "        \n",
    "        if i % verbose == 0:\n",
    "            print(f'iteration {i // skip} at index {i}')\n",
    "            \n",
    "        if i % skip == 0:\n",
    "            t = time[i] / 1000.\n",
    "            particles = transition_model(particles, dt = t - t_previous)\n",
    "\n",
    "            update_GPS = sensor[i] == 1\n",
    "            \n",
    "            if update_GPS:\n",
    "                measures = {'x': latitude[index[i]], 'y': longtitude[index[i]]}\n",
    "                gps_states = update_gps_states(N, gps_states, particles, measures)\n",
    "                \n",
    "            else:\n",
    "                measures = {'beta': steering[index[i]], 'v': velocity[index[i]]}\n",
    "\n",
    "            weights = update_model(N, weights, update_GPS, measures, particles, gps_states)\n",
    "\n",
    "            # Resampling\n",
    "            n_eff = 1 / np.sum(weights ** 2)\n",
    "            if n_eff <= .8 * N:\n",
    "                print('Resampled')\n",
    "                particles, gps_states, weights = simple_resample(N, particles, gps_states, weights)\n",
    "            \n",
    "            t_previous = t\n",
    "            list_predict.append(predictions(weights, particles))\n",
    "            \n",
    "    return list_predict"
   ]
  },
  {
   "cell_type": "markdown",
   "metadata": {},
   "source": [
    "### TESTS"
   ]
  },
  {
   "cell_type": "code",
   "execution_count": null,
   "metadata": {},
   "outputs": [],
   "source": [
    "list_predict = list()\n",
    "\n",
    "time_sensors, steering, velocity = readSensorData(sensors_df)\n",
    "time_gps, latitude, longtitude = readGPSData(gps_df)\n",
    "time, sensor, index = scanData()"
   ]
  },
  {
   "cell_type": "code",
   "execution_count": 164,
   "metadata": {
    "scrolled": true
   },
   "outputs": [
    {
     "name": "stdout",
     "output_type": "stream",
     "text": [
      "iteration 0 at index 0\n",
      "Resampled\n",
      "iteration 10 at index 10\n",
      "Resampled\n",
      "iteration 20 at index 20\n",
      "Resampled\n",
      "iteration 30 at index 30\n",
      "Resampled\n",
      "iteration 40 at index 40\n",
      "Resampled\n",
      "iteration 50 at index 50\n",
      "Resampled\n",
      "iteration 60 at index 60\n",
      "Resampled\n",
      "iteration 70 at index 70\n",
      "Resampled\n",
      "Resampled\n",
      "iteration 80 at index 80\n",
      "Resampled\n",
      "iteration 90 at index 90\n",
      "Resampled\n",
      "iteration 100 at index 100\n",
      "Resampled\n",
      "iteration 110 at index 110\n",
      "Resampled\n",
      "iteration 120 at index 120\n",
      "Resampled\n",
      "iteration 130 at index 130\n",
      "Resampled\n",
      "iteration 140 at index 140\n",
      "Resampled\n",
      "iteration 150 at index 150\n",
      "Resampled\n",
      "iteration 160 at index 160\n",
      "Resampled\n",
      "Resampled\n",
      "iteration 170 at index 170\n",
      "Resampled\n",
      "iteration 180 at index 180\n",
      "Resampled\n",
      "iteration 190 at index 190\n",
      "Resampled\n"
     ]
    }
   ],
   "source": [
    "list_predict = particle_filter(N = 3000, skip = 1, verbose = 10, tmax = 200)"
   ]
  },
  {
   "cell_type": "code",
   "execution_count": 165,
   "metadata": {},
   "outputs": [
    {
     "data": {
      "text/plain": [
       "200"
      ]
     },
     "execution_count": 165,
     "metadata": {},
     "output_type": "execute_result"
    }
   ],
   "source": [
    "len(list_predict)"
   ]
  },
  {
   "cell_type": "code",
   "execution_count": 166,
   "metadata": {},
   "outputs": [
    {
     "data": {
      "text/plain": [
       "[<matplotlib.lines.Line2D at 0x7fd03d833c88>]"
      ]
     },
     "execution_count": 166,
     "metadata": {},
     "output_type": "execute_result"
    },
    {
     "data": {
      "image/png": "[encoded data removed]",
      "text/plain": [
       "<Figure size 432x288 with 1 Axes>"
      ]
     },
     "metadata": {
      "needs_background": "light"
     },
     "output_type": "display_data"
    }
   ],
   "source": [
    "plt.plot(list_predict[:][0], list_predict[:][1])\n",
    "plt.plot(latitude, longtitude)"
   ]
  },
  {
   "cell_type": "markdown",
   "metadata": {},
   "source": [
    "# III. Implémentation de l'algorithme 5 : Rao-Blackwell UKF"
   ]
  },
  {
   "cell_type": "markdown",
   "metadata": {},
   "source": [
    "L'algorithme final est implémenté ci-après :"
   ]
  },
  {
   "cell_type": "code",
   "execution_count": null,
   "metadata": {},
   "outputs": [],
   "source": [
    "def RaoBlackwell_UKF (n_particules, eta = 0.8*n_particules):\n",
    "    \n",
    "    # === Initialisation === #\n",
    "    particles, gps_states, weights = initilisation_pf(N)\n",
    "    \n",
    "    # === Itérations === #\n",
    "    for i in range(len(time)):\n",
    "        \n",
    "        t = time[i] / 1000.\n",
    "        update_GPS = (sensor[i] == 1)\n",
    "        \n",
    "        # Si on reçoit une mesure du GPS\n",
    "        if update_GPS:\n",
    "            \n",
    "            # Update de c, alpha et sigma :\n",
    "            measures = {'x': latitude[index[i]], 'y': longtitude[index[i]]}\n",
    "            gps_states = update_gps_states(n_particules, gps_states, particles, measures)\n",
    "            \n",
    "            # Update de x chapeau et SIGMA avec UKF :\n",
    "            xchap, SIGMA = UKF(xhap, SIGMA, gps_state['c'], measures) # en cours\n",
    "            \n",
    "        # Si on reçoit une mesure du sensor\n",
    "        else:\n",
    "            \n",
    "            measures = {'beta': steering[index[i]], 'v': velocity[index[i]]}\n",
    "            \n",
    "            # Update de x chapeau et SIGMA avec UKF :\n",
    "            xchap, SIGMA = UKF(xhap, SIGMA, measures) \n",
    "            \n",
    "            # Update des variables liées au GPS :\n",
    "            ''' !!! je comprends ce qu ils veulent qu on mette à jour ici car si on met à jour\n",
    "            c, alpha et sigma, on fait la meme chose que dans \"if update_GPS:\" !!! '''\n",
    "            # Les variables c, alpha et sigma ne sont pas censées changer.\n",
    "            \n",
    "        # Update des poids :\n",
    "        weights = update_model(n_particules, weights, update_GPS, measures, particles, gps_states)\n",
    "        \n",
    "        # Resampling :\n",
    "        Neff = 1 ./ sum(weights ** 2)\n",
    "        if (Neff <= eta) :\n",
    "            print('Resampled')\n",
    "            particles, gps_states, weights = simple_resample(n_particules, particles, gps_states, weights)\n",
    "        \n",
    "        t_previous = t\n",
    "        list_predict.append(predictions(weights, particles))\n",
    "            \n",
    "    return list_predict"
   ]
  },
  {
   "cell_type": "markdown",
   "metadata": {},
   "source": [
    "# IV. Tests des algorithmes"
   ]
  },
  {
   "cell_type": "markdown",
   "metadata": {},
   "source": [
    "### 1) Filtrage particulaire"
   ]
  },
  {
   "cell_type": "code",
   "execution_count": null,
   "metadata": {},
   "outputs": [],
   "source": []
  },
  {
   "cell_type": "markdown",
   "metadata": {},
   "source": [
    "### 2) Rao-Blackwell UKF"
   ]
  },
  {
   "cell_type": "code",
   "execution_count": null,
   "metadata": {},
   "outputs": [],
   "source": []
  },
  {
   "cell_type": "code",
   "execution_count": null,
   "metadata": {},
   "outputs": [],
   "source": []
  },
  {
   "cell_type": "markdown",
   "metadata": {},
   "source": [
    "# A faire (pour avoir l'algo pf et l'algo rao-blackwell):\n",
    "1 - Sampler le state vector $\\tilde{x}_t^{(i)}$ (prendre en compte le state noise), le sensor state variable $\\tilde{c}_t^{(i)}$ et les autres pour les particules\n",
    "\n",
    "2 - Utiliser $\\tilde{c}_t^{(i)}$  pour la modelisation du gps\n",
    "\n",
    "3 - Bien choisir l'importance probability $q$ pour l'algo standard\n",
    "\n",
    "3 - Trouver la proba cheloue de l'algo Rao-blackwell $p(z_{k,t}|\\textbf{z}_{1:t-1})$\n",
    "\n",
    "4 - Implementer (ou trouver une implementation) de l'UKF\n",
    "\n",
    "5 - Revoir les distributions initiales $p_0$ (en regardant les histogrammes des mesures par ex)\n",
    "\n"
   ]
  },
  {
   "cell_type": "code",
   "execution_count": null,
   "metadata": {},
   "outputs": [],
   "source": []
  }
 ],
 "metadata": {
  "kernelspec": {
   "display_name": "Python 3",
   "language": "python",
   "name": "python3"
  },
  "language_info": {
   "codemirror_mode": {
    "name": "ipython",
    "version": 3
   },
   "file_extension": ".py",
   "mimetype": "text/x-python",
   "name": "python",
   "nbconvert_exporter": "python",
   "pygments_lexer": "ipython3",
   "version": "3.7.4"
  }
 },
 "nbformat": 4,
 "nbformat_minor": 2
}
